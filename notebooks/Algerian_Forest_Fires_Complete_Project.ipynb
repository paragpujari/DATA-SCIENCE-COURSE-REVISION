{
  "cells": [
    {
      "cell_type": "markdown",
      "metadata": {
        "id": "zkQT7LUAk762"
      },
      "source": [
        "**Algerian Forest Fire Dataset:**\n",
        "\n",
        "**DATASET INFORMATION:**\n",
        "\n",
        "This dataset contains 244 instances of data. This dataset is divided into two different regions namely, Bejaia region located in the north-east of Algeria\n",
        "and Sidi-Bel abbes region located in the north-west of Algeira Forest.\n",
        "\n",
        "The time period of this dataset is from June 2012 till September 2012. This dataset is divided from 1 till 122 index of Bejaia region and from 123 till 244 region of Sidi-Bel region.\n",
        "\n",
        "This dataset instances has been classified into fire and not fire classes. There are total 11 input attributes and 1 output attribute(class).\n",
        "\n",
        "\n",
        "\n",
        "\n",
        "**AIM OF THIS PROJECT:-**\n",
        "\n",
        "The main aim of the project is to find the Fire Weather Index values for all the inputs for the given regions provided.\n",
        "\n",
        "\n",
        "\n",
        "\n",
        "\n",
        "**DATASET ATTRIBUTES CHARACTERISTICS:**\n",
        "\n",
        "(i) Date(DD/MM/YYYY): Date, Month and Year for the Weather Data Observations.\n",
        "\n",
        "(ii) Temperature    : Temperature of the regions.\n",
        "\n",
        "(iii) RH            : Relative Humidity of the region.\n",
        "\n",
        "(iv)  Ws            : Wind Speed in km/hr.\n",
        "\n",
        "(v)  Rain           : Total rain received in mm per day.\n",
        "\n",
        "(vi) Fine Fuel Moisture Code(FFMC) : Fine Fuel Moisture Code received from the FWI system.\n",
        "\n",
        "(vii) Duff Moisture Code(DMC) : Duff Moisture Code received from the FWI system\n",
        "\n",
        "(viii) Drought Code(DC) : Drought Code received from the FWI System.\n",
        "\n",
        "(ix) Initial Speed Index (ISI) : Initial Speed Index received from the FWI System\n",
        "\n",
        "(x) Buildup Index(BUI) : Build up Index received from the FWI System\n",
        "\n",
        "(xi) Fire Weather Index ( FWI) : It's index value is from 0 to 31.1\n",
        "\n",
        "(xii) Classes : two classes Fire or Not Fire."
      ]
    },
    {
      "cell_type": "markdown",
      "metadata": {
        "id": "LdESDZTGqTRv"
      },
      "source": [
        "**1. DATA GATHERING AND DATA INFORMATION:**"
      ]
    },
    {
      "cell_type": "code",
      "execution_count": 235,
      "metadata": {
        "id": "oUPowlBRpemr"
      },
      "outputs": [],
      "source": [
        "# import all the necessary libraries\n",
        "\n",
        "import numpy as np\n",
        "import pandas as pd\n",
        "import matplotlib.pyplot as plt\n",
        "%matplotlib inline\n",
        "import seaborn as sns"
      ]
    },
    {
      "cell_type": "code",
      "execution_count": 236,
      "metadata": {
        "id": "NF4g4b7onIhp"
      },
      "outputs": [],
      "source": [
        "# Loading the dataset\n",
        "data = pd.read_csv('/content/Algerian_forest_fires_cleaned_dataset.csv')"
      ]
    },
    {
      "cell_type": "code",
      "execution_count": 237,
      "metadata": {
        "colab": {
          "base_uri": "https://localhost:8080/"
        },
        "id": "C_O4tjAJqQKQ",
        "outputId": "c620d8dc-f4e2-46d7-e85f-b0a9b0b1d65f"
      },
      "outputs": [
        {
          "name": "stdout",
          "output_type": "stream",
          "text": [
            "   day  month  year  Temperature  RH  Ws  Rain  FFMC  DMC    DC  ISI  BUI  \\\n",
            "0    1      6  2012           29  57  18   0.0  65.7  3.4   7.6  1.3  3.4   \n",
            "1    2      6  2012           29  61  13   1.3  64.4  4.1   7.6  1.0  3.9   \n",
            "2    3      6  2012           26  82  22  13.1  47.1  2.5   7.1  0.3  2.7   \n",
            "3    4      6  2012           25  89  13   2.5  28.6  1.3   6.9  0.0  1.7   \n",
            "4    5      6  2012           27  77  16   0.0  64.8  3.0  14.2  1.2  3.9   \n",
            "\n",
            "   FWI      Classes  Region  \n",
            "0  0.5  not fire          0  \n",
            "1  0.4  not fire          0  \n",
            "2  0.1  not fire          0  \n",
            "3  0.0  not fire          0  \n",
            "4  0.5  not fire          0  \n"
          ]
        }
      ],
      "source": [
        "# display the first five rows of the dataset\n",
        "print(data.head())"
      ]
    },
    {
      "cell_type": "code",
      "execution_count": 238,
      "metadata": {
        "colab": {
          "base_uri": "https://localhost:8080/"
        },
        "id": "pkeDvxwNqd0g",
        "outputId": "768bcfd8-8801-4010-facb-ffc2dc12f12d"
      },
      "outputs": [
        {
          "name": "stdout",
          "output_type": "stream",
          "text": [
            "     day  month  year  Temperature  RH  Ws  Rain  FFMC   DMC    DC  ISI   BUI  \\\n",
            "238   26      9  2012           30  65  14   0.0  85.4  16.0  44.5  4.5  16.9   \n",
            "239   27      9  2012           28  87  15   4.4  41.1   6.5   8.0  0.1   6.2   \n",
            "240   28      9  2012           27  87  29   0.5  45.9   3.5   7.9  0.4   3.4   \n",
            "241   29      9  2012           24  54  18   0.1  79.7   4.3  15.2  1.7   5.1   \n",
            "242   30      9  2012           24  64  15   0.2  67.3   3.8  16.5  1.2   4.8   \n",
            "\n",
            "     FWI       Classes  Region  \n",
            "238  6.5       fire          1  \n",
            "239  0.0   not fire          1  \n",
            "240  0.2   not fire          1  \n",
            "241  0.7   not fire          1  \n",
            "242  0.5  not fire           1  \n"
          ]
        }
      ],
      "source": [
        "# display the last five rows of the dataset\n",
        "print(data.tail())"
      ]
    },
    {
      "cell_type": "code",
      "execution_count": 239,
      "metadata": {
        "colab": {
          "base_uri": "https://localhost:8080/"
        },
        "id": "THXKaYQoqoDI",
        "outputId": "8090d5a0-edbf-4729-bac1-9a1e86044b7b"
      },
      "outputs": [
        {
          "name": "stdout",
          "output_type": "stream",
          "text": [
            "(243, 15)\n"
          ]
        }
      ],
      "source": [
        "# shape of the dataset\n",
        "print(data.shape)"
      ]
    },
    {
      "cell_type": "code",
      "execution_count": 240,
      "metadata": {
        "colab": {
          "base_uri": "https://localhost:8080/"
        },
        "id": "arYHNqmTqxjv",
        "outputId": "07034fb1-f1ff-481b-a4f9-bef3b5452953"
      },
      "outputs": [
        {
          "name": "stdout",
          "output_type": "stream",
          "text": [
            "<class 'pandas.core.frame.DataFrame'>\n",
            "RangeIndex: 243 entries, 0 to 242\n",
            "Data columns (total 15 columns):\n",
            " #   Column       Non-Null Count  Dtype  \n",
            "---  ------       --------------  -----  \n",
            " 0   day          243 non-null    int64  \n",
            " 1   month        243 non-null    int64  \n",
            " 2   year         243 non-null    int64  \n",
            " 3   Temperature  243 non-null    int64  \n",
            " 4   RH           243 non-null    int64  \n",
            " 5   Ws           243 non-null    int64  \n",
            " 6   Rain         243 non-null    float64\n",
            " 7   FFMC         243 non-null    float64\n",
            " 8   DMC          243 non-null    float64\n",
            " 9   DC           243 non-null    float64\n",
            " 10  ISI          243 non-null    float64\n",
            " 11  BUI          243 non-null    float64\n",
            " 12  FWI          243 non-null    float64\n",
            " 13  Classes      243 non-null    object \n",
            " 14  Region       243 non-null    int64  \n",
            "dtypes: float64(7), int64(7), object(1)\n",
            "memory usage: 28.6+ KB\n",
            "None\n"
          ]
        }
      ],
      "source": [
        "# Get the information about all the columns in the dataset\n",
        "print(data.info())"
      ]
    },
    {
      "cell_type": "code",
      "execution_count": 241,
      "metadata": {
        "colab": {
          "base_uri": "https://localhost:8080/"
        },
        "id": "OSaO5E3sq6r9",
        "outputId": "1c59dd20-75cc-43d7-e13a-83d31128441c"
      },
      "outputs": [
        {
          "name": "stdout",
          "output_type": "stream",
          "text": [
            "              day       month    year  Temperature          RH          Ws  \\\n",
            "count  243.000000  243.000000   243.0   243.000000  243.000000  243.000000   \n",
            "mean    15.761317    7.502058  2012.0    32.152263   62.041152   15.493827   \n",
            "std      8.842552    1.114793     0.0     3.628039   14.828160    2.811385   \n",
            "min      1.000000    6.000000  2012.0    22.000000   21.000000    6.000000   \n",
            "25%      8.000000    7.000000  2012.0    30.000000   52.500000   14.000000   \n",
            "50%     16.000000    8.000000  2012.0    32.000000   63.000000   15.000000   \n",
            "75%     23.000000    8.000000  2012.0    35.000000   73.500000   17.000000   \n",
            "max     31.000000    9.000000  2012.0    42.000000   90.000000   29.000000   \n",
            "\n",
            "             Rain        FFMC         DMC          DC         ISI         BUI  \\\n",
            "count  243.000000  243.000000  243.000000  243.000000  243.000000  243.000000   \n",
            "mean     0.762963   77.842387   14.680658   49.430864    4.742387   16.690535   \n",
            "std      2.003207   14.349641   12.393040   47.665606    4.154234   14.228421   \n",
            "min      0.000000   28.600000    0.700000    6.900000    0.000000    1.100000   \n",
            "25%      0.000000   71.850000    5.800000   12.350000    1.400000    6.000000   \n",
            "50%      0.000000   83.300000   11.300000   33.100000    3.500000   12.400000   \n",
            "75%      0.500000   88.300000   20.800000   69.100000    7.250000   22.650000   \n",
            "max     16.800000   96.000000   65.900000  220.400000   19.000000   68.000000   \n",
            "\n",
            "              FWI      Region  \n",
            "count  243.000000  243.000000  \n",
            "mean     7.035391    0.497942  \n",
            "std      7.440568    0.501028  \n",
            "min      0.000000    0.000000  \n",
            "25%      0.700000    0.000000  \n",
            "50%      4.200000    0.000000  \n",
            "75%     11.450000    1.000000  \n",
            "max     31.100000    1.000000  \n"
          ]
        }
      ],
      "source": [
        "# Get the statistical summary about the dataset\n",
        "print(data.describe())"
      ]
    },
    {
      "cell_type": "code",
      "execution_count": 242,
      "metadata": {
        "colab": {
          "base_uri": "https://localhost:8080/"
        },
        "id": "Ed-IaESirMTC",
        "outputId": "9f74da8f-561c-4a37-fa9c-77d843a1a1a8"
      },
      "outputs": [
        {
          "name": "stdout",
          "output_type": "stream",
          "text": [
            "     day  month  year  Temperature  RH  Ws  Rain  FFMC   DMC    DC  ISI   BUI  \\\n",
            "0      1      6  2012           29  57  18   0.0  65.7   3.4   7.6  1.3   3.4   \n",
            "1      2      6  2012           29  61  13   1.3  64.4   4.1   7.6  1.0   3.9   \n",
            "2      3      6  2012           26  82  22  13.1  47.1   2.5   7.1  0.3   2.7   \n",
            "3      4      6  2012           25  89  13   2.5  28.6   1.3   6.9  0.0   1.7   \n",
            "4      5      6  2012           27  77  16   0.0  64.8   3.0  14.2  1.2   3.9   \n",
            "..   ...    ...   ...          ...  ..  ..   ...   ...   ...   ...  ...   ...   \n",
            "238   26      9  2012           30  65  14   0.0  85.4  16.0  44.5  4.5  16.9   \n",
            "239   27      9  2012           28  87  15   4.4  41.1   6.5   8.0  0.1   6.2   \n",
            "240   28      9  2012           27  87  29   0.5  45.9   3.5   7.9  0.4   3.4   \n",
            "241   29      9  2012           24  54  18   0.1  79.7   4.3  15.2  1.7   5.1   \n",
            "242   30      9  2012           24  64  15   0.2  67.3   3.8  16.5  1.2   4.8   \n",
            "\n",
            "     FWI       Classes  Region  \n",
            "0    0.5   not fire          0  \n",
            "1    0.4   not fire          0  \n",
            "2    0.1   not fire          0  \n",
            "3    0.0   not fire          0  \n",
            "4    0.5   not fire          0  \n",
            "..   ...           ...     ...  \n",
            "238  6.5       fire          1  \n",
            "239  0.0   not fire          1  \n",
            "240  0.2   not fire          1  \n",
            "241  0.7   not fire          1  \n",
            "242  0.5  not fire           1  \n",
            "\n",
            "[243 rows x 15 columns]\n"
          ]
        }
      ],
      "source": [
        "# Load the entire dataset\n",
        "print(data)"
      ]
    },
    {
      "cell_type": "markdown",
      "metadata": {
        "id": "KImA6sXhQlY5"
      },
      "source": [
        "**2. EXPLORATORY DATA ANALYSIS AND DATA CLEANING:**"
      ]
    },
    {
      "cell_type": "code",
      "execution_count": 243,
      "metadata": {
        "colab": {
          "base_uri": "https://localhost:8080/",
          "height": 53
        },
        "id": "b8RGpGQyQrUU",
        "outputId": "8cb90199-cc3c-4ead-e227-89fc619f5d68"
      },
      "outputs": [
        {
          "data": {
            "application/vnd.google.colaboratory.intrinsic+json": {
              "repr_error": "'str' object has no attribute 'empty'",
              "type": "dataframe"
            },
            "text/html": [
              "\n",
              "  <div id=\"df-583bc740-654a-4d50-9693-ac6d14b4d8ac\" class=\"colab-df-container\">\n",
              "    <div>\n",
              "<style scoped>\n",
              "    .dataframe tbody tr th:only-of-type {\n",
              "        vertical-align: middle;\n",
              "    }\n",
              "\n",
              "    .dataframe tbody tr th {\n",
              "        vertical-align: top;\n",
              "    }\n",
              "\n",
              "    .dataframe thead th {\n",
              "        text-align: right;\n",
              "    }\n",
              "</style>\n",
              "<table border=\"1\" class=\"dataframe\">\n",
              "  <thead>\n",
              "    <tr style=\"text-align: right;\">\n",
              "      <th></th>\n",
              "      <th>day</th>\n",
              "      <th>month</th>\n",
              "      <th>year</th>\n",
              "      <th>Temperature</th>\n",
              "      <th>RH</th>\n",
              "      <th>Ws</th>\n",
              "      <th>Rain</th>\n",
              "      <th>FFMC</th>\n",
              "      <th>DMC</th>\n",
              "      <th>DC</th>\n",
              "      <th>ISI</th>\n",
              "      <th>BUI</th>\n",
              "      <th>FWI</th>\n",
              "      <th>Classes</th>\n",
              "      <th>Region</th>\n",
              "    </tr>\n",
              "  </thead>\n",
              "  <tbody>\n",
              "  </tbody>\n",
              "</table>\n",
              "</div>\n",
              "    <div class=\"colab-df-buttons\">\n",
              "\n",
              "  <div class=\"colab-df-container\">\n",
              "    <button class=\"colab-df-convert\" onclick=\"convertToInteractive('df-583bc740-654a-4d50-9693-ac6d14b4d8ac')\"\n",
              "            title=\"Convert this dataframe to an interactive table.\"\n",
              "            style=\"display:none;\">\n",
              "\n",
              "  <svg xmlns=\"http://www.w3.org/2000/svg\" height=\"24px\" viewBox=\"0 -960 960 960\">\n",
              "    <path d=\"M120-120v-720h720v720H120Zm60-500h600v-160H180v160Zm220 220h160v-160H400v160Zm0 220h160v-160H400v160ZM180-400h160v-160H180v160Zm440 0h160v-160H620v160ZM180-180h160v-160H180v160Zm440 0h160v-160H620v160Z\"/>\n",
              "  </svg>\n",
              "    </button>\n",
              "\n",
              "  <style>\n",
              "    .colab-df-container {\n",
              "      display:flex;\n",
              "      gap: 12px;\n",
              "    }\n",
              "\n",
              "    .colab-df-convert {\n",
              "      background-color: #E8F0FE;\n",
              "      border: none;\n",
              "      border-radius: 50%;\n",
              "      cursor: pointer;\n",
              "      display: none;\n",
              "      fill: #1967D2;\n",
              "      height: 32px;\n",
              "      padding: 0 0 0 0;\n",
              "      width: 32px;\n",
              "    }\n",
              "\n",
              "    .colab-df-convert:hover {\n",
              "      background-color: #E2EBFA;\n",
              "      box-shadow: 0px 1px 2px rgba(60, 64, 67, 0.3), 0px 1px 3px 1px rgba(60, 64, 67, 0.15);\n",
              "      fill: #174EA6;\n",
              "    }\n",
              "\n",
              "    .colab-df-buttons div {\n",
              "      margin-bottom: 4px;\n",
              "    }\n",
              "\n",
              "    [theme=dark] .colab-df-convert {\n",
              "      background-color: #3B4455;\n",
              "      fill: #D2E3FC;\n",
              "    }\n",
              "\n",
              "    [theme=dark] .colab-df-convert:hover {\n",
              "      background-color: #434B5C;\n",
              "      box-shadow: 0px 1px 3px 1px rgba(0, 0, 0, 0.15);\n",
              "      filter: drop-shadow(0px 1px 2px rgba(0, 0, 0, 0.3));\n",
              "      fill: #FFFFFF;\n",
              "    }\n",
              "  </style>\n",
              "\n",
              "    <script>\n",
              "      const buttonEl =\n",
              "        document.querySelector('#df-583bc740-654a-4d50-9693-ac6d14b4d8ac button.colab-df-convert');\n",
              "      buttonEl.style.display =\n",
              "        google.colab.kernel.accessAllowed ? 'block' : 'none';\n",
              "\n",
              "      async function convertToInteractive(key) {\n",
              "        const element = document.querySelector('#df-583bc740-654a-4d50-9693-ac6d14b4d8ac');\n",
              "        const dataTable =\n",
              "          await google.colab.kernel.invokeFunction('convertToInteractive',\n",
              "                                                    [key], {});\n",
              "        if (!dataTable) return;\n",
              "\n",
              "        const docLinkHtml = 'Like what you see? Visit the ' +\n",
              "          '<a target=\"_blank\" href=https://colab.research.google.com/notebooks/data_table.ipynb>data table notebook</a>'\n",
              "          + ' to learn more about interactive tables.';\n",
              "        element.innerHTML = '';\n",
              "        dataTable['output_type'] = 'display_data';\n",
              "        await google.colab.output.renderOutput(dataTable, element);\n",
              "        const docLink = document.createElement('div');\n",
              "        docLink.innerHTML = docLinkHtml;\n",
              "        element.appendChild(docLink);\n",
              "      }\n",
              "    </script>\n",
              "  </div>\n",
              "\n",
              "\n",
              "    </div>\n",
              "  </div>\n"
            ],
            "text/plain": [
              "Empty DataFrame\n",
              "Columns: [day, month, year, Temperature, RH, Ws, Rain, FFMC, DMC, DC, ISI, BUI, FWI, Classes, Region]\n",
              "Index: []"
            ]
          },
          "execution_count": 243,
          "metadata": {},
          "output_type": "execute_result"
        }
      ],
      "source": [
        "# Checking for the missing values in the dataset\n",
        "data[data.isnull().any(axis = 1)]"
      ]
    },
    {
      "cell_type": "markdown",
      "metadata": {
        "id": "B_iVQOyfQ_gD"
      },
      "source": [
        "**OBSERVATIONS:**\n",
        "\n",
        "*   There are no missing values in the given dataset.\n",
        "\n"
      ]
    },
    {
      "cell_type": "markdown",
      "metadata": {
        "id": "4LRdYMYfRbCV"
      },
      "source": [
        "**DATASET INFO:**\n",
        "\n",
        "*  The dataset is divided into two different regions i.e. Bejaia region named as Region 0 starting from index 2 to index 123 in the dataset.\n",
        "\n",
        "*  Sidi-Bel Region in the Region 1 from index 124 to 244 in the dataset.\n",
        "\n"
      ]
    },
    {
      "cell_type": "code",
      "execution_count": 244,
      "metadata": {
        "colab": {
          "base_uri": "https://localhost:8080/"
        },
        "id": "xNVgIiJVRJX5",
        "outputId": "d0820089-f737-4491-e7e7-9115ddbee72e"
      },
      "outputs": [
        {
          "name": "stdout",
          "output_type": "stream",
          "text": [
            "<class 'pandas.core.frame.DataFrame'>\n",
            "RangeIndex: 243 entries, 0 to 242\n",
            "Data columns (total 15 columns):\n",
            " #   Column       Non-Null Count  Dtype  \n",
            "---  ------       --------------  -----  \n",
            " 0   day          243 non-null    int64  \n",
            " 1   month        243 non-null    int64  \n",
            " 2   year         243 non-null    int64  \n",
            " 3   Temperature  243 non-null    int64  \n",
            " 4   RH           243 non-null    int64  \n",
            " 5   Ws           243 non-null    int64  \n",
            " 6   Rain         243 non-null    float64\n",
            " 7   FFMC         243 non-null    float64\n",
            " 8   DMC          243 non-null    float64\n",
            " 9   DC           243 non-null    float64\n",
            " 10  ISI          243 non-null    float64\n",
            " 11  BUI          243 non-null    float64\n",
            " 12  FWI          243 non-null    float64\n",
            " 13  Classes      243 non-null    object \n",
            " 14  Region       243 non-null    int64  \n",
            "dtypes: float64(7), int64(7), object(1)\n",
            "memory usage: 28.6+ KB\n",
            "None\n"
          ]
        }
      ],
      "source": [
        "# Get the information about the dataset\n",
        "print(data.info())"
      ]
    },
    {
      "cell_type": "code",
      "execution_count": 245,
      "metadata": {
        "id": "O2Wddi9xSTJI"
      },
      "outputs": [],
      "source": [
        "# convert all the columns into object type\n",
        "data[['day']] = data[['day']].astype('object')\n",
        "data[['month']] = data[['month']].astype('object')\n",
        "data[['year']] = data[['year']].astype('object')\n",
        "data[['Temperature']] = data[['Temperature']].astype('object')\n",
        "data[['RH']] = data[['RH']].astype('object')\n",
        "data[['Ws']] = data[['Ws']].astype('object')\n",
        "\n",
        "data[['Rain']] = data[['Rain']].astype('object')\n",
        "data[['FFMC']] = data[['FFMC']].astype('object')\n",
        "data[['DMC']] = data[['DMC']].astype('object')\n",
        "data[['DC']] = data[['DC']].astype('object')\n",
        "data[['ISI']] = data[['ISI']].astype('object')\n",
        "data[['BUI']] = data[['BUI']].astype('object')\n",
        "data[['FWI']] = data[['FWI']].astype('object')\n",
        "\n",
        "data[['Region']] = data[['Region']].astype('object')"
      ]
    },
    {
      "cell_type": "code",
      "execution_count": 246,
      "metadata": {
        "colab": {
          "base_uri": "https://localhost:8080/"
        },
        "id": "RGW49y6XTEuI",
        "outputId": "e7354ce0-1032-43c2-cfc5-6a0cc91faf57"
      },
      "outputs": [
        {
          "name": "stdout",
          "output_type": "stream",
          "text": [
            "<class 'pandas.core.frame.DataFrame'>\n",
            "RangeIndex: 243 entries, 0 to 242\n",
            "Data columns (total 15 columns):\n",
            " #   Column       Non-Null Count  Dtype \n",
            "---  ------       --------------  ----- \n",
            " 0   day          243 non-null    object\n",
            " 1   month        243 non-null    object\n",
            " 2   year         243 non-null    object\n",
            " 3   Temperature  243 non-null    object\n",
            " 4   RH           243 non-null    object\n",
            " 5   Ws           243 non-null    object\n",
            " 6   Rain         243 non-null    object\n",
            " 7   FFMC         243 non-null    object\n",
            " 8   DMC          243 non-null    object\n",
            " 9   DC           243 non-null    object\n",
            " 10  ISI          243 non-null    object\n",
            " 11  BUI          243 non-null    object\n",
            " 12  FWI          243 non-null    object\n",
            " 13  Classes      243 non-null    object\n",
            " 14  Region       243 non-null    object\n",
            "dtypes: object(15)\n",
            "memory usage: 28.6+ KB\n",
            "None\n"
          ]
        }
      ],
      "source": [
        "print(data.info())"
      ]
    },
    {
      "cell_type": "code",
      "execution_count": 247,
      "metadata": {
        "id": "2zxhA0-BTISu"
      },
      "outputs": [],
      "source": [
        "# Convert all the columns to their respective data types\n",
        "\n",
        "data[['day']] = data[['day']].astype('int64')\n",
        "data[['month']] = data[['month']].astype('int64')\n",
        "data[['year']] = data[['year']].astype('int64')\n",
        "data[['Temperature']] = data[['Temperature']].astype('int64')\n",
        "data[['RH']] = data[['RH']].astype('int64')\n",
        "data[['Ws']] = data[['Ws']].astype('int64')\n",
        "\n",
        "data[['Rain']] = data[['Rain']].astype('float64')\n",
        "data[['FFMC']] = data[['FFMC']].astype('float64')\n",
        "data[['DMC']] = data[['DMC']].astype('float64')\n",
        "data[['DC']] = data[['DC']].astype('float64')\n",
        "data[['ISI']] = data[['ISI']].astype('float64')\n",
        "data[['BUI']] = data[['BUI']].astype('float64')\n",
        "data[['FWI']] = data[['FWI']].astype('float64')\n",
        "\n",
        "data[['Region']] = data[['Region']].astype('int64')"
      ]
    },
    {
      "cell_type": "code",
      "execution_count": 248,
      "metadata": {
        "colab": {
          "base_uri": "https://localhost:8080/"
        },
        "id": "1-X6g8q5TxvY",
        "outputId": "6e26df71-2ec1-4b7e-c23b-b8101e3b6f95"
      },
      "outputs": [
        {
          "name": "stdout",
          "output_type": "stream",
          "text": [
            "<class 'pandas.core.frame.DataFrame'>\n",
            "RangeIndex: 243 entries, 0 to 242\n",
            "Data columns (total 15 columns):\n",
            " #   Column       Non-Null Count  Dtype  \n",
            "---  ------       --------------  -----  \n",
            " 0   day          243 non-null    int64  \n",
            " 1   month        243 non-null    int64  \n",
            " 2   year         243 non-null    int64  \n",
            " 3   Temperature  243 non-null    int64  \n",
            " 4   RH           243 non-null    int64  \n",
            " 5   Ws           243 non-null    int64  \n",
            " 6   Rain         243 non-null    float64\n",
            " 7   FFMC         243 non-null    float64\n",
            " 8   DMC          243 non-null    float64\n",
            " 9   DC           243 non-null    float64\n",
            " 10  ISI          243 non-null    float64\n",
            " 11  BUI          243 non-null    float64\n",
            " 12  FWI          243 non-null    float64\n",
            " 13  Classes      243 non-null    object \n",
            " 14  Region       243 non-null    int64  \n",
            "dtypes: float64(7), int64(7), object(1)\n",
            "memory usage: 28.6+ KB\n"
          ]
        }
      ],
      "source": [
        "data.info()"
      ]
    },
    {
      "cell_type": "code",
      "execution_count": 249,
      "metadata": {
        "colab": {
          "base_uri": "https://localhost:8080/",
          "height": 206
        },
        "id": "bxeGguKzT0D_",
        "outputId": "97ebd108-e12c-4eed-b080-3492e76f940d"
      },
      "outputs": [
        {
          "data": {
            "application/vnd.google.colaboratory.intrinsic+json": {
              "summary": "{\n  \"name\": \"data\",\n  \"rows\": 243,\n  \"fields\": [\n    {\n      \"column\": \"day\",\n      \"properties\": {\n        \"dtype\": \"number\",\n        \"std\": 8,\n        \"min\": 1,\n        \"max\": 31,\n        \"num_unique_values\": 31,\n        \"samples\": [\n          28,\n          16,\n          24\n        ],\n        \"semantic_type\": \"\",\n        \"description\": \"\"\n      }\n    },\n    {\n      \"column\": \"month\",\n      \"properties\": {\n        \"dtype\": \"number\",\n        \"std\": 1,\n        \"min\": 6,\n        \"max\": 9,\n        \"num_unique_values\": 4,\n        \"samples\": [\n          7,\n          9,\n          6\n        ],\n        \"semantic_type\": \"\",\n        \"description\": \"\"\n      }\n    },\n    {\n      \"column\": \"year\",\n      \"properties\": {\n        \"dtype\": \"number\",\n        \"std\": 0,\n        \"min\": 2012,\n        \"max\": 2012,\n        \"num_unique_values\": 1,\n        \"samples\": [\n          2012\n        ],\n        \"semantic_type\": \"\",\n        \"description\": \"\"\n      }\n    },\n    {\n      \"column\": \"Temperature\",\n      \"properties\": {\n        \"dtype\": \"number\",\n        \"std\": 3,\n        \"min\": 22,\n        \"max\": 42,\n        \"num_unique_values\": 19,\n        \"samples\": [\n          29\n        ],\n        \"semantic_type\": \"\",\n        \"description\": \"\"\n      }\n    },\n    {\n      \"column\": \"RH\",\n      \"properties\": {\n        \"dtype\": \"number\",\n        \"std\": 14,\n        \"min\": 21,\n        \"max\": 90,\n        \"num_unique_values\": 62,\n        \"samples\": [\n          83\n        ],\n        \"semantic_type\": \"\",\n        \"description\": \"\"\n      }\n    },\n    {\n      \"column\": \"Ws\",\n      \"properties\": {\n        \"dtype\": \"number\",\n        \"std\": 2,\n        \"min\": 6,\n        \"max\": 29,\n        \"num_unique_values\": 18,\n        \"samples\": [\n          18\n        ],\n        \"semantic_type\": \"\",\n        \"description\": \"\"\n      }\n    },\n    {\n      \"column\": \"Rain\",\n      \"properties\": {\n        \"dtype\": \"number\",\n        \"std\": 2.003206795506829,\n        \"min\": 0.0,\n        \"max\": 16.8,\n        \"num_unique_values\": 39,\n        \"samples\": [\n          6.0\n        ],\n        \"semantic_type\": \"\",\n        \"description\": \"\"\n      }\n    },\n    {\n      \"column\": \"FFMC\",\n      \"properties\": {\n        \"dtype\": \"number\",\n        \"std\": 14.349641256730104,\n        \"min\": 28.6,\n        \"max\": 96.0,\n        \"num_unique_values\": 173,\n        \"samples\": [\n          64.5\n        ],\n        \"semantic_type\": \"\",\n        \"description\": \"\"\n      }\n    },\n    {\n      \"column\": \"DMC\",\n      \"properties\": {\n        \"dtype\": \"number\",\n        \"std\": 12.393039751223832,\n        \"min\": 0.7,\n        \"max\": 65.9,\n        \"num_unique_values\": 165,\n        \"samples\": [\n          16.9\n        ],\n        \"semantic_type\": \"\",\n        \"description\": \"\"\n      }\n    },\n    {\n      \"column\": \"DC\",\n      \"properties\": {\n        \"dtype\": \"number\",\n        \"std\": 47.66560598458993,\n        \"min\": 6.9,\n        \"max\": 220.4,\n        \"num_unique_values\": 197,\n        \"samples\": [\n          90.1\n        ],\n        \"semantic_type\": \"\",\n        \"description\": \"\"\n      }\n    },\n    {\n      \"column\": \"ISI\",\n      \"properties\": {\n        \"dtype\": \"number\",\n        \"std\": 4.154233833368701,\n        \"min\": 0.0,\n        \"max\": 19.0,\n        \"num_unique_values\": 106,\n        \"samples\": [\n          13.1\n        ],\n        \"semantic_type\": \"\",\n        \"description\": \"\"\n      }\n    },\n    {\n      \"column\": \"BUI\",\n      \"properties\": {\n        \"dtype\": \"number\",\n        \"std\": 14.228421131468963,\n        \"min\": 1.1,\n        \"max\": 68.0,\n        \"num_unique_values\": 173,\n        \"samples\": [\n          4.6\n        ],\n        \"semantic_type\": \"\",\n        \"description\": \"\"\n      }\n    },\n    {\n      \"column\": \"FWI\",\n      \"properties\": {\n        \"dtype\": \"number\",\n        \"std\": 7.440567726345277,\n        \"min\": 0.0,\n        \"max\": 31.1,\n        \"num_unique_values\": 125,\n        \"samples\": [\n          15.0\n        ],\n        \"semantic_type\": \"\",\n        \"description\": \"\"\n      }\n    },\n    {\n      \"column\": \"Classes\",\n      \"properties\": {\n        \"dtype\": \"category\",\n        \"num_unique_values\": 8,\n        \"samples\": [\n          \"fire   \"\n        ],\n        \"semantic_type\": \"\",\n        \"description\": \"\"\n      }\n    },\n    {\n      \"column\": \"Region\",\n      \"properties\": {\n        \"dtype\": \"number\",\n        \"std\": 0,\n        \"min\": 0,\n        \"max\": 1,\n        \"num_unique_values\": 2,\n        \"samples\": [\n          1\n        ],\n        \"semantic_type\": \"\",\n        \"description\": \"\"\n      }\n    }\n  ]\n}",
              "type": "dataframe",
              "variable_name": "data"
            },
            "text/html": [
              "\n",
              "  <div id=\"df-4493846a-a716-4685-a889-f3f1d9c4ea1b\" class=\"colab-df-container\">\n",
              "    <div>\n",
              "<style scoped>\n",
              "    .dataframe tbody tr th:only-of-type {\n",
              "        vertical-align: middle;\n",
              "    }\n",
              "\n",
              "    .dataframe tbody tr th {\n",
              "        vertical-align: top;\n",
              "    }\n",
              "\n",
              "    .dataframe thead th {\n",
              "        text-align: right;\n",
              "    }\n",
              "</style>\n",
              "<table border=\"1\" class=\"dataframe\">\n",
              "  <thead>\n",
              "    <tr style=\"text-align: right;\">\n",
              "      <th></th>\n",
              "      <th>day</th>\n",
              "      <th>month</th>\n",
              "      <th>year</th>\n",
              "      <th>Temperature</th>\n",
              "      <th>RH</th>\n",
              "      <th>Ws</th>\n",
              "      <th>Rain</th>\n",
              "      <th>FFMC</th>\n",
              "      <th>DMC</th>\n",
              "      <th>DC</th>\n",
              "      <th>ISI</th>\n",
              "      <th>BUI</th>\n",
              "      <th>FWI</th>\n",
              "      <th>Classes</th>\n",
              "      <th>Region</th>\n",
              "    </tr>\n",
              "  </thead>\n",
              "  <tbody>\n",
              "    <tr>\n",
              "      <th>0</th>\n",
              "      <td>1</td>\n",
              "      <td>6</td>\n",
              "      <td>2012</td>\n",
              "      <td>29</td>\n",
              "      <td>57</td>\n",
              "      <td>18</td>\n",
              "      <td>0.0</td>\n",
              "      <td>65.7</td>\n",
              "      <td>3.4</td>\n",
              "      <td>7.6</td>\n",
              "      <td>1.3</td>\n",
              "      <td>3.4</td>\n",
              "      <td>0.5</td>\n",
              "      <td>not fire</td>\n",
              "      <td>0</td>\n",
              "    </tr>\n",
              "    <tr>\n",
              "      <th>1</th>\n",
              "      <td>2</td>\n",
              "      <td>6</td>\n",
              "      <td>2012</td>\n",
              "      <td>29</td>\n",
              "      <td>61</td>\n",
              "      <td>13</td>\n",
              "      <td>1.3</td>\n",
              "      <td>64.4</td>\n",
              "      <td>4.1</td>\n",
              "      <td>7.6</td>\n",
              "      <td>1.0</td>\n",
              "      <td>3.9</td>\n",
              "      <td>0.4</td>\n",
              "      <td>not fire</td>\n",
              "      <td>0</td>\n",
              "    </tr>\n",
              "    <tr>\n",
              "      <th>2</th>\n",
              "      <td>3</td>\n",
              "      <td>6</td>\n",
              "      <td>2012</td>\n",
              "      <td>26</td>\n",
              "      <td>82</td>\n",
              "      <td>22</td>\n",
              "      <td>13.1</td>\n",
              "      <td>47.1</td>\n",
              "      <td>2.5</td>\n",
              "      <td>7.1</td>\n",
              "      <td>0.3</td>\n",
              "      <td>2.7</td>\n",
              "      <td>0.1</td>\n",
              "      <td>not fire</td>\n",
              "      <td>0</td>\n",
              "    </tr>\n",
              "    <tr>\n",
              "      <th>3</th>\n",
              "      <td>4</td>\n",
              "      <td>6</td>\n",
              "      <td>2012</td>\n",
              "      <td>25</td>\n",
              "      <td>89</td>\n",
              "      <td>13</td>\n",
              "      <td>2.5</td>\n",
              "      <td>28.6</td>\n",
              "      <td>1.3</td>\n",
              "      <td>6.9</td>\n",
              "      <td>0.0</td>\n",
              "      <td>1.7</td>\n",
              "      <td>0.0</td>\n",
              "      <td>not fire</td>\n",
              "      <td>0</td>\n",
              "    </tr>\n",
              "    <tr>\n",
              "      <th>4</th>\n",
              "      <td>5</td>\n",
              "      <td>6</td>\n",
              "      <td>2012</td>\n",
              "      <td>27</td>\n",
              "      <td>77</td>\n",
              "      <td>16</td>\n",
              "      <td>0.0</td>\n",
              "      <td>64.8</td>\n",
              "      <td>3.0</td>\n",
              "      <td>14.2</td>\n",
              "      <td>1.2</td>\n",
              "      <td>3.9</td>\n",
              "      <td>0.5</td>\n",
              "      <td>not fire</td>\n",
              "      <td>0</td>\n",
              "    </tr>\n",
              "  </tbody>\n",
              "</table>\n",
              "</div>\n",
              "    <div class=\"colab-df-buttons\">\n",
              "\n",
              "  <div class=\"colab-df-container\">\n",
              "    <button class=\"colab-df-convert\" onclick=\"convertToInteractive('df-4493846a-a716-4685-a889-f3f1d9c4ea1b')\"\n",
              "            title=\"Convert this dataframe to an interactive table.\"\n",
              "            style=\"display:none;\">\n",
              "\n",
              "  <svg xmlns=\"http://www.w3.org/2000/svg\" height=\"24px\" viewBox=\"0 -960 960 960\">\n",
              "    <path d=\"M120-120v-720h720v720H120Zm60-500h600v-160H180v160Zm220 220h160v-160H400v160Zm0 220h160v-160H400v160ZM180-400h160v-160H180v160Zm440 0h160v-160H620v160ZM180-180h160v-160H180v160Zm440 0h160v-160H620v160Z\"/>\n",
              "  </svg>\n",
              "    </button>\n",
              "\n",
              "  <style>\n",
              "    .colab-df-container {\n",
              "      display:flex;\n",
              "      gap: 12px;\n",
              "    }\n",
              "\n",
              "    .colab-df-convert {\n",
              "      background-color: #E8F0FE;\n",
              "      border: none;\n",
              "      border-radius: 50%;\n",
              "      cursor: pointer;\n",
              "      display: none;\n",
              "      fill: #1967D2;\n",
              "      height: 32px;\n",
              "      padding: 0 0 0 0;\n",
              "      width: 32px;\n",
              "    }\n",
              "\n",
              "    .colab-df-convert:hover {\n",
              "      background-color: #E2EBFA;\n",
              "      box-shadow: 0px 1px 2px rgba(60, 64, 67, 0.3), 0px 1px 3px 1px rgba(60, 64, 67, 0.15);\n",
              "      fill: #174EA6;\n",
              "    }\n",
              "\n",
              "    .colab-df-buttons div {\n",
              "      margin-bottom: 4px;\n",
              "    }\n",
              "\n",
              "    [theme=dark] .colab-df-convert {\n",
              "      background-color: #3B4455;\n",
              "      fill: #D2E3FC;\n",
              "    }\n",
              "\n",
              "    [theme=dark] .colab-df-convert:hover {\n",
              "      background-color: #434B5C;\n",
              "      box-shadow: 0px 1px 3px 1px rgba(0, 0, 0, 0.15);\n",
              "      filter: drop-shadow(0px 1px 2px rgba(0, 0, 0, 0.3));\n",
              "      fill: #FFFFFF;\n",
              "    }\n",
              "  </style>\n",
              "\n",
              "    <script>\n",
              "      const buttonEl =\n",
              "        document.querySelector('#df-4493846a-a716-4685-a889-f3f1d9c4ea1b button.colab-df-convert');\n",
              "      buttonEl.style.display =\n",
              "        google.colab.kernel.accessAllowed ? 'block' : 'none';\n",
              "\n",
              "      async function convertToInteractive(key) {\n",
              "        const element = document.querySelector('#df-4493846a-a716-4685-a889-f3f1d9c4ea1b');\n",
              "        const dataTable =\n",
              "          await google.colab.kernel.invokeFunction('convertToInteractive',\n",
              "                                                    [key], {});\n",
              "        if (!dataTable) return;\n",
              "\n",
              "        const docLinkHtml = 'Like what you see? Visit the ' +\n",
              "          '<a target=\"_blank\" href=https://colab.research.google.com/notebooks/data_table.ipynb>data table notebook</a>'\n",
              "          + ' to learn more about interactive tables.';\n",
              "        element.innerHTML = '';\n",
              "        dataTable['output_type'] = 'display_data';\n",
              "        await google.colab.output.renderOutput(dataTable, element);\n",
              "        const docLink = document.createElement('div');\n",
              "        docLink.innerHTML = docLinkHtml;\n",
              "        element.appendChild(docLink);\n",
              "      }\n",
              "    </script>\n",
              "  </div>\n",
              "\n",
              "\n",
              "<div id=\"df-3151fb2b-6a50-43b4-97e4-dbe77c8856c8\">\n",
              "  <button class=\"colab-df-quickchart\" onclick=\"quickchart('df-3151fb2b-6a50-43b4-97e4-dbe77c8856c8')\"\n",
              "            title=\"Suggest charts\"\n",
              "            style=\"display:none;\">\n",
              "\n",
              "<svg xmlns=\"http://www.w3.org/2000/svg\" height=\"24px\"viewBox=\"0 0 24 24\"\n",
              "     width=\"24px\">\n",
              "    <g>\n",
              "        <path d=\"M19 3H5c-1.1 0-2 .9-2 2v14c0 1.1.9 2 2 2h14c1.1 0 2-.9 2-2V5c0-1.1-.9-2-2-2zM9 17H7v-7h2v7zm4 0h-2V7h2v10zm4 0h-2v-4h2v4z\"/>\n",
              "    </g>\n",
              "</svg>\n",
              "  </button>\n",
              "\n",
              "<style>\n",
              "  .colab-df-quickchart {\n",
              "      --bg-color: #E8F0FE;\n",
              "      --fill-color: #1967D2;\n",
              "      --hover-bg-color: #E2EBFA;\n",
              "      --hover-fill-color: #174EA6;\n",
              "      --disabled-fill-color: #AAA;\n",
              "      --disabled-bg-color: #DDD;\n",
              "  }\n",
              "\n",
              "  [theme=dark] .colab-df-quickchart {\n",
              "      --bg-color: #3B4455;\n",
              "      --fill-color: #D2E3FC;\n",
              "      --hover-bg-color: #434B5C;\n",
              "      --hover-fill-color: #FFFFFF;\n",
              "      --disabled-bg-color: #3B4455;\n",
              "      --disabled-fill-color: #666;\n",
              "  }\n",
              "\n",
              "  .colab-df-quickchart {\n",
              "    background-color: var(--bg-color);\n",
              "    border: none;\n",
              "    border-radius: 50%;\n",
              "    cursor: pointer;\n",
              "    display: none;\n",
              "    fill: var(--fill-color);\n",
              "    height: 32px;\n",
              "    padding: 0;\n",
              "    width: 32px;\n",
              "  }\n",
              "\n",
              "  .colab-df-quickchart:hover {\n",
              "    background-color: var(--hover-bg-color);\n",
              "    box-shadow: 0 1px 2px rgba(60, 64, 67, 0.3), 0 1px 3px 1px rgba(60, 64, 67, 0.15);\n",
              "    fill: var(--button-hover-fill-color);\n",
              "  }\n",
              "\n",
              "  .colab-df-quickchart-complete:disabled,\n",
              "  .colab-df-quickchart-complete:disabled:hover {\n",
              "    background-color: var(--disabled-bg-color);\n",
              "    fill: var(--disabled-fill-color);\n",
              "    box-shadow: none;\n",
              "  }\n",
              "\n",
              "  .colab-df-spinner {\n",
              "    border: 2px solid var(--fill-color);\n",
              "    border-color: transparent;\n",
              "    border-bottom-color: var(--fill-color);\n",
              "    animation:\n",
              "      spin 1s steps(1) infinite;\n",
              "  }\n",
              "\n",
              "  @keyframes spin {\n",
              "    0% {\n",
              "      border-color: transparent;\n",
              "      border-bottom-color: var(--fill-color);\n",
              "      border-left-color: var(--fill-color);\n",
              "    }\n",
              "    20% {\n",
              "      border-color: transparent;\n",
              "      border-left-color: var(--fill-color);\n",
              "      border-top-color: var(--fill-color);\n",
              "    }\n",
              "    30% {\n",
              "      border-color: transparent;\n",
              "      border-left-color: var(--fill-color);\n",
              "      border-top-color: var(--fill-color);\n",
              "      border-right-color: var(--fill-color);\n",
              "    }\n",
              "    40% {\n",
              "      border-color: transparent;\n",
              "      border-right-color: var(--fill-color);\n",
              "      border-top-color: var(--fill-color);\n",
              "    }\n",
              "    60% {\n",
              "      border-color: transparent;\n",
              "      border-right-color: var(--fill-color);\n",
              "    }\n",
              "    80% {\n",
              "      border-color: transparent;\n",
              "      border-right-color: var(--fill-color);\n",
              "      border-bottom-color: var(--fill-color);\n",
              "    }\n",
              "    90% {\n",
              "      border-color: transparent;\n",
              "      border-bottom-color: var(--fill-color);\n",
              "    }\n",
              "  }\n",
              "</style>\n",
              "\n",
              "  <script>\n",
              "    async function quickchart(key) {\n",
              "      const quickchartButtonEl =\n",
              "        document.querySelector('#' + key + ' button');\n",
              "      quickchartButtonEl.disabled = true;  // To prevent multiple clicks.\n",
              "      quickchartButtonEl.classList.add('colab-df-spinner');\n",
              "      try {\n",
              "        const charts = await google.colab.kernel.invokeFunction(\n",
              "            'suggestCharts', [key], {});\n",
              "      } catch (error) {\n",
              "        console.error('Error during call to suggestCharts:', error);\n",
              "      }\n",
              "      quickchartButtonEl.classList.remove('colab-df-spinner');\n",
              "      quickchartButtonEl.classList.add('colab-df-quickchart-complete');\n",
              "    }\n",
              "    (() => {\n",
              "      let quickchartButtonEl =\n",
              "        document.querySelector('#df-3151fb2b-6a50-43b4-97e4-dbe77c8856c8 button');\n",
              "      quickchartButtonEl.style.display =\n",
              "        google.colab.kernel.accessAllowed ? 'block' : 'none';\n",
              "    })();\n",
              "  </script>\n",
              "</div>\n",
              "\n",
              "    </div>\n",
              "  </div>\n"
            ],
            "text/plain": [
              "   day  month  year  Temperature  RH  Ws  Rain  FFMC  DMC    DC  ISI  BUI  \\\n",
              "0    1      6  2012           29  57  18   0.0  65.7  3.4   7.6  1.3  3.4   \n",
              "1    2      6  2012           29  61  13   1.3  64.4  4.1   7.6  1.0  3.9   \n",
              "2    3      6  2012           26  82  22  13.1  47.1  2.5   7.1  0.3  2.7   \n",
              "3    4      6  2012           25  89  13   2.5  28.6  1.3   6.9  0.0  1.7   \n",
              "4    5      6  2012           27  77  16   0.0  64.8  3.0  14.2  1.2  3.9   \n",
              "\n",
              "   FWI      Classes  Region  \n",
              "0  0.5  not fire          0  \n",
              "1  0.4  not fire          0  \n",
              "2  0.1  not fire          0  \n",
              "3  0.0  not fire          0  \n",
              "4  0.5  not fire          0  "
            ]
          },
          "execution_count": 249,
          "metadata": {},
          "output_type": "execute_result"
        }
      ],
      "source": [
        "data.head()"
      ]
    },
    {
      "cell_type": "code",
      "execution_count": 250,
      "metadata": {
        "colab": {
          "base_uri": "https://localhost:8080/"
        },
        "id": "c9afVB75T_rx",
        "outputId": "93a83820-812a-4aaf-baa2-45d35b60f5f0"
      },
      "outputs": [
        {
          "name": "stdout",
          "output_type": "stream",
          "text": [
            "day            0\n",
            "month          0\n",
            "year           0\n",
            "Temperature    0\n",
            "RH             0\n",
            "Ws             0\n",
            "Rain           0\n",
            "FFMC           0\n",
            "DMC            0\n",
            "DC             0\n",
            "ISI            0\n",
            "BUI            0\n",
            "FWI            0\n",
            "Classes        0\n",
            "Region         0\n",
            "dtype: int64\n"
          ]
        }
      ],
      "source": [
        "# Checking for the missing values\n",
        "print(data.isnull().sum())"
      ]
    },
    {
      "cell_type": "code",
      "execution_count": 251,
      "metadata": {
        "colab": {
          "base_uri": "https://localhost:8080/",
          "height": 81
        },
        "id": "j8yygLHHUpMG",
        "outputId": "0da4c504-6b85-43f3-8ccc-bdc074062a54"
      },
      "outputs": [
        {
          "data": {
            "application/vnd.google.colaboratory.intrinsic+json": {
              "summary": "{\n  \"name\": \"data\",\n  \"rows\": 1,\n  \"fields\": [\n    {\n      \"column\": \"day\",\n      \"properties\": {\n        \"dtype\": \"number\",\n        \"std\": null,\n        \"min\": 1,\n        \"max\": 1,\n        \"num_unique_values\": 1,\n        \"samples\": [\n          1\n        ],\n        \"semantic_type\": \"\",\n        \"description\": \"\"\n      }\n    },\n    {\n      \"column\": \"month\",\n      \"properties\": {\n        \"dtype\": \"number\",\n        \"std\": null,\n        \"min\": 6,\n        \"max\": 6,\n        \"num_unique_values\": 1,\n        \"samples\": [\n          6\n        ],\n        \"semantic_type\": \"\",\n        \"description\": \"\"\n      }\n    },\n    {\n      \"column\": \"year\",\n      \"properties\": {\n        \"dtype\": \"number\",\n        \"std\": null,\n        \"min\": 2012,\n        \"max\": 2012,\n        \"num_unique_values\": 1,\n        \"samples\": [\n          2012\n        ],\n        \"semantic_type\": \"\",\n        \"description\": \"\"\n      }\n    },\n    {\n      \"column\": \"Temperature\",\n      \"properties\": {\n        \"dtype\": \"number\",\n        \"std\": null,\n        \"min\": 32,\n        \"max\": 32,\n        \"num_unique_values\": 1,\n        \"samples\": [\n          32\n        ],\n        \"semantic_type\": \"\",\n        \"description\": \"\"\n      }\n    },\n    {\n      \"column\": \"RH\",\n      \"properties\": {\n        \"dtype\": \"number\",\n        \"std\": null,\n        \"min\": 71,\n        \"max\": 71,\n        \"num_unique_values\": 1,\n        \"samples\": [\n          71\n        ],\n        \"semantic_type\": \"\",\n        \"description\": \"\"\n      }\n    },\n    {\n      \"column\": \"Ws\",\n      \"properties\": {\n        \"dtype\": \"number\",\n        \"std\": null,\n        \"min\": 12,\n        \"max\": 12,\n        \"num_unique_values\": 1,\n        \"samples\": [\n          12\n        ],\n        \"semantic_type\": \"\",\n        \"description\": \"\"\n      }\n    },\n    {\n      \"column\": \"Rain\",\n      \"properties\": {\n        \"dtype\": \"number\",\n        \"std\": null,\n        \"min\": 0.7,\n        \"max\": 0.7,\n        \"num_unique_values\": 1,\n        \"samples\": [\n          0.7\n        ],\n        \"semantic_type\": \"\",\n        \"description\": \"\"\n      }\n    },\n    {\n      \"column\": \"FFMC\",\n      \"properties\": {\n        \"dtype\": \"number\",\n        \"std\": null,\n        \"min\": 57.1,\n        \"max\": 57.1,\n        \"num_unique_values\": 1,\n        \"samples\": [\n          57.1\n        ],\n        \"semantic_type\": \"\",\n        \"description\": \"\"\n      }\n    },\n    {\n      \"column\": \"DMC\",\n      \"properties\": {\n        \"dtype\": \"number\",\n        \"std\": null,\n        \"min\": 2.5,\n        \"max\": 2.5,\n        \"num_unique_values\": 1,\n        \"samples\": [\n          2.5\n        ],\n        \"semantic_type\": \"\",\n        \"description\": \"\"\n      }\n    },\n    {\n      \"column\": \"DC\",\n      \"properties\": {\n        \"dtype\": \"number\",\n        \"std\": null,\n        \"min\": 8.2,\n        \"max\": 8.2,\n        \"num_unique_values\": 1,\n        \"samples\": [\n          8.2\n        ],\n        \"semantic_type\": \"\",\n        \"description\": \"\"\n      }\n    },\n    {\n      \"column\": \"ISI\",\n      \"properties\": {\n        \"dtype\": \"number\",\n        \"std\": null,\n        \"min\": 0.6,\n        \"max\": 0.6,\n        \"num_unique_values\": 1,\n        \"samples\": [\n          0.6\n        ],\n        \"semantic_type\": \"\",\n        \"description\": \"\"\n      }\n    },\n    {\n      \"column\": \"BUI\",\n      \"properties\": {\n        \"dtype\": \"number\",\n        \"std\": null,\n        \"min\": 2.8,\n        \"max\": 2.8,\n        \"num_unique_values\": 1,\n        \"samples\": [\n          2.8\n        ],\n        \"semantic_type\": \"\",\n        \"description\": \"\"\n      }\n    },\n    {\n      \"column\": \"FWI\",\n      \"properties\": {\n        \"dtype\": \"number\",\n        \"std\": null,\n        \"min\": 0.2,\n        \"max\": 0.2,\n        \"num_unique_values\": 1,\n        \"samples\": [\n          0.2\n        ],\n        \"semantic_type\": \"\",\n        \"description\": \"\"\n      }\n    },\n    {\n      \"column\": \"Classes\",\n      \"properties\": {\n        \"dtype\": \"string\",\n        \"num_unique_values\": 1,\n        \"samples\": [\n          \"not fire   \"\n        ],\n        \"semantic_type\": \"\",\n        \"description\": \"\"\n      }\n    },\n    {\n      \"column\": \"Region\",\n      \"properties\": {\n        \"dtype\": \"number\",\n        \"std\": null,\n        \"min\": 1,\n        \"max\": 1,\n        \"num_unique_values\": 1,\n        \"samples\": [\n          1\n        ],\n        \"semantic_type\": \"\",\n        \"description\": \"\"\n      }\n    }\n  ]\n}",
              "type": "dataframe"
            },
            "text/html": [
              "\n",
              "  <div id=\"df-e0e83f29-54b9-428b-9c22-e1cad312ec10\" class=\"colab-df-container\">\n",
              "    <div>\n",
              "<style scoped>\n",
              "    .dataframe tbody tr th:only-of-type {\n",
              "        vertical-align: middle;\n",
              "    }\n",
              "\n",
              "    .dataframe tbody tr th {\n",
              "        vertical-align: top;\n",
              "    }\n",
              "\n",
              "    .dataframe thead th {\n",
              "        text-align: right;\n",
              "    }\n",
              "</style>\n",
              "<table border=\"1\" class=\"dataframe\">\n",
              "  <thead>\n",
              "    <tr style=\"text-align: right;\">\n",
              "      <th></th>\n",
              "      <th>day</th>\n",
              "      <th>month</th>\n",
              "      <th>year</th>\n",
              "      <th>Temperature</th>\n",
              "      <th>RH</th>\n",
              "      <th>Ws</th>\n",
              "      <th>Rain</th>\n",
              "      <th>FFMC</th>\n",
              "      <th>DMC</th>\n",
              "      <th>DC</th>\n",
              "      <th>ISI</th>\n",
              "      <th>BUI</th>\n",
              "      <th>FWI</th>\n",
              "      <th>Classes</th>\n",
              "      <th>Region</th>\n",
              "    </tr>\n",
              "  </thead>\n",
              "  <tbody>\n",
              "    <tr>\n",
              "      <th>122</th>\n",
              "      <td>1</td>\n",
              "      <td>6</td>\n",
              "      <td>2012</td>\n",
              "      <td>32</td>\n",
              "      <td>71</td>\n",
              "      <td>12</td>\n",
              "      <td>0.7</td>\n",
              "      <td>57.1</td>\n",
              "      <td>2.5</td>\n",
              "      <td>8.2</td>\n",
              "      <td>0.6</td>\n",
              "      <td>2.8</td>\n",
              "      <td>0.2</td>\n",
              "      <td>not fire</td>\n",
              "      <td>1</td>\n",
              "    </tr>\n",
              "  </tbody>\n",
              "</table>\n",
              "</div>\n",
              "    <div class=\"colab-df-buttons\">\n",
              "\n",
              "  <div class=\"colab-df-container\">\n",
              "    <button class=\"colab-df-convert\" onclick=\"convertToInteractive('df-e0e83f29-54b9-428b-9c22-e1cad312ec10')\"\n",
              "            title=\"Convert this dataframe to an interactive table.\"\n",
              "            style=\"display:none;\">\n",
              "\n",
              "  <svg xmlns=\"http://www.w3.org/2000/svg\" height=\"24px\" viewBox=\"0 -960 960 960\">\n",
              "    <path d=\"M120-120v-720h720v720H120Zm60-500h600v-160H180v160Zm220 220h160v-160H400v160Zm0 220h160v-160H400v160ZM180-400h160v-160H180v160Zm440 0h160v-160H620v160ZM180-180h160v-160H180v160Zm440 0h160v-160H620v160Z\"/>\n",
              "  </svg>\n",
              "    </button>\n",
              "\n",
              "  <style>\n",
              "    .colab-df-container {\n",
              "      display:flex;\n",
              "      gap: 12px;\n",
              "    }\n",
              "\n",
              "    .colab-df-convert {\n",
              "      background-color: #E8F0FE;\n",
              "      border: none;\n",
              "      border-radius: 50%;\n",
              "      cursor: pointer;\n",
              "      display: none;\n",
              "      fill: #1967D2;\n",
              "      height: 32px;\n",
              "      padding: 0 0 0 0;\n",
              "      width: 32px;\n",
              "    }\n",
              "\n",
              "    .colab-df-convert:hover {\n",
              "      background-color: #E2EBFA;\n",
              "      box-shadow: 0px 1px 2px rgba(60, 64, 67, 0.3), 0px 1px 3px 1px rgba(60, 64, 67, 0.15);\n",
              "      fill: #174EA6;\n",
              "    }\n",
              "\n",
              "    .colab-df-buttons div {\n",
              "      margin-bottom: 4px;\n",
              "    }\n",
              "\n",
              "    [theme=dark] .colab-df-convert {\n",
              "      background-color: #3B4455;\n",
              "      fill: #D2E3FC;\n",
              "    }\n",
              "\n",
              "    [theme=dark] .colab-df-convert:hover {\n",
              "      background-color: #434B5C;\n",
              "      box-shadow: 0px 1px 3px 1px rgba(0, 0, 0, 0.15);\n",
              "      filter: drop-shadow(0px 1px 2px rgba(0, 0, 0, 0.3));\n",
              "      fill: #FFFFFF;\n",
              "    }\n",
              "  </style>\n",
              "\n",
              "    <script>\n",
              "      const buttonEl =\n",
              "        document.querySelector('#df-e0e83f29-54b9-428b-9c22-e1cad312ec10 button.colab-df-convert');\n",
              "      buttonEl.style.display =\n",
              "        google.colab.kernel.accessAllowed ? 'block' : 'none';\n",
              "\n",
              "      async function convertToInteractive(key) {\n",
              "        const element = document.querySelector('#df-e0e83f29-54b9-428b-9c22-e1cad312ec10');\n",
              "        const dataTable =\n",
              "          await google.colab.kernel.invokeFunction('convertToInteractive',\n",
              "                                                    [key], {});\n",
              "        if (!dataTable) return;\n",
              "\n",
              "        const docLinkHtml = 'Like what you see? Visit the ' +\n",
              "          '<a target=\"_blank\" href=https://colab.research.google.com/notebooks/data_table.ipynb>data table notebook</a>'\n",
              "          + ' to learn more about interactive tables.';\n",
              "        element.innerHTML = '';\n",
              "        dataTable['output_type'] = 'display_data';\n",
              "        await google.colab.output.renderOutput(dataTable, element);\n",
              "        const docLink = document.createElement('div');\n",
              "        docLink.innerHTML = docLinkHtml;\n",
              "        element.appendChild(docLink);\n",
              "      }\n",
              "    </script>\n",
              "  </div>\n",
              "\n",
              "\n",
              "    </div>\n",
              "  </div>\n"
            ],
            "text/plain": [
              "     day  month  year  Temperature  RH  Ws  Rain  FFMC  DMC   DC  ISI  BUI  \\\n",
              "122    1      6  2012           32  71  12   0.7  57.1  2.5  8.2  0.6  2.8   \n",
              "\n",
              "     FWI      Classes  Region  \n",
              "122  0.2  not fire          1  "
            ]
          },
          "execution_count": 251,
          "metadata": {},
          "output_type": "execute_result"
        }
      ],
      "source": [
        "# get the information at index 122\n",
        "data.iloc[[122]]"
      ]
    },
    {
      "cell_type": "code",
      "execution_count": 252,
      "metadata": {
        "colab": {
          "base_uri": "https://localhost:8080/"
        },
        "id": "IkjSY1EOVUPs",
        "outputId": "e32c06be-1f47-448e-9f22-f7d8693b7d7e"
      },
      "outputs": [
        {
          "name": "stdout",
          "output_type": "stream",
          "text": [
            "Index(['day', 'month', 'year', 'Temperature', 'RH', 'Ws', 'Rain', 'FFMC',\n",
            "       'DMC', 'DC', 'ISI', 'BUI', 'FWI', 'Classes', 'Region'],\n",
            "      dtype='object')\n"
          ]
        }
      ],
      "source": [
        "# Get all the columns from the dataset\n",
        "print(data.columns)"
      ]
    },
    {
      "cell_type": "code",
      "execution_count": 253,
      "metadata": {
        "id": "aFTsEOUOVZKs"
      },
      "outputs": [],
      "source": [
        "# fixing the spaces in the column names\n",
        "data.columns = data.columns.str.strip()"
      ]
    },
    {
      "cell_type": "code",
      "execution_count": 254,
      "metadata": {
        "colab": {
          "base_uri": "https://localhost:8080/"
        },
        "id": "H9KWSSAuVeR-",
        "outputId": "b4fb1ff2-8972-4eee-9a56-87bf60229ad4"
      },
      "outputs": [
        {
          "name": "stdout",
          "output_type": "stream",
          "text": [
            "Index(['day', 'month', 'year', 'Temperature', 'RH', 'Ws', 'Rain', 'FFMC',\n",
            "       'DMC', 'DC', 'ISI', 'BUI', 'FWI', 'Classes', 'Region'],\n",
            "      dtype='object')\n"
          ]
        }
      ],
      "source": [
        "print(data.columns)"
      ]
    },
    {
      "cell_type": "code",
      "execution_count": 255,
      "metadata": {
        "colab": {
          "base_uri": "https://localhost:8080/"
        },
        "id": "-0GE-6PeVrWo",
        "outputId": "1825c950-cd2f-40ed-d962-4e0e0d22bdba"
      },
      "outputs": [
        {
          "name": "stdout",
          "output_type": "stream",
          "text": [
            "<class 'pandas.core.frame.DataFrame'>\n",
            "RangeIndex: 243 entries, 0 to 242\n",
            "Data columns (total 15 columns):\n",
            " #   Column       Non-Null Count  Dtype  \n",
            "---  ------       --------------  -----  \n",
            " 0   day          243 non-null    int64  \n",
            " 1   month        243 non-null    int64  \n",
            " 2   year         243 non-null    int64  \n",
            " 3   Temperature  243 non-null    int64  \n",
            " 4   RH           243 non-null    int64  \n",
            " 5   Ws           243 non-null    int64  \n",
            " 6   Rain         243 non-null    float64\n",
            " 7   FFMC         243 non-null    float64\n",
            " 8   DMC          243 non-null    float64\n",
            " 9   DC           243 non-null    float64\n",
            " 10  ISI          243 non-null    float64\n",
            " 11  BUI          243 non-null    float64\n",
            " 12  FWI          243 non-null    float64\n",
            " 13  Classes      243 non-null    object \n",
            " 14  Region       243 non-null    int64  \n",
            "dtypes: float64(7), int64(7), object(1)\n",
            "memory usage: 28.6+ KB\n",
            "None\n"
          ]
        }
      ],
      "source": [
        "print(data.info())"
      ]
    },
    {
      "cell_type": "code",
      "execution_count": 256,
      "metadata": {
        "colab": {
          "base_uri": "https://localhost:8080/"
        },
        "id": "OjkiuUq7Vuni",
        "outputId": "e1d2e1b5-de91-48cb-b0bd-588be2e7733d"
      },
      "outputs": [
        {
          "name": "stdout",
          "output_type": "stream",
          "text": [
            "   day  month  year  Temperature  RH  Ws  Rain  FFMC  DMC    DC  ISI  BUI  \\\n",
            "0    1      6  2012           29  57  18   0.0  65.7  3.4   7.6  1.3  3.4   \n",
            "1    2      6  2012           29  61  13   1.3  64.4  4.1   7.6  1.0  3.9   \n",
            "2    3      6  2012           26  82  22  13.1  47.1  2.5   7.1  0.3  2.7   \n",
            "3    4      6  2012           25  89  13   2.5  28.6  1.3   6.9  0.0  1.7   \n",
            "4    5      6  2012           27  77  16   0.0  64.8  3.0  14.2  1.2  3.9   \n",
            "\n",
            "   FWI      Classes  Region  \n",
            "0  0.5  not fire          0  \n",
            "1  0.4  not fire          0  \n",
            "2  0.1  not fire          0  \n",
            "3  0.0  not fire          0  \n",
            "4  0.5  not fire          0  \n"
          ]
        }
      ],
      "source": [
        "print(data.head())"
      ]
    },
    {
      "cell_type": "code",
      "execution_count": 257,
      "metadata": {
        "id": "G0cgNJ9JcBD1"
      },
      "outputs": [],
      "source": [
        "# drop day, month and year from the dataset\n",
        "\n",
        "df_copy = data.drop((['day','month','year']), axis = 1)"
      ]
    },
    {
      "cell_type": "code",
      "execution_count": 258,
      "metadata": {
        "colab": {
          "base_uri": "https://localhost:8080/"
        },
        "id": "6JtKy0WlcoVd",
        "outputId": "6769d793-36bd-413d-8e1e-bfe852874343"
      },
      "outputs": [
        {
          "name": "stdout",
          "output_type": "stream",
          "text": [
            "   Temperature  RH  Ws  Rain  FFMC  DMC    DC  ISI  BUI  FWI      Classes  \\\n",
            "0           29  57  18   0.0  65.7  3.4   7.6  1.3  3.4  0.5  not fire      \n",
            "1           29  61  13   1.3  64.4  4.1   7.6  1.0  3.9  0.4  not fire      \n",
            "2           26  82  22  13.1  47.1  2.5   7.1  0.3  2.7  0.1  not fire      \n",
            "3           25  89  13   2.5  28.6  1.3   6.9  0.0  1.7  0.0  not fire      \n",
            "4           27  77  16   0.0  64.8  3.0  14.2  1.2  3.9  0.5  not fire      \n",
            "\n",
            "   Region  \n",
            "0       0  \n",
            "1       0  \n",
            "2       0  \n",
            "3       0  \n",
            "4       0  \n"
          ]
        }
      ],
      "source": [
        "print(df_copy.head())"
      ]
    },
    {
      "cell_type": "code",
      "execution_count": 259,
      "metadata": {
        "colab": {
          "base_uri": "https://localhost:8080/"
        },
        "id": "lK0qHnB-cytt",
        "outputId": "7b9eeac4-34a3-4f3c-ae53-77a57b85ad7f"
      },
      "outputs": [
        {
          "name": "stdout",
          "output_type": "stream",
          "text": [
            "fire             131\n",
            "not fire         101\n",
            "fire               4\n",
            "fire               2\n",
            "not fire           2\n",
            "not fire           1\n",
            "not fire           1\n",
            "not fire           1\n",
            "Name: Classes, dtype: int64\n"
          ]
        }
      ],
      "source": [
        "# Categories in Classes\n",
        "print(df_copy['Classes'].value_counts())"
      ]
    },
    {
      "cell_type": "code",
      "execution_count": 260,
      "metadata": {
        "id": "gI8kkTvBc97P"
      },
      "outputs": [],
      "source": [
        "# Encoding of the Categories in the Classes\n",
        "\n",
        "df_copy['Classes'] = np.where(df_copy['Classes'].str.contains('not fire'),0,1)"
      ]
    },
    {
      "cell_type": "code",
      "execution_count": 261,
      "metadata": {
        "colab": {
          "base_uri": "https://localhost:8080/"
        },
        "id": "nkLak6BodmJl",
        "outputId": "a1265792-fffc-4cbd-f356-b4214d68e416"
      },
      "outputs": [
        {
          "name": "stdout",
          "output_type": "stream",
          "text": [
            "1    137\n",
            "0    106\n",
            "Name: Classes, dtype: int64\n"
          ]
        }
      ],
      "source": [
        "print(df_copy['Classes'].value_counts())"
      ]
    },
    {
      "cell_type": "markdown",
      "metadata": {
        "id": "rhWPK6o_duCF"
      },
      "source": [
        "**OBSERVATIONS:**\n",
        "\n",
        "(i) There are total 137 entities in the fire class and 106 entities in the not fire class."
      ]
    },
    {
      "cell_type": "code",
      "execution_count": 262,
      "metadata": {
        "colab": {
          "base_uri": "https://localhost:8080/"
        },
        "id": "6D8S3bgBeITn",
        "outputId": "a7665323-5f04-41b5-fe29-dbc5ee19879f"
      },
      "outputs": [
        {
          "name": "stdout",
          "output_type": "stream",
          "text": [
            "   Temperature  RH  Ws  Rain  FFMC  DMC    DC  ISI  BUI  FWI  Classes  Region\n",
            "0           29  57  18   0.0  65.7  3.4   7.6  1.3  3.4  0.5        0       0\n",
            "1           29  61  13   1.3  64.4  4.1   7.6  1.0  3.9  0.4        0       0\n",
            "2           26  82  22  13.1  47.1  2.5   7.1  0.3  2.7  0.1        0       0\n",
            "3           25  89  13   2.5  28.6  1.3   6.9  0.0  1.7  0.0        0       0\n",
            "4           27  77  16   0.0  64.8  3.0  14.2  1.2  3.9  0.5        0       0\n"
          ]
        }
      ],
      "source": [
        "# display the first five records of the dataset\n",
        "print(df_copy.head())"
      ]
    },
    {
      "cell_type": "code",
      "execution_count": 263,
      "metadata": {
        "colab": {
          "base_uri": "https://localhost:8080/"
        },
        "id": "JmEB4XFteStt",
        "outputId": "ac6c600f-6db3-4390-a98c-21f9b5cdf2f1"
      },
      "outputs": [
        {
          "name": "stdout",
          "output_type": "stream",
          "text": [
            "     Temperature  RH  Ws  Rain  FFMC   DMC    DC  ISI   BUI  FWI  Classes  \\\n",
            "238           30  65  14   0.0  85.4  16.0  44.5  4.5  16.9  6.5        1   \n",
            "239           28  87  15   4.4  41.1   6.5   8.0  0.1   6.2  0.0        0   \n",
            "240           27  87  29   0.5  45.9   3.5   7.9  0.4   3.4  0.2        0   \n",
            "241           24  54  18   0.1  79.7   4.3  15.2  1.7   5.1  0.7        0   \n",
            "242           24  64  15   0.2  67.3   3.8  16.5  1.2   4.8  0.5        0   \n",
            "\n",
            "     Region  \n",
            "238       1  \n",
            "239       1  \n",
            "240       1  \n",
            "241       1  \n",
            "242       1  \n"
          ]
        }
      ],
      "source": [
        "# display the last five records of the dataset\n",
        "print(df_copy.tail())"
      ]
    },
    {
      "cell_type": "code",
      "execution_count": 264,
      "metadata": {
        "colab": {
          "base_uri": "https://localhost:8080/",
          "height": 1000
        },
        "id": "aDN91PvNeb_3",
        "outputId": "1d442f9d-e2a1-4d76-90bf-a3f5e30ddb81"
      },
      "outputs": [
        {
          "name": "stderr",
          "output_type": "stream",
          "text": [
            "<ipython-input-264-0657a47ffa8b>:2: MatplotlibDeprecationWarning: The seaborn styles shipped by Matplotlib are deprecated since 3.6, as they no longer correspond to the styles shipped by seaborn. However, they will remain available as 'seaborn-v0_8-<style>'. Alternatively, directly use the seaborn API instead.\n",
            "  plt.style.use('seaborn')\n"
          ]
        },
        {
          "data": {
            "image/png": "[encoded data removed]",
            "text/plain": [
              "<Figure size 2000x1500 with 12 Axes>"
            ]
          },
          "metadata": {},
          "output_type": "display_data"
        }
      ],
      "source": [
        "# Plot the density plot for all the features\n",
        "plt.style.use('seaborn')\n",
        "df_copy.hist(bins = 50, figsize = (20,15))\n",
        "plt.show()"
      ]
    },
    {
      "cell_type": "code",
      "execution_count": 265,
      "metadata": {
        "id": "wNbHrHuyo1fv"
      },
      "outputs": [],
      "source": [
        "# Percentage of the Pie Class\n",
        "percentage = df_copy['Classes'].value_counts(normalize = True)*100.0"
      ]
    },
    {
      "cell_type": "code",
      "execution_count": 266,
      "metadata": {
        "colab": {
          "base_uri": "https://localhost:8080/"
        },
        "id": "6qnnTUjtpW2s",
        "outputId": "542135c8-2447-4b44-838d-8c6ec7bed3c1"
      },
      "outputs": [
        {
          "name": "stdout",
          "output_type": "stream",
          "text": [
            "1    56.378601\n",
            "0    43.621399\n",
            "Name: Classes, dtype: float64\n"
          ]
        }
      ],
      "source": [
        "print(percentage)"
      ]
    },
    {
      "cell_type": "code",
      "execution_count": 267,
      "metadata": {
        "colab": {
          "base_uri": "https://localhost:8080/",
          "height": 442
        },
        "id": "HMrGTRImpZmm",
        "outputId": "bd090fff-fdb0-4f7c-f97e-091de237b6a0"
      },
      "outputs": [
        {
          "data": {
            "image/png": "[encoded data removed]",
            "text/plain": [
              "<Figure size 1200x500 with 1 Axes>"
            ]
          },
          "metadata": {},
          "output_type": "display_data"
        }
      ],
      "source": [
        "# Plotting for the pie chart of classes\n",
        "\n",
        "classlabels = ['Fire', 'Not Fire']\n",
        "\n",
        "plt.figure(figsize = (12,5))\n",
        "\n",
        "plt.pie(percentage, labels = classlabels, autopct = '%1.1f%%')\n",
        "\n",
        "plt.title('Pie Chart of Classes')\n",
        "\n",
        "plt.show()"
      ]
    },
    {
      "cell_type": "markdown",
      "metadata": {
        "id": "big7DLpnql1T"
      },
      "source": [
        "**OBSERVATION:**\n",
        "\n",
        "*   56.4 % of the Algerian Forest is covered with fire.\n",
        "*   43.6 % of the Algerian Forest is not covered with Fire.\n",
        "\n"
      ]
    },
    {
      "cell_type": "markdown",
      "metadata": {
        "id": "kXASxv6irGqZ"
      },
      "source": [
        "**CORRELATION:**"
      ]
    },
    {
      "cell_type": "code",
      "execution_count": 268,
      "metadata": {
        "colab": {
          "base_uri": "https://localhost:8080/",
          "height": 426
        },
        "id": "ljav18lurEBo",
        "outputId": "ed642214-1009-42ef-bb84-d493d423f5aa"
      },
      "outputs": [
        {
          "data": {
            "application/vnd.google.colaboratory.intrinsic+json": {
              "summary": "{\n  \"name\": \"df_copy\",\n  \"rows\": 12,\n  \"fields\": [\n    {\n      \"column\": \"Temperature\",\n      \"properties\": {\n        \"dtype\": \"number\",\n        \"std\": 0.4812177163936937,\n        \"min\": -0.651400338709241,\n        \"max\": 1.0,\n        \"num_unique_values\": 12,\n        \"samples\": [\n          0.5160154869282906,\n          0.566669878116237,\n          1.0\n        ],\n        \"semantic_type\": \"\",\n        \"description\": \"\"\n      }\n    },\n    {\n      \"column\": \"RH\",\n      \"properties\": {\n        \"dtype\": \"number\",\n        \"std\": 0.49903426792773004,\n        \"min\": -0.6866670434377354,\n        \"max\": 1.0,\n        \"num_unique_values\": 12,\n        \"samples\": [\n          -0.4321607413557422,\n          -0.5809567466893123,\n          -0.651400338709241\n        ],\n        \"semantic_type\": \"\",\n        \"description\": \"\"\n      }\n    },\n    {\n      \"column\": \"Ws\",\n      \"properties\": {\n        \"dtype\": \"number\",\n        \"std\": 0.32773569471261177,\n        \"min\": -0.2845098896793372,\n        \"max\": 1.0,\n        \"num_unique_values\": 12,\n        \"samples\": [\n          -0.06996363288941113,\n          0.03236777266168856,\n          -0.2845098896793372\n        ],\n        \"semantic_type\": \"\",\n        \"description\": \"\"\n      }\n    },\n    {\n      \"column\": \"Rain\",\n      \"properties\": {\n        \"dtype\": \"number\",\n        \"std\": 0.4197934153717571,\n        \"min\": -0.5439061882897656,\n        \"max\": 1.0,\n        \"num_unique_values\": 12,\n        \"samples\": [\n          -0.37909716520248304,\n          -0.3244215593312768,\n          -0.3264919235683732\n        ],\n        \"semantic_type\": \"\",\n        \"description\": \"\"\n      }\n    },\n    {\n      \"column\": \"FFMC\",\n      \"properties\": {\n        \"dtype\": \"number\",\n        \"std\": 0.5383605983804439,\n        \"min\": -0.6448734645051493,\n        \"max\": 1.0,\n        \"num_unique_values\": 12,\n        \"samples\": [\n          0.7694922970073381,\n          0.6911319706859315,\n          0.6765681454978703\n        ],\n        \"semantic_type\": \"\",\n        \"description\": \"\"\n      }\n    },\n    {\n      \"column\": \"DMC\",\n      \"properties\": {\n        \"dtype\": \"number\",\n        \"std\": 0.4856713480263609,\n        \"min\": -0.4085191879924509,\n        \"max\": 1.0,\n        \"num_unique_values\": 12,\n        \"samples\": [\n          0.5856577689867186,\n          0.8758641588191531,\n          0.48568692303508737\n        ],\n        \"semantic_type\": \"\",\n        \"description\": \"\"\n      }\n    },\n    {\n      \"column\": \"DC\",\n      \"properties\": {\n        \"dtype\": \"number\",\n        \"std\": 0.45152891625659786,\n        \"min\": -0.29802308080689033,\n        \"max\": 1.0,\n        \"num_unique_values\": 12,\n        \"samples\": [\n          0.5111233336622587,\n          0.7395205557052649,\n          0.3762835324075594\n        ],\n        \"semantic_type\": \"\",\n        \"description\": \"\"\n      }\n    },\n    {\n      \"column\": \"ISI\",\n      \"properties\": {\n        \"dtype\": \"number\",\n        \"std\": 0.5185929014546771,\n        \"min\": -0.6866670434377354,\n        \"max\": 1.0,\n        \"num_unique_values\": 12,\n        \"samples\": [\n          0.7351973881454745,\n          0.9228949343157855,\n          0.6038705585736152\n        ],\n        \"semantic_type\": \"\",\n        \"description\": \"\"\n      }\n    },\n    {\n      \"column\": \"BUI\",\n      \"properties\": {\n        \"dtype\": \"number\",\n        \"std\": 0.4845893992047555,\n        \"min\": -0.35384054752884353,\n        \"max\": 1.0,\n        \"num_unique_values\": 12,\n        \"samples\": [\n          0.5866394889697074,\n          0.8579730958964258,\n          0.4597894732607089\n        ],\n        \"semantic_type\": \"\",\n        \"description\": \"\"\n      }\n    },\n    {\n      \"column\": \"FWI\",\n      \"properties\": {\n        \"dtype\": \"number\",\n        \"std\": 0.5218493068747606,\n        \"min\": -0.5809567466893123,\n        \"max\": 1.0,\n        \"num_unique_values\": 12,\n        \"samples\": [\n          0.7192161486674156,\n          1.0,\n          0.566669878116237\n        ],\n        \"semantic_type\": \"\",\n        \"description\": \"\"\n      }\n    },\n    {\n      \"column\": \"Classes\",\n      \"properties\": {\n        \"dtype\": \"number\",\n        \"std\": 0.4653405558754816,\n        \"min\": -0.4321607413557422,\n        \"max\": 1.0,\n        \"num_unique_values\": 12,\n        \"samples\": [\n          1.0,\n          0.7192161486674156,\n          0.5160154869282906\n        ],\n        \"semantic_type\": \"\",\n        \"description\": \"\"\n      }\n    },\n    {\n      \"column\": \"Region\",\n      \"properties\": {\n        \"dtype\": \"number\",\n        \"std\": 0.3391485998390807,\n        \"min\": -0.40268162228962845,\n        \"max\": 1.0,\n        \"num_unique_values\": 12,\n        \"samples\": [\n          0.16234666254989277,\n          0.19710232928956803,\n          0.2695554562297727\n        ],\n        \"semantic_type\": \"\",\n        \"description\": \"\"\n      }\n    }\n  ]\n}",
              "type": "dataframe"
            },
            "text/html": [
              "\n",
              "  <div id=\"df-2ad54ce9-1f5d-4500-a9a1-8bbaca716f36\" class=\"colab-df-container\">\n",
              "    <div>\n",
              "<style scoped>\n",
              "    .dataframe tbody tr th:only-of-type {\n",
              "        vertical-align: middle;\n",
              "    }\n",
              "\n",
              "    .dataframe tbody tr th {\n",
              "        vertical-align: top;\n",
              "    }\n",
              "\n",
              "    .dataframe thead th {\n",
              "        text-align: right;\n",
              "    }\n",
              "</style>\n",
              "<table border=\"1\" class=\"dataframe\">\n",
              "  <thead>\n",
              "    <tr style=\"text-align: right;\">\n",
              "      <th></th>\n",
              "      <th>Temperature</th>\n",
              "      <th>RH</th>\n",
              "      <th>Ws</th>\n",
              "      <th>Rain</th>\n",
              "      <th>FFMC</th>\n",
              "      <th>DMC</th>\n",
              "      <th>DC</th>\n",
              "      <th>ISI</th>\n",
              "      <th>BUI</th>\n",
              "      <th>FWI</th>\n",
              "      <th>Classes</th>\n",
              "      <th>Region</th>\n",
              "    </tr>\n",
              "  </thead>\n",
              "  <tbody>\n",
              "    <tr>\n",
              "      <th>Temperature</th>\n",
              "      <td>1.000000</td>\n",
              "      <td>-0.651400</td>\n",
              "      <td>-0.284510</td>\n",
              "      <td>-0.326492</td>\n",
              "      <td>0.676568</td>\n",
              "      <td>0.485687</td>\n",
              "      <td>0.376284</td>\n",
              "      <td>0.603871</td>\n",
              "      <td>0.459789</td>\n",
              "      <td>0.566670</td>\n",
              "      <td>0.516015</td>\n",
              "      <td>0.269555</td>\n",
              "    </tr>\n",
              "    <tr>\n",
              "      <th>RH</th>\n",
              "      <td>-0.651400</td>\n",
              "      <td>1.000000</td>\n",
              "      <td>0.244048</td>\n",
              "      <td>0.222356</td>\n",
              "      <td>-0.644873</td>\n",
              "      <td>-0.408519</td>\n",
              "      <td>-0.226941</td>\n",
              "      <td>-0.686667</td>\n",
              "      <td>-0.353841</td>\n",
              "      <td>-0.580957</td>\n",
              "      <td>-0.432161</td>\n",
              "      <td>-0.402682</td>\n",
              "    </tr>\n",
              "    <tr>\n",
              "      <th>Ws</th>\n",
              "      <td>-0.284510</td>\n",
              "      <td>0.244048</td>\n",
              "      <td>1.000000</td>\n",
              "      <td>0.171506</td>\n",
              "      <td>-0.166548</td>\n",
              "      <td>-0.000721</td>\n",
              "      <td>0.079135</td>\n",
              "      <td>0.008532</td>\n",
              "      <td>0.031438</td>\n",
              "      <td>0.032368</td>\n",
              "      <td>-0.069964</td>\n",
              "      <td>-0.181160</td>\n",
              "    </tr>\n",
              "    <tr>\n",
              "      <th>Rain</th>\n",
              "      <td>-0.326492</td>\n",
              "      <td>0.222356</td>\n",
              "      <td>0.171506</td>\n",
              "      <td>1.000000</td>\n",
              "      <td>-0.543906</td>\n",
              "      <td>-0.288773</td>\n",
              "      <td>-0.298023</td>\n",
              "      <td>-0.347484</td>\n",
              "      <td>-0.299852</td>\n",
              "      <td>-0.324422</td>\n",
              "      <td>-0.379097</td>\n",
              "      <td>-0.040013</td>\n",
              "    </tr>\n",
              "    <tr>\n",
              "      <th>FFMC</th>\n",
              "      <td>0.676568</td>\n",
              "      <td>-0.644873</td>\n",
              "      <td>-0.166548</td>\n",
              "      <td>-0.543906</td>\n",
              "      <td>1.000000</td>\n",
              "      <td>0.603608</td>\n",
              "      <td>0.507397</td>\n",
              "      <td>0.740007</td>\n",
              "      <td>0.592011</td>\n",
              "      <td>0.691132</td>\n",
              "      <td>0.769492</td>\n",
              "      <td>0.222241</td>\n",
              "    </tr>\n",
              "    <tr>\n",
              "      <th>DMC</th>\n",
              "      <td>0.485687</td>\n",
              "      <td>-0.408519</td>\n",
              "      <td>-0.000721</td>\n",
              "      <td>-0.288773</td>\n",
              "      <td>0.603608</td>\n",
              "      <td>1.000000</td>\n",
              "      <td>0.875925</td>\n",
              "      <td>0.680454</td>\n",
              "      <td>0.982248</td>\n",
              "      <td>0.875864</td>\n",
              "      <td>0.585658</td>\n",
              "      <td>0.192089</td>\n",
              "    </tr>\n",
              "    <tr>\n",
              "      <th>DC</th>\n",
              "      <td>0.376284</td>\n",
              "      <td>-0.226941</td>\n",
              "      <td>0.079135</td>\n",
              "      <td>-0.298023</td>\n",
              "      <td>0.507397</td>\n",
              "      <td>0.875925</td>\n",
              "      <td>1.000000</td>\n",
              "      <td>0.508643</td>\n",
              "      <td>0.941988</td>\n",
              "      <td>0.739521</td>\n",
              "      <td>0.511123</td>\n",
              "      <td>-0.078734</td>\n",
              "    </tr>\n",
              "    <tr>\n",
              "      <th>ISI</th>\n",
              "      <td>0.603871</td>\n",
              "      <td>-0.686667</td>\n",
              "      <td>0.008532</td>\n",
              "      <td>-0.347484</td>\n",
              "      <td>0.740007</td>\n",
              "      <td>0.680454</td>\n",
              "      <td>0.508643</td>\n",
              "      <td>1.000000</td>\n",
              "      <td>0.644093</td>\n",
              "      <td>0.922895</td>\n",
              "      <td>0.735197</td>\n",
              "      <td>0.263197</td>\n",
              "    </tr>\n",
              "    <tr>\n",
              "      <th>BUI</th>\n",
              "      <td>0.459789</td>\n",
              "      <td>-0.353841</td>\n",
              "      <td>0.031438</td>\n",
              "      <td>-0.299852</td>\n",
              "      <td>0.592011</td>\n",
              "      <td>0.982248</td>\n",
              "      <td>0.941988</td>\n",
              "      <td>0.644093</td>\n",
              "      <td>1.000000</td>\n",
              "      <td>0.857973</td>\n",
              "      <td>0.586639</td>\n",
              "      <td>0.089408</td>\n",
              "    </tr>\n",
              "    <tr>\n",
              "      <th>FWI</th>\n",
              "      <td>0.566670</td>\n",
              "      <td>-0.580957</td>\n",
              "      <td>0.032368</td>\n",
              "      <td>-0.324422</td>\n",
              "      <td>0.691132</td>\n",
              "      <td>0.875864</td>\n",
              "      <td>0.739521</td>\n",
              "      <td>0.922895</td>\n",
              "      <td>0.857973</td>\n",
              "      <td>1.000000</td>\n",
              "      <td>0.719216</td>\n",
              "      <td>0.197102</td>\n",
              "    </tr>\n",
              "    <tr>\n",
              "      <th>Classes</th>\n",
              "      <td>0.516015</td>\n",
              "      <td>-0.432161</td>\n",
              "      <td>-0.069964</td>\n",
              "      <td>-0.379097</td>\n",
              "      <td>0.769492</td>\n",
              "      <td>0.585658</td>\n",
              "      <td>0.511123</td>\n",
              "      <td>0.735197</td>\n",
              "      <td>0.586639</td>\n",
              "      <td>0.719216</td>\n",
              "      <td>1.000000</td>\n",
              "      <td>0.162347</td>\n",
              "    </tr>\n",
              "    <tr>\n",
              "      <th>Region</th>\n",
              "      <td>0.269555</td>\n",
              "      <td>-0.402682</td>\n",
              "      <td>-0.181160</td>\n",
              "      <td>-0.040013</td>\n",
              "      <td>0.222241</td>\n",
              "      <td>0.192089</td>\n",
              "      <td>-0.078734</td>\n",
              "      <td>0.263197</td>\n",
              "      <td>0.089408</td>\n",
              "      <td>0.197102</td>\n",
              "      <td>0.162347</td>\n",
              "      <td>1.000000</td>\n",
              "    </tr>\n",
              "  </tbody>\n",
              "</table>\n",
              "</div>\n",
              "    <div class=\"colab-df-buttons\">\n",
              "\n",
              "  <div class=\"colab-df-container\">\n",
              "    <button class=\"colab-df-convert\" onclick=\"convertToInteractive('df-2ad54ce9-1f5d-4500-a9a1-8bbaca716f36')\"\n",
              "            title=\"Convert this dataframe to an interactive table.\"\n",
              "            style=\"display:none;\">\n",
              "\n",
              "  <svg xmlns=\"http://www.w3.org/2000/svg\" height=\"24px\" viewBox=\"0 -960 960 960\">\n",
              "    <path d=\"M120-120v-720h720v720H120Zm60-500h600v-160H180v160Zm220 220h160v-160H400v160Zm0 220h160v-160H400v160ZM180-400h160v-160H180v160Zm440 0h160v-160H620v160ZM180-180h160v-160H180v160Zm440 0h160v-160H620v160Z\"/>\n",
              "  </svg>\n",
              "    </button>\n",
              "\n",
              "  <style>\n",
              "    .colab-df-container {\n",
              "      display:flex;\n",
              "      gap: 12px;\n",
              "    }\n",
              "\n",
              "    .colab-df-convert {\n",
              "      background-color: #E8F0FE;\n",
              "      border: none;\n",
              "      border-radius: 50%;\n",
              "      cursor: pointer;\n",
              "      display: none;\n",
              "      fill: #1967D2;\n",
              "      height: 32px;\n",
              "      padding: 0 0 0 0;\n",
              "      width: 32px;\n",
              "    }\n",
              "\n",
              "    .colab-df-convert:hover {\n",
              "      background-color: #E2EBFA;\n",
              "      box-shadow: 0px 1px 2px rgba(60, 64, 67, 0.3), 0px 1px 3px 1px rgba(60, 64, 67, 0.15);\n",
              "      fill: #174EA6;\n",
              "    }\n",
              "\n",
              "    .colab-df-buttons div {\n",
              "      margin-bottom: 4px;\n",
              "    }\n",
              "\n",
              "    [theme=dark] .colab-df-convert {\n",
              "      background-color: #3B4455;\n",
              "      fill: #D2E3FC;\n",
              "    }\n",
              "\n",
              "    [theme=dark] .colab-df-convert:hover {\n",
              "      background-color: #434B5C;\n",
              "      box-shadow: 0px 1px 3px 1px rgba(0, 0, 0, 0.15);\n",
              "      filter: drop-shadow(0px 1px 2px rgba(0, 0, 0, 0.3));\n",
              "      fill: #FFFFFF;\n",
              "    }\n",
              "  </style>\n",
              "\n",
              "    <script>\n",
              "      const buttonEl =\n",
              "        document.querySelector('#df-2ad54ce9-1f5d-4500-a9a1-8bbaca716f36 button.colab-df-convert');\n",
              "      buttonEl.style.display =\n",
              "        google.colab.kernel.accessAllowed ? 'block' : 'none';\n",
              "\n",
              "      async function convertToInteractive(key) {\n",
              "        const element = document.querySelector('#df-2ad54ce9-1f5d-4500-a9a1-8bbaca716f36');\n",
              "        const dataTable =\n",
              "          await google.colab.kernel.invokeFunction('convertToInteractive',\n",
              "                                                    [key], {});\n",
              "        if (!dataTable) return;\n",
              "\n",
              "        const docLinkHtml = 'Like what you see? Visit the ' +\n",
              "          '<a target=\"_blank\" href=https://colab.research.google.com/notebooks/data_table.ipynb>data table notebook</a>'\n",
              "          + ' to learn more about interactive tables.';\n",
              "        element.innerHTML = '';\n",
              "        dataTable['output_type'] = 'display_data';\n",
              "        await google.colab.output.renderOutput(dataTable, element);\n",
              "        const docLink = document.createElement('div');\n",
              "        docLink.innerHTML = docLinkHtml;\n",
              "        element.appendChild(docLink);\n",
              "      }\n",
              "    </script>\n",
              "  </div>\n",
              "\n",
              "\n",
              "<div id=\"df-f1983dcb-dfb9-41e1-a660-78c6fde329f7\">\n",
              "  <button class=\"colab-df-quickchart\" onclick=\"quickchart('df-f1983dcb-dfb9-41e1-a660-78c6fde329f7')\"\n",
              "            title=\"Suggest charts\"\n",
              "            style=\"display:none;\">\n",
              "\n",
              "<svg xmlns=\"http://www.w3.org/2000/svg\" height=\"24px\"viewBox=\"0 0 24 24\"\n",
              "     width=\"24px\">\n",
              "    <g>\n",
              "        <path d=\"M19 3H5c-1.1 0-2 .9-2 2v14c0 1.1.9 2 2 2h14c1.1 0 2-.9 2-2V5c0-1.1-.9-2-2-2zM9 17H7v-7h2v7zm4 0h-2V7h2v10zm4 0h-2v-4h2v4z\"/>\n",
              "    </g>\n",
              "</svg>\n",
              "  </button>\n",
              "\n",
              "<style>\n",
              "  .colab-df-quickchart {\n",
              "      --bg-color: #E8F0FE;\n",
              "      --fill-color: #1967D2;\n",
              "      --hover-bg-color: #E2EBFA;\n",
              "      --hover-fill-color: #174EA6;\n",
              "      --disabled-fill-color: #AAA;\n",
              "      --disabled-bg-color: #DDD;\n",
              "  }\n",
              "\n",
              "  [theme=dark] .colab-df-quickchart {\n",
              "      --bg-color: #3B4455;\n",
              "      --fill-color: #D2E3FC;\n",
              "      --hover-bg-color: #434B5C;\n",
              "      --hover-fill-color: #FFFFFF;\n",
              "      --disabled-bg-color: #3B4455;\n",
              "      --disabled-fill-color: #666;\n",
              "  }\n",
              "\n",
              "  .colab-df-quickchart {\n",
              "    background-color: var(--bg-color);\n",
              "    border: none;\n",
              "    border-radius: 50%;\n",
              "    cursor: pointer;\n",
              "    display: none;\n",
              "    fill: var(--fill-color);\n",
              "    height: 32px;\n",
              "    padding: 0;\n",
              "    width: 32px;\n",
              "  }\n",
              "\n",
              "  .colab-df-quickchart:hover {\n",
              "    background-color: var(--hover-bg-color);\n",
              "    box-shadow: 0 1px 2px rgba(60, 64, 67, 0.3), 0 1px 3px 1px rgba(60, 64, 67, 0.15);\n",
              "    fill: var(--button-hover-fill-color);\n",
              "  }\n",
              "\n",
              "  .colab-df-quickchart-complete:disabled,\n",
              "  .colab-df-quickchart-complete:disabled:hover {\n",
              "    background-color: var(--disabled-bg-color);\n",
              "    fill: var(--disabled-fill-color);\n",
              "    box-shadow: none;\n",
              "  }\n",
              "\n",
              "  .colab-df-spinner {\n",
              "    border: 2px solid var(--fill-color);\n",
              "    border-color: transparent;\n",
              "    border-bottom-color: var(--fill-color);\n",
              "    animation:\n",
              "      spin 1s steps(1) infinite;\n",
              "  }\n",
              "\n",
              "  @keyframes spin {\n",
              "    0% {\n",
              "      border-color: transparent;\n",
              "      border-bottom-color: var(--fill-color);\n",
              "      border-left-color: var(--fill-color);\n",
              "    }\n",
              "    20% {\n",
              "      border-color: transparent;\n",
              "      border-left-color: var(--fill-color);\n",
              "      border-top-color: var(--fill-color);\n",
              "    }\n",
              "    30% {\n",
              "      border-color: transparent;\n",
              "      border-left-color: var(--fill-color);\n",
              "      border-top-color: var(--fill-color);\n",
              "      border-right-color: var(--fill-color);\n",
              "    }\n",
              "    40% {\n",
              "      border-color: transparent;\n",
              "      border-right-color: var(--fill-color);\n",
              "      border-top-color: var(--fill-color);\n",
              "    }\n",
              "    60% {\n",
              "      border-color: transparent;\n",
              "      border-right-color: var(--fill-color);\n",
              "    }\n",
              "    80% {\n",
              "      border-color: transparent;\n",
              "      border-right-color: var(--fill-color);\n",
              "      border-bottom-color: var(--fill-color);\n",
              "    }\n",
              "    90% {\n",
              "      border-color: transparent;\n",
              "      border-bottom-color: var(--fill-color);\n",
              "    }\n",
              "  }\n",
              "</style>\n",
              "\n",
              "  <script>\n",
              "    async function quickchart(key) {\n",
              "      const quickchartButtonEl =\n",
              "        document.querySelector('#' + key + ' button');\n",
              "      quickchartButtonEl.disabled = true;  // To prevent multiple clicks.\n",
              "      quickchartButtonEl.classList.add('colab-df-spinner');\n",
              "      try {\n",
              "        const charts = await google.colab.kernel.invokeFunction(\n",
              "            'suggestCharts', [key], {});\n",
              "      } catch (error) {\n",
              "        console.error('Error during call to suggestCharts:', error);\n",
              "      }\n",
              "      quickchartButtonEl.classList.remove('colab-df-spinner');\n",
              "      quickchartButtonEl.classList.add('colab-df-quickchart-complete');\n",
              "    }\n",
              "    (() => {\n",
              "      let quickchartButtonEl =\n",
              "        document.querySelector('#df-f1983dcb-dfb9-41e1-a660-78c6fde329f7 button');\n",
              "      quickchartButtonEl.style.display =\n",
              "        google.colab.kernel.accessAllowed ? 'block' : 'none';\n",
              "    })();\n",
              "  </script>\n",
              "</div>\n",
              "\n",
              "    </div>\n",
              "  </div>\n"
            ],
            "text/plain": [
              "             Temperature        RH        Ws      Rain      FFMC       DMC  \\\n",
              "Temperature     1.000000 -0.651400 -0.284510 -0.326492  0.676568  0.485687   \n",
              "RH             -0.651400  1.000000  0.244048  0.222356 -0.644873 -0.408519   \n",
              "Ws             -0.284510  0.244048  1.000000  0.171506 -0.166548 -0.000721   \n",
              "Rain           -0.326492  0.222356  0.171506  1.000000 -0.543906 -0.288773   \n",
              "FFMC            0.676568 -0.644873 -0.166548 -0.543906  1.000000  0.603608   \n",
              "DMC             0.485687 -0.408519 -0.000721 -0.288773  0.603608  1.000000   \n",
              "DC              0.376284 -0.226941  0.079135 -0.298023  0.507397  0.875925   \n",
              "ISI             0.603871 -0.686667  0.008532 -0.347484  0.740007  0.680454   \n",
              "BUI             0.459789 -0.353841  0.031438 -0.299852  0.592011  0.982248   \n",
              "FWI             0.566670 -0.580957  0.032368 -0.324422  0.691132  0.875864   \n",
              "Classes         0.516015 -0.432161 -0.069964 -0.379097  0.769492  0.585658   \n",
              "Region          0.269555 -0.402682 -0.181160 -0.040013  0.222241  0.192089   \n",
              "\n",
              "                   DC       ISI       BUI       FWI   Classes    Region  \n",
              "Temperature  0.376284  0.603871  0.459789  0.566670  0.516015  0.269555  \n",
              "RH          -0.226941 -0.686667 -0.353841 -0.580957 -0.432161 -0.402682  \n",
              "Ws           0.079135  0.008532  0.031438  0.032368 -0.069964 -0.181160  \n",
              "Rain        -0.298023 -0.347484 -0.299852 -0.324422 -0.379097 -0.040013  \n",
              "FFMC         0.507397  0.740007  0.592011  0.691132  0.769492  0.222241  \n",
              "DMC          0.875925  0.680454  0.982248  0.875864  0.585658  0.192089  \n",
              "DC           1.000000  0.508643  0.941988  0.739521  0.511123 -0.078734  \n",
              "ISI          0.508643  1.000000  0.644093  0.922895  0.735197  0.263197  \n",
              "BUI          0.941988  0.644093  1.000000  0.857973  0.586639  0.089408  \n",
              "FWI          0.739521  0.922895  0.857973  1.000000  0.719216  0.197102  \n",
              "Classes      0.511123  0.735197  0.586639  0.719216  1.000000  0.162347  \n",
              "Region      -0.078734  0.263197  0.089408  0.197102  0.162347  1.000000  "
            ]
          },
          "execution_count": 268,
          "metadata": {},
          "output_type": "execute_result"
        }
      ],
      "source": [
        "df_copy.corr()"
      ]
    },
    {
      "cell_type": "code",
      "execution_count": 269,
      "metadata": {
        "colab": {
          "base_uri": "https://localhost:8080/",
          "height": 571
        },
        "id": "C6LT8McfrUiR",
        "outputId": "f382c6f3-3eec-4fbf-de82-faf3d5346468"
      },
      "outputs": [
        {
          "data": {
            "text/plain": [
              "<Axes: >"
            ]
          },
          "execution_count": 269,
          "metadata": {},
          "output_type": "execute_result"
        },
        {
          "data": {
            "image/png": "[encoded data removed]",
            "text/plain": [
              "<Figure size 800x550 with 2 Axes>"
            ]
          },
          "metadata": {},
          "output_type": "display_data"
        }
      ],
      "source": [
        "# plot a heatmap for the above correlation data\n",
        "sns.heatmap(df_copy.corr(), annot = True)"
      ]
    },
    {
      "cell_type": "markdown",
      "metadata": {
        "id": "YIpzu077rlZ-"
      },
      "source": [
        "**OBSERVATION:**\n",
        "\n",
        "(i) Here the above graph depicts the numerical relationship between every feature with another feature in the form of heatmap."
      ]
    },
    {
      "cell_type": "code",
      "execution_count": 270,
      "metadata": {
        "colab": {
          "base_uri": "https://localhost:8080/",
          "height": 477
        },
        "id": "aEaqldMlsmEn",
        "outputId": "78917b11-3fc3-4cfc-a68d-d82c4cce060a"
      },
      "outputs": [
        {
          "data": {
            "text/plain": [
              "<Axes: ylabel='FWI'>"
            ]
          },
          "execution_count": 270,
          "metadata": {},
          "output_type": "execute_result"
        },
        {
          "data": {
            "image/png": "[encoded data removed]",
            "text/plain": [
              "<Figure size 800x550 with 1 Axes>"
            ]
          },
          "metadata": {},
          "output_type": "display_data"
        }
      ],
      "source": [
        "# perform the boxplot for FWI attribute of the dataset\n",
        "\n",
        "sns.boxplot(df_copy['FWI'], color = 'blue')"
      ]
    },
    {
      "cell_type": "markdown",
      "metadata": {
        "id": "GzdnzxYes7kf"
      },
      "source": [
        "**OBSERVATIONS:**\n",
        "\n",
        "*   There are some outlier values for FWI(Fire Weather Index) attribute of the given dataset.\n",
        "\n",
        "\n"
      ]
    },
    {
      "cell_type": "code",
      "execution_count": 271,
      "metadata": {
        "colab": {
          "base_uri": "https://localhost:8080/",
          "height": 206
        },
        "id": "Do8Cd3a9tUWj",
        "outputId": "b7fbc391-d262-409e-c8c5-fa0f6e527fd2"
      },
      "outputs": [
        {
          "data": {
            "application/vnd.google.colaboratory.intrinsic+json": {
              "summary": "{\n  \"name\": \"df_copy\",\n  \"rows\": 243,\n  \"fields\": [\n    {\n      \"column\": \"Temperature\",\n      \"properties\": {\n        \"dtype\": \"number\",\n        \"std\": 3,\n        \"min\": 22,\n        \"max\": 42,\n        \"num_unique_values\": 19,\n        \"samples\": [\n          29,\n          33,\n          36\n        ],\n        \"semantic_type\": \"\",\n        \"description\": \"\"\n      }\n    },\n    {\n      \"column\": \"RH\",\n      \"properties\": {\n        \"dtype\": \"number\",\n        \"std\": 14,\n        \"min\": 21,\n        \"max\": 90,\n        \"num_unique_values\": 62,\n        \"samples\": [\n          83,\n          31,\n          57\n        ],\n        \"semantic_type\": \"\",\n        \"description\": \"\"\n      }\n    },\n    {\n      \"column\": \"Ws\",\n      \"properties\": {\n        \"dtype\": \"number\",\n        \"std\": 2,\n        \"min\": 6,\n        \"max\": 29,\n        \"num_unique_values\": 18,\n        \"samples\": [\n          18,\n          13,\n          21\n        ],\n        \"semantic_type\": \"\",\n        \"description\": \"\"\n      }\n    },\n    {\n      \"column\": \"Rain\",\n      \"properties\": {\n        \"dtype\": \"number\",\n        \"std\": 2.003206795506829,\n        \"min\": 0.0,\n        \"max\": 16.8,\n        \"num_unique_values\": 39,\n        \"samples\": [\n          6.0,\n          4.1,\n          0.2\n        ],\n        \"semantic_type\": \"\",\n        \"description\": \"\"\n      }\n    },\n    {\n      \"column\": \"FFMC\",\n      \"properties\": {\n        \"dtype\": \"number\",\n        \"std\": 14.349641256730104,\n        \"min\": 28.6,\n        \"max\": 96.0,\n        \"num_unique_values\": 173,\n        \"samples\": [\n          64.5,\n          72.6,\n          87.7\n        ],\n        \"semantic_type\": \"\",\n        \"description\": \"\"\n      }\n    },\n    {\n      \"column\": \"DMC\",\n      \"properties\": {\n        \"dtype\": \"number\",\n        \"std\": 12.393039751223832,\n        \"min\": 0.7,\n        \"max\": 65.9,\n        \"num_unique_values\": 165,\n        \"samples\": [\n          16.9,\n          18.0,\n          23.6\n        ],\n        \"semantic_type\": \"\",\n        \"description\": \"\"\n      }\n    },\n    {\n      \"column\": \"DC\",\n      \"properties\": {\n        \"dtype\": \"number\",\n        \"std\": 47.66560598458993,\n        \"min\": 6.9,\n        \"max\": 220.4,\n        \"num_unique_values\": 197,\n        \"samples\": [\n          90.1,\n          14.7,\n          27.1\n        ],\n        \"semantic_type\": \"\",\n        \"description\": \"\"\n      }\n    },\n    {\n      \"column\": \"ISI\",\n      \"properties\": {\n        \"dtype\": \"number\",\n        \"std\": 4.154233833368701,\n        \"min\": 0.0,\n        \"max\": 19.0,\n        \"num_unique_values\": 106,\n        \"samples\": [\n          13.1,\n          4.8,\n          1.2\n        ],\n        \"semantic_type\": \"\",\n        \"description\": \"\"\n      }\n    },\n    {\n      \"column\": \"BUI\",\n      \"properties\": {\n        \"dtype\": \"number\",\n        \"std\": 14.228421131468963,\n        \"min\": 1.1,\n        \"max\": 68.0,\n        \"num_unique_values\": 173,\n        \"samples\": [\n          4.6,\n          8.3,\n          7.7\n        ],\n        \"semantic_type\": \"\",\n        \"description\": \"\"\n      }\n    },\n    {\n      \"column\": \"FWI\",\n      \"properties\": {\n        \"dtype\": \"number\",\n        \"std\": 7.440567726345277,\n        \"min\": 0.0,\n        \"max\": 31.1,\n        \"num_unique_values\": 125,\n        \"samples\": [\n          15.0,\n          10.7,\n          2.1\n        ],\n        \"semantic_type\": \"\",\n        \"description\": \"\"\n      }\n    },\n    {\n      \"column\": \"Classes\",\n      \"properties\": {\n        \"dtype\": \"number\",\n        \"std\": 0,\n        \"min\": 0,\n        \"max\": 1,\n        \"num_unique_values\": 2,\n        \"samples\": [\n          1,\n          0\n        ],\n        \"semantic_type\": \"\",\n        \"description\": \"\"\n      }\n    },\n    {\n      \"column\": \"Region\",\n      \"properties\": {\n        \"dtype\": \"number\",\n        \"std\": 0,\n        \"min\": 0,\n        \"max\": 1,\n        \"num_unique_values\": 2,\n        \"samples\": [\n          1,\n          0\n        ],\n        \"semantic_type\": \"\",\n        \"description\": \"\"\n      }\n    }\n  ]\n}",
              "type": "dataframe",
              "variable_name": "df_copy"
            },
            "text/html": [
              "\n",
              "  <div id=\"df-4513c404-9488-4554-8226-7da772d234aa\" class=\"colab-df-container\">\n",
              "    <div>\n",
              "<style scoped>\n",
              "    .dataframe tbody tr th:only-of-type {\n",
              "        vertical-align: middle;\n",
              "    }\n",
              "\n",
              "    .dataframe tbody tr th {\n",
              "        vertical-align: top;\n",
              "    }\n",
              "\n",
              "    .dataframe thead th {\n",
              "        text-align: right;\n",
              "    }\n",
              "</style>\n",
              "<table border=\"1\" class=\"dataframe\">\n",
              "  <thead>\n",
              "    <tr style=\"text-align: right;\">\n",
              "      <th></th>\n",
              "      <th>Temperature</th>\n",
              "      <th>RH</th>\n",
              "      <th>Ws</th>\n",
              "      <th>Rain</th>\n",
              "      <th>FFMC</th>\n",
              "      <th>DMC</th>\n",
              "      <th>DC</th>\n",
              "      <th>ISI</th>\n",
              "      <th>BUI</th>\n",
              "      <th>FWI</th>\n",
              "      <th>Classes</th>\n",
              "      <th>Region</th>\n",
              "    </tr>\n",
              "  </thead>\n",
              "  <tbody>\n",
              "    <tr>\n",
              "      <th>0</th>\n",
              "      <td>29</td>\n",
              "      <td>57</td>\n",
              "      <td>18</td>\n",
              "      <td>0.0</td>\n",
              "      <td>65.7</td>\n",
              "      <td>3.4</td>\n",
              "      <td>7.6</td>\n",
              "      <td>1.3</td>\n",
              "      <td>3.4</td>\n",
              "      <td>0.5</td>\n",
              "      <td>0</td>\n",
              "      <td>0</td>\n",
              "    </tr>\n",
              "    <tr>\n",
              "      <th>1</th>\n",
              "      <td>29</td>\n",
              "      <td>61</td>\n",
              "      <td>13</td>\n",
              "      <td>1.3</td>\n",
              "      <td>64.4</td>\n",
              "      <td>4.1</td>\n",
              "      <td>7.6</td>\n",
              "      <td>1.0</td>\n",
              "      <td>3.9</td>\n",
              "      <td>0.4</td>\n",
              "      <td>0</td>\n",
              "      <td>0</td>\n",
              "    </tr>\n",
              "    <tr>\n",
              "      <th>2</th>\n",
              "      <td>26</td>\n",
              "      <td>82</td>\n",
              "      <td>22</td>\n",
              "      <td>13.1</td>\n",
              "      <td>47.1</td>\n",
              "      <td>2.5</td>\n",
              "      <td>7.1</td>\n",
              "      <td>0.3</td>\n",
              "      <td>2.7</td>\n",
              "      <td>0.1</td>\n",
              "      <td>0</td>\n",
              "      <td>0</td>\n",
              "    </tr>\n",
              "    <tr>\n",
              "      <th>3</th>\n",
              "      <td>25</td>\n",
              "      <td>89</td>\n",
              "      <td>13</td>\n",
              "      <td>2.5</td>\n",
              "      <td>28.6</td>\n",
              "      <td>1.3</td>\n",
              "      <td>6.9</td>\n",
              "      <td>0.0</td>\n",
              "      <td>1.7</td>\n",
              "      <td>0.0</td>\n",
              "      <td>0</td>\n",
              "      <td>0</td>\n",
              "    </tr>\n",
              "    <tr>\n",
              "      <th>4</th>\n",
              "      <td>27</td>\n",
              "      <td>77</td>\n",
              "      <td>16</td>\n",
              "      <td>0.0</td>\n",
              "      <td>64.8</td>\n",
              "      <td>3.0</td>\n",
              "      <td>14.2</td>\n",
              "      <td>1.2</td>\n",
              "      <td>3.9</td>\n",
              "      <td>0.5</td>\n",
              "      <td>0</td>\n",
              "      <td>0</td>\n",
              "    </tr>\n",
              "  </tbody>\n",
              "</table>\n",
              "</div>\n",
              "    <div class=\"colab-df-buttons\">\n",
              "\n",
              "  <div class=\"colab-df-container\">\n",
              "    <button class=\"colab-df-convert\" onclick=\"convertToInteractive('df-4513c404-9488-4554-8226-7da772d234aa')\"\n",
              "            title=\"Convert this dataframe to an interactive table.\"\n",
              "            style=\"display:none;\">\n",
              "\n",
              "  <svg xmlns=\"http://www.w3.org/2000/svg\" height=\"24px\" viewBox=\"0 -960 960 960\">\n",
              "    <path d=\"M120-120v-720h720v720H120Zm60-500h600v-160H180v160Zm220 220h160v-160H400v160Zm0 220h160v-160H400v160ZM180-400h160v-160H180v160Zm440 0h160v-160H620v160ZM180-180h160v-160H180v160Zm440 0h160v-160H620v160Z\"/>\n",
              "  </svg>\n",
              "    </button>\n",
              "\n",
              "  <style>\n",
              "    .colab-df-container {\n",
              "      display:flex;\n",
              "      gap: 12px;\n",
              "    }\n",
              "\n",
              "    .colab-df-convert {\n",
              "      background-color: #E8F0FE;\n",
              "      border: none;\n",
              "      border-radius: 50%;\n",
              "      cursor: pointer;\n",
              "      display: none;\n",
              "      fill: #1967D2;\n",
              "      height: 32px;\n",
              "      padding: 0 0 0 0;\n",
              "      width: 32px;\n",
              "    }\n",
              "\n",
              "    .colab-df-convert:hover {\n",
              "      background-color: #E2EBFA;\n",
              "      box-shadow: 0px 1px 2px rgba(60, 64, 67, 0.3), 0px 1px 3px 1px rgba(60, 64, 67, 0.15);\n",
              "      fill: #174EA6;\n",
              "    }\n",
              "\n",
              "    .colab-df-buttons div {\n",
              "      margin-bottom: 4px;\n",
              "    }\n",
              "\n",
              "    [theme=dark] .colab-df-convert {\n",
              "      background-color: #3B4455;\n",
              "      fill: #D2E3FC;\n",
              "    }\n",
              "\n",
              "    [theme=dark] .colab-df-convert:hover {\n",
              "      background-color: #434B5C;\n",
              "      box-shadow: 0px 1px 3px 1px rgba(0, 0, 0, 0.15);\n",
              "      filter: drop-shadow(0px 1px 2px rgba(0, 0, 0, 0.3));\n",
              "      fill: #FFFFFF;\n",
              "    }\n",
              "  </style>\n",
              "\n",
              "    <script>\n",
              "      const buttonEl =\n",
              "        document.querySelector('#df-4513c404-9488-4554-8226-7da772d234aa button.colab-df-convert');\n",
              "      buttonEl.style.display =\n",
              "        google.colab.kernel.accessAllowed ? 'block' : 'none';\n",
              "\n",
              "      async function convertToInteractive(key) {\n",
              "        const element = document.querySelector('#df-4513c404-9488-4554-8226-7da772d234aa');\n",
              "        const dataTable =\n",
              "          await google.colab.kernel.invokeFunction('convertToInteractive',\n",
              "                                                    [key], {});\n",
              "        if (!dataTable) return;\n",
              "\n",
              "        const docLinkHtml = 'Like what you see? Visit the ' +\n",
              "          '<a target=\"_blank\" href=https://colab.research.google.com/notebooks/data_table.ipynb>data table notebook</a>'\n",
              "          + ' to learn more about interactive tables.';\n",
              "        element.innerHTML = '';\n",
              "        dataTable['output_type'] = 'display_data';\n",
              "        await google.colab.output.renderOutput(dataTable, element);\n",
              "        const docLink = document.createElement('div');\n",
              "        docLink.innerHTML = docLinkHtml;\n",
              "        element.appendChild(docLink);\n",
              "      }\n",
              "    </script>\n",
              "  </div>\n",
              "\n",
              "\n",
              "<div id=\"df-90e1144c-1c69-4d91-b66b-8e6929aa416e\">\n",
              "  <button class=\"colab-df-quickchart\" onclick=\"quickchart('df-90e1144c-1c69-4d91-b66b-8e6929aa416e')\"\n",
              "            title=\"Suggest charts\"\n",
              "            style=\"display:none;\">\n",
              "\n",
              "<svg xmlns=\"http://www.w3.org/2000/svg\" height=\"24px\"viewBox=\"0 0 24 24\"\n",
              "     width=\"24px\">\n",
              "    <g>\n",
              "        <path d=\"M19 3H5c-1.1 0-2 .9-2 2v14c0 1.1.9 2 2 2h14c1.1 0 2-.9 2-2V5c0-1.1-.9-2-2-2zM9 17H7v-7h2v7zm4 0h-2V7h2v10zm4 0h-2v-4h2v4z\"/>\n",
              "    </g>\n",
              "</svg>\n",
              "  </button>\n",
              "\n",
              "<style>\n",
              "  .colab-df-quickchart {\n",
              "      --bg-color: #E8F0FE;\n",
              "      --fill-color: #1967D2;\n",
              "      --hover-bg-color: #E2EBFA;\n",
              "      --hover-fill-color: #174EA6;\n",
              "      --disabled-fill-color: #AAA;\n",
              "      --disabled-bg-color: #DDD;\n",
              "  }\n",
              "\n",
              "  [theme=dark] .colab-df-quickchart {\n",
              "      --bg-color: #3B4455;\n",
              "      --fill-color: #D2E3FC;\n",
              "      --hover-bg-color: #434B5C;\n",
              "      --hover-fill-color: #FFFFFF;\n",
              "      --disabled-bg-color: #3B4455;\n",
              "      --disabled-fill-color: #666;\n",
              "  }\n",
              "\n",
              "  .colab-df-quickchart {\n",
              "    background-color: var(--bg-color);\n",
              "    border: none;\n",
              "    border-radius: 50%;\n",
              "    cursor: pointer;\n",
              "    display: none;\n",
              "    fill: var(--fill-color);\n",
              "    height: 32px;\n",
              "    padding: 0;\n",
              "    width: 32px;\n",
              "  }\n",
              "\n",
              "  .colab-df-quickchart:hover {\n",
              "    background-color: var(--hover-bg-color);\n",
              "    box-shadow: 0 1px 2px rgba(60, 64, 67, 0.3), 0 1px 3px 1px rgba(60, 64, 67, 0.15);\n",
              "    fill: var(--button-hover-fill-color);\n",
              "  }\n",
              "\n",
              "  .colab-df-quickchart-complete:disabled,\n",
              "  .colab-df-quickchart-complete:disabled:hover {\n",
              "    background-color: var(--disabled-bg-color);\n",
              "    fill: var(--disabled-fill-color);\n",
              "    box-shadow: none;\n",
              "  }\n",
              "\n",
              "  .colab-df-spinner {\n",
              "    border: 2px solid var(--fill-color);\n",
              "    border-color: transparent;\n",
              "    border-bottom-color: var(--fill-color);\n",
              "    animation:\n",
              "      spin 1s steps(1) infinite;\n",
              "  }\n",
              "\n",
              "  @keyframes spin {\n",
              "    0% {\n",
              "      border-color: transparent;\n",
              "      border-bottom-color: var(--fill-color);\n",
              "      border-left-color: var(--fill-color);\n",
              "    }\n",
              "    20% {\n",
              "      border-color: transparent;\n",
              "      border-left-color: var(--fill-color);\n",
              "      border-top-color: var(--fill-color);\n",
              "    }\n",
              "    30% {\n",
              "      border-color: transparent;\n",
              "      border-left-color: var(--fill-color);\n",
              "      border-top-color: var(--fill-color);\n",
              "      border-right-color: var(--fill-color);\n",
              "    }\n",
              "    40% {\n",
              "      border-color: transparent;\n",
              "      border-right-color: var(--fill-color);\n",
              "      border-top-color: var(--fill-color);\n",
              "    }\n",
              "    60% {\n",
              "      border-color: transparent;\n",
              "      border-right-color: var(--fill-color);\n",
              "    }\n",
              "    80% {\n",
              "      border-color: transparent;\n",
              "      border-right-color: var(--fill-color);\n",
              "      border-bottom-color: var(--fill-color);\n",
              "    }\n",
              "    90% {\n",
              "      border-color: transparent;\n",
              "      border-bottom-color: var(--fill-color);\n",
              "    }\n",
              "  }\n",
              "</style>\n",
              "\n",
              "  <script>\n",
              "    async function quickchart(key) {\n",
              "      const quickchartButtonEl =\n",
              "        document.querySelector('#' + key + ' button');\n",
              "      quickchartButtonEl.disabled = true;  // To prevent multiple clicks.\n",
              "      quickchartButtonEl.classList.add('colab-df-spinner');\n",
              "      try {\n",
              "        const charts = await google.colab.kernel.invokeFunction(\n",
              "            'suggestCharts', [key], {});\n",
              "      } catch (error) {\n",
              "        console.error('Error during call to suggestCharts:', error);\n",
              "      }\n",
              "      quickchartButtonEl.classList.remove('colab-df-spinner');\n",
              "      quickchartButtonEl.classList.add('colab-df-quickchart-complete');\n",
              "    }\n",
              "    (() => {\n",
              "      let quickchartButtonEl =\n",
              "        document.querySelector('#df-90e1144c-1c69-4d91-b66b-8e6929aa416e button');\n",
              "      quickchartButtonEl.style.display =\n",
              "        google.colab.kernel.accessAllowed ? 'block' : 'none';\n",
              "    })();\n",
              "  </script>\n",
              "</div>\n",
              "\n",
              "    </div>\n",
              "  </div>\n"
            ],
            "text/plain": [
              "   Temperature  RH  Ws  Rain  FFMC  DMC    DC  ISI  BUI  FWI  Classes  Region\n",
              "0           29  57  18   0.0  65.7  3.4   7.6  1.3  3.4  0.5        0       0\n",
              "1           29  61  13   1.3  64.4  4.1   7.6  1.0  3.9  0.4        0       0\n",
              "2           26  82  22  13.1  47.1  2.5   7.1  0.3  2.7  0.1        0       0\n",
              "3           25  89  13   2.5  28.6  1.3   6.9  0.0  1.7  0.0        0       0\n",
              "4           27  77  16   0.0  64.8  3.0  14.2  1.2  3.9  0.5        0       0"
            ]
          },
          "execution_count": 271,
          "metadata": {},
          "output_type": "execute_result"
        }
      ],
      "source": [
        "df_copy.head()"
      ]
    },
    {
      "cell_type": "code",
      "execution_count": 272,
      "metadata": {
        "id": "B_dqQwmTOmDO"
      },
      "outputs": [],
      "source": [
        "data['Classes'] = np.where(data['Classes'].str.contains('not fire'),0,1)"
      ]
    },
    {
      "cell_type": "code",
      "execution_count": 273,
      "metadata": {
        "colab": {
          "base_uri": "https://localhost:8080/"
        },
        "id": "nBrBKwvVt2Rx",
        "outputId": "e35673f7-0223-4abd-ff65-910fd7c7dc5e"
      },
      "outputs": [
        {
          "data": {
            "text/plain": [
              "1    137\n",
              "0    106\n",
              "Name: Classes, dtype: int64"
            ]
          },
          "execution_count": 273,
          "metadata": {},
          "output_type": "execute_result"
        }
      ],
      "source": [
        "data['Classes'].value_counts()"
      ]
    },
    {
      "cell_type": "code",
      "execution_count": 274,
      "metadata": {
        "colab": {
          "base_uri": "https://localhost:8080/",
          "height": 582
        },
        "id": "QNDvOE8MuiQw",
        "outputId": "1784f34f-6e38-4166-cb23-0411255f51ae"
      },
      "outputs": [
        {
          "data": {
            "text/plain": [
              "Text(0.5, 1.0, 'Fire Analysis of Sidi-Bel Region')"
            ]
          },
          "execution_count": 274,
          "metadata": {},
          "output_type": "execute_result"
        },
        {
          "data": {
            "image/png": "[encoded data removed]",
            "text/plain": [
              "<Figure size 1300x600 with 1 Axes>"
            ]
          },
          "metadata": {},
          "output_type": "display_data"
        }
      ],
      "source": [
        "# Monthly Fire Analysis\n",
        "\n",
        "dftemp = data[data['Region'] == 1]\n",
        "plt.subplots(figsize = (13,6))\n",
        "sns.set_style('whitegrid')\n",
        "sns.countplot(x = 'month', hue = 'Classes', data = data)\n",
        "plt.xlabel('Months')\n",
        "plt.ylabel('Number of Fires')\n",
        "plt.title('Fire Analysis of Sidi-Bel Region')"
      ]
    },
    {
      "cell_type": "markdown",
      "metadata": {
        "id": "SQN1QWAiwSFZ"
      },
      "source": [
        "**OBSERVATION:**\n",
        "\n",
        "(i) Maximum Forest fires for Sidi-Bel Region of Algerian Firest has been caught in the month of August."
      ]
    },
    {
      "cell_type": "code",
      "execution_count": 275,
      "metadata": {
        "colab": {
          "base_uri": "https://localhost:8080/",
          "height": 582
        },
        "id": "5KYIYiitwA1M",
        "outputId": "8cee6e26-8893-46d9-e2b1-e99869d70727"
      },
      "outputs": [
        {
          "data": {
            "text/plain": [
              "Text(0.5, 1.0, 'Fire Analysis of Brjaia Region')"
            ]
          },
          "execution_count": 275,
          "metadata": {},
          "output_type": "execute_result"
        },
        {
          "data": {
            "image/png": "[encoded data removed]",
            "text/plain": [
              "<Figure size 1300x600 with 1 Axes>"
            ]
          },
          "metadata": {},
          "output_type": "display_data"
        }
      ],
      "source": [
        "# Monthly Fire Analysis\n",
        "dftemp = data[data['Region'] == 0]\n",
        "plt.subplots(figsize = (13,6))\n",
        "sns.set_style('whitegrid')\n",
        "sns.countplot(x = 'month', hue = 'Classes', data = data)\n",
        "plt.xlabel('Months')\n",
        "plt.ylabel('Number of Fires')\n",
        "plt.title('Fire Analysis of Brjaia Region')"
      ]
    },
    {
      "cell_type": "markdown",
      "metadata": {
        "id": "QWceYXRywjNb"
      },
      "source": [
        "**OBSERVATION:**\n",
        "\n",
        "(i) Maximum Forest fires for Brjaia Region of Algerian Firest has been caught in the month of August."
      ]
    },
    {
      "cell_type": "markdown",
      "metadata": {
        "id": "Rp68XT7EKngz"
      },
      "source": [
        "**3. MODEL TRAINING**"
      ]
    },
    {
      "cell_type": "code",
      "execution_count": 276,
      "metadata": {
        "colab": {
          "base_uri": "https://localhost:8080/",
          "height": 206
        },
        "id": "y1mU9xPHPohb",
        "outputId": "87d94ed2-8c21-45d2-8fd8-085ed042f122"
      },
      "outputs": [
        {
          "data": {
            "application/vnd.google.colaboratory.intrinsic+json": {
              "summary": "{\n  \"name\": \"df_copy\",\n  \"rows\": 243,\n  \"fields\": [\n    {\n      \"column\": \"Temperature\",\n      \"properties\": {\n        \"dtype\": \"number\",\n        \"std\": 3,\n        \"min\": 22,\n        \"max\": 42,\n        \"num_unique_values\": 19,\n        \"samples\": [\n          29,\n          33,\n          36\n        ],\n        \"semantic_type\": \"\",\n        \"description\": \"\"\n      }\n    },\n    {\n      \"column\": \"RH\",\n      \"properties\": {\n        \"dtype\": \"number\",\n        \"std\": 14,\n        \"min\": 21,\n        \"max\": 90,\n        \"num_unique_values\": 62,\n        \"samples\": [\n          83,\n          31,\n          57\n        ],\n        \"semantic_type\": \"\",\n        \"description\": \"\"\n      }\n    },\n    {\n      \"column\": \"Ws\",\n      \"properties\": {\n        \"dtype\": \"number\",\n        \"std\": 2,\n        \"min\": 6,\n        \"max\": 29,\n        \"num_unique_values\": 18,\n        \"samples\": [\n          18,\n          13,\n          21\n        ],\n        \"semantic_type\": \"\",\n        \"description\": \"\"\n      }\n    },\n    {\n      \"column\": \"Rain\",\n      \"properties\": {\n        \"dtype\": \"number\",\n        \"std\": 2.003206795506829,\n        \"min\": 0.0,\n        \"max\": 16.8,\n        \"num_unique_values\": 39,\n        \"samples\": [\n          6.0,\n          4.1,\n          0.2\n        ],\n        \"semantic_type\": \"\",\n        \"description\": \"\"\n      }\n    },\n    {\n      \"column\": \"FFMC\",\n      \"properties\": {\n        \"dtype\": \"number\",\n        \"std\": 14.349641256730104,\n        \"min\": 28.6,\n        \"max\": 96.0,\n        \"num_unique_values\": 173,\n        \"samples\": [\n          64.5,\n          72.6,\n          87.7\n        ],\n        \"semantic_type\": \"\",\n        \"description\": \"\"\n      }\n    },\n    {\n      \"column\": \"DMC\",\n      \"properties\": {\n        \"dtype\": \"number\",\n        \"std\": 12.393039751223832,\n        \"min\": 0.7,\n        \"max\": 65.9,\n        \"num_unique_values\": 165,\n        \"samples\": [\n          16.9,\n          18.0,\n          23.6\n        ],\n        \"semantic_type\": \"\",\n        \"description\": \"\"\n      }\n    },\n    {\n      \"column\": \"DC\",\n      \"properties\": {\n        \"dtype\": \"number\",\n        \"std\": 47.66560598458993,\n        \"min\": 6.9,\n        \"max\": 220.4,\n        \"num_unique_values\": 197,\n        \"samples\": [\n          90.1,\n          14.7,\n          27.1\n        ],\n        \"semantic_type\": \"\",\n        \"description\": \"\"\n      }\n    },\n    {\n      \"column\": \"ISI\",\n      \"properties\": {\n        \"dtype\": \"number\",\n        \"std\": 4.154233833368701,\n        \"min\": 0.0,\n        \"max\": 19.0,\n        \"num_unique_values\": 106,\n        \"samples\": [\n          13.1,\n          4.8,\n          1.2\n        ],\n        \"semantic_type\": \"\",\n        \"description\": \"\"\n      }\n    },\n    {\n      \"column\": \"BUI\",\n      \"properties\": {\n        \"dtype\": \"number\",\n        \"std\": 14.228421131468963,\n        \"min\": 1.1,\n        \"max\": 68.0,\n        \"num_unique_values\": 173,\n        \"samples\": [\n          4.6,\n          8.3,\n          7.7\n        ],\n        \"semantic_type\": \"\",\n        \"description\": \"\"\n      }\n    },\n    {\n      \"column\": \"FWI\",\n      \"properties\": {\n        \"dtype\": \"number\",\n        \"std\": 7.440567726345277,\n        \"min\": 0.0,\n        \"max\": 31.1,\n        \"num_unique_values\": 125,\n        \"samples\": [\n          15.0,\n          10.7,\n          2.1\n        ],\n        \"semantic_type\": \"\",\n        \"description\": \"\"\n      }\n    },\n    {\n      \"column\": \"Classes\",\n      \"properties\": {\n        \"dtype\": \"number\",\n        \"std\": 0,\n        \"min\": 0,\n        \"max\": 1,\n        \"num_unique_values\": 2,\n        \"samples\": [\n          1,\n          0\n        ],\n        \"semantic_type\": \"\",\n        \"description\": \"\"\n      }\n    },\n    {\n      \"column\": \"Region\",\n      \"properties\": {\n        \"dtype\": \"number\",\n        \"std\": 0,\n        \"min\": 0,\n        \"max\": 1,\n        \"num_unique_values\": 2,\n        \"samples\": [\n          1,\n          0\n        ],\n        \"semantic_type\": \"\",\n        \"description\": \"\"\n      }\n    }\n  ]\n}",
              "type": "dataframe",
              "variable_name": "df_copy"
            },
            "text/html": [
              "\n",
              "  <div id=\"df-53dc6242-408a-4ccb-8b82-70ecb0f6937e\" class=\"colab-df-container\">\n",
              "    <div>\n",
              "<style scoped>\n",
              "    .dataframe tbody tr th:only-of-type {\n",
              "        vertical-align: middle;\n",
              "    }\n",
              "\n",
              "    .dataframe tbody tr th {\n",
              "        vertical-align: top;\n",
              "    }\n",
              "\n",
              "    .dataframe thead th {\n",
              "        text-align: right;\n",
              "    }\n",
              "</style>\n",
              "<table border=\"1\" class=\"dataframe\">\n",
              "  <thead>\n",
              "    <tr style=\"text-align: right;\">\n",
              "      <th></th>\n",
              "      <th>Temperature</th>\n",
              "      <th>RH</th>\n",
              "      <th>Ws</th>\n",
              "      <th>Rain</th>\n",
              "      <th>FFMC</th>\n",
              "      <th>DMC</th>\n",
              "      <th>DC</th>\n",
              "      <th>ISI</th>\n",
              "      <th>BUI</th>\n",
              "      <th>FWI</th>\n",
              "      <th>Classes</th>\n",
              "      <th>Region</th>\n",
              "    </tr>\n",
              "  </thead>\n",
              "  <tbody>\n",
              "    <tr>\n",
              "      <th>0</th>\n",
              "      <td>29</td>\n",
              "      <td>57</td>\n",
              "      <td>18</td>\n",
              "      <td>0.0</td>\n",
              "      <td>65.7</td>\n",
              "      <td>3.4</td>\n",
              "      <td>7.6</td>\n",
              "      <td>1.3</td>\n",
              "      <td>3.4</td>\n",
              "      <td>0.5</td>\n",
              "      <td>0</td>\n",
              "      <td>0</td>\n",
              "    </tr>\n",
              "    <tr>\n",
              "      <th>1</th>\n",
              "      <td>29</td>\n",
              "      <td>61</td>\n",
              "      <td>13</td>\n",
              "      <td>1.3</td>\n",
              "      <td>64.4</td>\n",
              "      <td>4.1</td>\n",
              "      <td>7.6</td>\n",
              "      <td>1.0</td>\n",
              "      <td>3.9</td>\n",
              "      <td>0.4</td>\n",
              "      <td>0</td>\n",
              "      <td>0</td>\n",
              "    </tr>\n",
              "    <tr>\n",
              "      <th>2</th>\n",
              "      <td>26</td>\n",
              "      <td>82</td>\n",
              "      <td>22</td>\n",
              "      <td>13.1</td>\n",
              "      <td>47.1</td>\n",
              "      <td>2.5</td>\n",
              "      <td>7.1</td>\n",
              "      <td>0.3</td>\n",
              "      <td>2.7</td>\n",
              "      <td>0.1</td>\n",
              "      <td>0</td>\n",
              "      <td>0</td>\n",
              "    </tr>\n",
              "    <tr>\n",
              "      <th>3</th>\n",
              "      <td>25</td>\n",
              "      <td>89</td>\n",
              "      <td>13</td>\n",
              "      <td>2.5</td>\n",
              "      <td>28.6</td>\n",
              "      <td>1.3</td>\n",
              "      <td>6.9</td>\n",
              "      <td>0.0</td>\n",
              "      <td>1.7</td>\n",
              "      <td>0.0</td>\n",
              "      <td>0</td>\n",
              "      <td>0</td>\n",
              "    </tr>\n",
              "    <tr>\n",
              "      <th>4</th>\n",
              "      <td>27</td>\n",
              "      <td>77</td>\n",
              "      <td>16</td>\n",
              "      <td>0.0</td>\n",
              "      <td>64.8</td>\n",
              "      <td>3.0</td>\n",
              "      <td>14.2</td>\n",
              "      <td>1.2</td>\n",
              "      <td>3.9</td>\n",
              "      <td>0.5</td>\n",
              "      <td>0</td>\n",
              "      <td>0</td>\n",
              "    </tr>\n",
              "  </tbody>\n",
              "</table>\n",
              "</div>\n",
              "    <div class=\"colab-df-buttons\">\n",
              "\n",
              "  <div class=\"colab-df-container\">\n",
              "    <button class=\"colab-df-convert\" onclick=\"convertToInteractive('df-53dc6242-408a-4ccb-8b82-70ecb0f6937e')\"\n",
              "            title=\"Convert this dataframe to an interactive table.\"\n",
              "            style=\"display:none;\">\n",
              "\n",
              "  <svg xmlns=\"http://www.w3.org/2000/svg\" height=\"24px\" viewBox=\"0 -960 960 960\">\n",
              "    <path d=\"M120-120v-720h720v720H120Zm60-500h600v-160H180v160Zm220 220h160v-160H400v160Zm0 220h160v-160H400v160ZM180-400h160v-160H180v160Zm440 0h160v-160H620v160ZM180-180h160v-160H180v160Zm440 0h160v-160H620v160Z\"/>\n",
              "  </svg>\n",
              "    </button>\n",
              "\n",
              "  <style>\n",
              "    .colab-df-container {\n",
              "      display:flex;\n",
              "      gap: 12px;\n",
              "    }\n",
              "\n",
              "    .colab-df-convert {\n",
              "      background-color: #E8F0FE;\n",
              "      border: none;\n",
              "      border-radius: 50%;\n",
              "      cursor: pointer;\n",
              "      display: none;\n",
              "      fill: #1967D2;\n",
              "      height: 32px;\n",
              "      padding: 0 0 0 0;\n",
              "      width: 32px;\n",
              "    }\n",
              "\n",
              "    .colab-df-convert:hover {\n",
              "      background-color: #E2EBFA;\n",
              "      box-shadow: 0px 1px 2px rgba(60, 64, 67, 0.3), 0px 1px 3px 1px rgba(60, 64, 67, 0.15);\n",
              "      fill: #174EA6;\n",
              "    }\n",
              "\n",
              "    .colab-df-buttons div {\n",
              "      margin-bottom: 4px;\n",
              "    }\n",
              "\n",
              "    [theme=dark] .colab-df-convert {\n",
              "      background-color: #3B4455;\n",
              "      fill: #D2E3FC;\n",
              "    }\n",
              "\n",
              "    [theme=dark] .colab-df-convert:hover {\n",
              "      background-color: #434B5C;\n",
              "      box-shadow: 0px 1px 3px 1px rgba(0, 0, 0, 0.15);\n",
              "      filter: drop-shadow(0px 1px 2px rgba(0, 0, 0, 0.3));\n",
              "      fill: #FFFFFF;\n",
              "    }\n",
              "  </style>\n",
              "\n",
              "    <script>\n",
              "      const buttonEl =\n",
              "        document.querySelector('#df-53dc6242-408a-4ccb-8b82-70ecb0f6937e button.colab-df-convert');\n",
              "      buttonEl.style.display =\n",
              "        google.colab.kernel.accessAllowed ? 'block' : 'none';\n",
              "\n",
              "      async function convertToInteractive(key) {\n",
              "        const element = document.querySelector('#df-53dc6242-408a-4ccb-8b82-70ecb0f6937e');\n",
              "        const dataTable =\n",
              "          await google.colab.kernel.invokeFunction('convertToInteractive',\n",
              "                                                    [key], {});\n",
              "        if (!dataTable) return;\n",
              "\n",
              "        const docLinkHtml = 'Like what you see? Visit the ' +\n",
              "          '<a target=\"_blank\" href=https://colab.research.google.com/notebooks/data_table.ipynb>data table notebook</a>'\n",
              "          + ' to learn more about interactive tables.';\n",
              "        element.innerHTML = '';\n",
              "        dataTable['output_type'] = 'display_data';\n",
              "        await google.colab.output.renderOutput(dataTable, element);\n",
              "        const docLink = document.createElement('div');\n",
              "        docLink.innerHTML = docLinkHtml;\n",
              "        element.appendChild(docLink);\n",
              "      }\n",
              "    </script>\n",
              "  </div>\n",
              "\n",
              "\n",
              "<div id=\"df-8ec10708-0d4e-4d50-964c-bd642445843e\">\n",
              "  <button class=\"colab-df-quickchart\" onclick=\"quickchart('df-8ec10708-0d4e-4d50-964c-bd642445843e')\"\n",
              "            title=\"Suggest charts\"\n",
              "            style=\"display:none;\">\n",
              "\n",
              "<svg xmlns=\"http://www.w3.org/2000/svg\" height=\"24px\"viewBox=\"0 0 24 24\"\n",
              "     width=\"24px\">\n",
              "    <g>\n",
              "        <path d=\"M19 3H5c-1.1 0-2 .9-2 2v14c0 1.1.9 2 2 2h14c1.1 0 2-.9 2-2V5c0-1.1-.9-2-2-2zM9 17H7v-7h2v7zm4 0h-2V7h2v10zm4 0h-2v-4h2v4z\"/>\n",
              "    </g>\n",
              "</svg>\n",
              "  </button>\n",
              "\n",
              "<style>\n",
              "  .colab-df-quickchart {\n",
              "      --bg-color: #E8F0FE;\n",
              "      --fill-color: #1967D2;\n",
              "      --hover-bg-color: #E2EBFA;\n",
              "      --hover-fill-color: #174EA6;\n",
              "      --disabled-fill-color: #AAA;\n",
              "      --disabled-bg-color: #DDD;\n",
              "  }\n",
              "\n",
              "  [theme=dark] .colab-df-quickchart {\n",
              "      --bg-color: #3B4455;\n",
              "      --fill-color: #D2E3FC;\n",
              "      --hover-bg-color: #434B5C;\n",
              "      --hover-fill-color: #FFFFFF;\n",
              "      --disabled-bg-color: #3B4455;\n",
              "      --disabled-fill-color: #666;\n",
              "  }\n",
              "\n",
              "  .colab-df-quickchart {\n",
              "    background-color: var(--bg-color);\n",
              "    border: none;\n",
              "    border-radius: 50%;\n",
              "    cursor: pointer;\n",
              "    display: none;\n",
              "    fill: var(--fill-color);\n",
              "    height: 32px;\n",
              "    padding: 0;\n",
              "    width: 32px;\n",
              "  }\n",
              "\n",
              "  .colab-df-quickchart:hover {\n",
              "    background-color: var(--hover-bg-color);\n",
              "    box-shadow: 0 1px 2px rgba(60, 64, 67, 0.3), 0 1px 3px 1px rgba(60, 64, 67, 0.15);\n",
              "    fill: var(--button-hover-fill-color);\n",
              "  }\n",
              "\n",
              "  .colab-df-quickchart-complete:disabled,\n",
              "  .colab-df-quickchart-complete:disabled:hover {\n",
              "    background-color: var(--disabled-bg-color);\n",
              "    fill: var(--disabled-fill-color);\n",
              "    box-shadow: none;\n",
              "  }\n",
              "\n",
              "  .colab-df-spinner {\n",
              "    border: 2px solid var(--fill-color);\n",
              "    border-color: transparent;\n",
              "    border-bottom-color: var(--fill-color);\n",
              "    animation:\n",
              "      spin 1s steps(1) infinite;\n",
              "  }\n",
              "\n",
              "  @keyframes spin {\n",
              "    0% {\n",
              "      border-color: transparent;\n",
              "      border-bottom-color: var(--fill-color);\n",
              "      border-left-color: var(--fill-color);\n",
              "    }\n",
              "    20% {\n",
              "      border-color: transparent;\n",
              "      border-left-color: var(--fill-color);\n",
              "      border-top-color: var(--fill-color);\n",
              "    }\n",
              "    30% {\n",
              "      border-color: transparent;\n",
              "      border-left-color: var(--fill-color);\n",
              "      border-top-color: var(--fill-color);\n",
              "      border-right-color: var(--fill-color);\n",
              "    }\n",
              "    40% {\n",
              "      border-color: transparent;\n",
              "      border-right-color: var(--fill-color);\n",
              "      border-top-color: var(--fill-color);\n",
              "    }\n",
              "    60% {\n",
              "      border-color: transparent;\n",
              "      border-right-color: var(--fill-color);\n",
              "    }\n",
              "    80% {\n",
              "      border-color: transparent;\n",
              "      border-right-color: var(--fill-color);\n",
              "      border-bottom-color: var(--fill-color);\n",
              "    }\n",
              "    90% {\n",
              "      border-color: transparent;\n",
              "      border-bottom-color: var(--fill-color);\n",
              "    }\n",
              "  }\n",
              "</style>\n",
              "\n",
              "  <script>\n",
              "    async function quickchart(key) {\n",
              "      const quickchartButtonEl =\n",
              "        document.querySelector('#' + key + ' button');\n",
              "      quickchartButtonEl.disabled = true;  // To prevent multiple clicks.\n",
              "      quickchartButtonEl.classList.add('colab-df-spinner');\n",
              "      try {\n",
              "        const charts = await google.colab.kernel.invokeFunction(\n",
              "            'suggestCharts', [key], {});\n",
              "      } catch (error) {\n",
              "        console.error('Error during call to suggestCharts:', error);\n",
              "      }\n",
              "      quickchartButtonEl.classList.remove('colab-df-spinner');\n",
              "      quickchartButtonEl.classList.add('colab-df-quickchart-complete');\n",
              "    }\n",
              "    (() => {\n",
              "      let quickchartButtonEl =\n",
              "        document.querySelector('#df-8ec10708-0d4e-4d50-964c-bd642445843e button');\n",
              "      quickchartButtonEl.style.display =\n",
              "        google.colab.kernel.accessAllowed ? 'block' : 'none';\n",
              "    })();\n",
              "  </script>\n",
              "</div>\n",
              "\n",
              "    </div>\n",
              "  </div>\n"
            ],
            "text/plain": [
              "   Temperature  RH  Ws  Rain  FFMC  DMC    DC  ISI  BUI  FWI  Classes  Region\n",
              "0           29  57  18   0.0  65.7  3.4   7.6  1.3  3.4  0.5        0       0\n",
              "1           29  61  13   1.3  64.4  4.1   7.6  1.0  3.9  0.4        0       0\n",
              "2           26  82  22  13.1  47.1  2.5   7.1  0.3  2.7  0.1        0       0\n",
              "3           25  89  13   2.5  28.6  1.3   6.9  0.0  1.7  0.0        0       0\n",
              "4           27  77  16   0.0  64.8  3.0  14.2  1.2  3.9  0.5        0       0"
            ]
          },
          "execution_count": 276,
          "metadata": {},
          "output_type": "execute_result"
        }
      ],
      "source": [
        "df_copy.head()"
      ]
    },
    {
      "cell_type": "code",
      "execution_count": 277,
      "metadata": {
        "colab": {
          "base_uri": "https://localhost:8080/"
        },
        "id": "B2730C2QLAGO",
        "outputId": "5fc39b49-631c-4de6-e8c2-d36b5772bead"
      },
      "outputs": [
        {
          "data": {
            "text/plain": [
              "1    137\n",
              "0    106\n",
              "Name: Classes, dtype: int64"
            ]
          },
          "execution_count": 277,
          "metadata": {},
          "output_type": "execute_result"
        }
      ],
      "source": [
        "df_copy['Classes'].value_counts()"
      ]
    },
    {
      "cell_type": "code",
      "execution_count": 278,
      "metadata": {
        "id": "Y3k8Q1cRLmms"
      },
      "outputs": [],
      "source": [
        "# Divide the dataset into independent and dependent features\n",
        "\n",
        "# Independent features\n",
        "X = df_copy.drop('FWI', axis = 1)\n",
        "\n",
        "Y = df_copy['FWI']"
      ]
    },
    {
      "cell_type": "code",
      "execution_count": 279,
      "metadata": {
        "colab": {
          "base_uri": "https://localhost:8080/",
          "height": 424
        },
        "id": "-k5c7v-nMBNk",
        "outputId": "16914a72-9949-4b0d-f9c8-49913db083eb"
      },
      "outputs": [
        {
          "data": {
            "application/vnd.google.colaboratory.intrinsic+json": {
              "summary": "{\n  \"name\": \"X\",\n  \"rows\": 243,\n  \"fields\": [\n    {\n      \"column\": \"Temperature\",\n      \"properties\": {\n        \"dtype\": \"number\",\n        \"std\": 3,\n        \"min\": 22,\n        \"max\": 42,\n        \"num_unique_values\": 19,\n        \"samples\": [\n          29,\n          33,\n          36\n        ],\n        \"semantic_type\": \"\",\n        \"description\": \"\"\n      }\n    },\n    {\n      \"column\": \"RH\",\n      \"properties\": {\n        \"dtype\": \"number\",\n        \"std\": 14,\n        \"min\": 21,\n        \"max\": 90,\n        \"num_unique_values\": 62,\n        \"samples\": [\n          83,\n          31,\n          57\n        ],\n        \"semantic_type\": \"\",\n        \"description\": \"\"\n      }\n    },\n    {\n      \"column\": \"Ws\",\n      \"properties\": {\n        \"dtype\": \"number\",\n        \"std\": 2,\n        \"min\": 6,\n        \"max\": 29,\n        \"num_unique_values\": 18,\n        \"samples\": [\n          18,\n          13,\n          21\n        ],\n        \"semantic_type\": \"\",\n        \"description\": \"\"\n      }\n    },\n    {\n      \"column\": \"Rain\",\n      \"properties\": {\n        \"dtype\": \"number\",\n        \"std\": 2.003206795506829,\n        \"min\": 0.0,\n        \"max\": 16.8,\n        \"num_unique_values\": 39,\n        \"samples\": [\n          6.0,\n          4.1,\n          0.2\n        ],\n        \"semantic_type\": \"\",\n        \"description\": \"\"\n      }\n    },\n    {\n      \"column\": \"FFMC\",\n      \"properties\": {\n        \"dtype\": \"number\",\n        \"std\": 14.349641256730104,\n        \"min\": 28.6,\n        \"max\": 96.0,\n        \"num_unique_values\": 173,\n        \"samples\": [\n          64.5,\n          72.6,\n          87.7\n        ],\n        \"semantic_type\": \"\",\n        \"description\": \"\"\n      }\n    },\n    {\n      \"column\": \"DMC\",\n      \"properties\": {\n        \"dtype\": \"number\",\n        \"std\": 12.393039751223832,\n        \"min\": 0.7,\n        \"max\": 65.9,\n        \"num_unique_values\": 165,\n        \"samples\": [\n          16.9,\n          18.0,\n          23.6\n        ],\n        \"semantic_type\": \"\",\n        \"description\": \"\"\n      }\n    },\n    {\n      \"column\": \"DC\",\n      \"properties\": {\n        \"dtype\": \"number\",\n        \"std\": 47.66560598458993,\n        \"min\": 6.9,\n        \"max\": 220.4,\n        \"num_unique_values\": 197,\n        \"samples\": [\n          90.1,\n          14.7,\n          27.1\n        ],\n        \"semantic_type\": \"\",\n        \"description\": \"\"\n      }\n    },\n    {\n      \"column\": \"ISI\",\n      \"properties\": {\n        \"dtype\": \"number\",\n        \"std\": 4.154233833368701,\n        \"min\": 0.0,\n        \"max\": 19.0,\n        \"num_unique_values\": 106,\n        \"samples\": [\n          13.1,\n          4.8,\n          1.2\n        ],\n        \"semantic_type\": \"\",\n        \"description\": \"\"\n      }\n    },\n    {\n      \"column\": \"BUI\",\n      \"properties\": {\n        \"dtype\": \"number\",\n        \"std\": 14.228421131468963,\n        \"min\": 1.1,\n        \"max\": 68.0,\n        \"num_unique_values\": 173,\n        \"samples\": [\n          4.6,\n          8.3,\n          7.7\n        ],\n        \"semantic_type\": \"\",\n        \"description\": \"\"\n      }\n    },\n    {\n      \"column\": \"Classes\",\n      \"properties\": {\n        \"dtype\": \"number\",\n        \"std\": 0,\n        \"min\": 0,\n        \"max\": 1,\n        \"num_unique_values\": 2,\n        \"samples\": [\n          1,\n          0\n        ],\n        \"semantic_type\": \"\",\n        \"description\": \"\"\n      }\n    },\n    {\n      \"column\": \"Region\",\n      \"properties\": {\n        \"dtype\": \"number\",\n        \"std\": 0,\n        \"min\": 0,\n        \"max\": 1,\n        \"num_unique_values\": 2,\n        \"samples\": [\n          1,\n          0\n        ],\n        \"semantic_type\": \"\",\n        \"description\": \"\"\n      }\n    }\n  ]\n}",
              "type": "dataframe",
              "variable_name": "X"
            },
            "text/html": [
              "\n",
              "  <div id=\"df-608490d6-b050-4119-808e-90e425004d2a\" class=\"colab-df-container\">\n",
              "    <div>\n",
              "<style scoped>\n",
              "    .dataframe tbody tr th:only-of-type {\n",
              "        vertical-align: middle;\n",
              "    }\n",
              "\n",
              "    .dataframe tbody tr th {\n",
              "        vertical-align: top;\n",
              "    }\n",
              "\n",
              "    .dataframe thead th {\n",
              "        text-align: right;\n",
              "    }\n",
              "</style>\n",
              "<table border=\"1\" class=\"dataframe\">\n",
              "  <thead>\n",
              "    <tr style=\"text-align: right;\">\n",
              "      <th></th>\n",
              "      <th>Temperature</th>\n",
              "      <th>RH</th>\n",
              "      <th>Ws</th>\n",
              "      <th>Rain</th>\n",
              "      <th>FFMC</th>\n",
              "      <th>DMC</th>\n",
              "      <th>DC</th>\n",
              "      <th>ISI</th>\n",
              "      <th>BUI</th>\n",
              "      <th>Classes</th>\n",
              "      <th>Region</th>\n",
              "    </tr>\n",
              "  </thead>\n",
              "  <tbody>\n",
              "    <tr>\n",
              "      <th>0</th>\n",
              "      <td>29</td>\n",
              "      <td>57</td>\n",
              "      <td>18</td>\n",
              "      <td>0.0</td>\n",
              "      <td>65.7</td>\n",
              "      <td>3.4</td>\n",
              "      <td>7.6</td>\n",
              "      <td>1.3</td>\n",
              "      <td>3.4</td>\n",
              "      <td>0</td>\n",
              "      <td>0</td>\n",
              "    </tr>\n",
              "    <tr>\n",
              "      <th>1</th>\n",
              "      <td>29</td>\n",
              "      <td>61</td>\n",
              "      <td>13</td>\n",
              "      <td>1.3</td>\n",
              "      <td>64.4</td>\n",
              "      <td>4.1</td>\n",
              "      <td>7.6</td>\n",
              "      <td>1.0</td>\n",
              "      <td>3.9</td>\n",
              "      <td>0</td>\n",
              "      <td>0</td>\n",
              "    </tr>\n",
              "    <tr>\n",
              "      <th>2</th>\n",
              "      <td>26</td>\n",
              "      <td>82</td>\n",
              "      <td>22</td>\n",
              "      <td>13.1</td>\n",
              "      <td>47.1</td>\n",
              "      <td>2.5</td>\n",
              "      <td>7.1</td>\n",
              "      <td>0.3</td>\n",
              "      <td>2.7</td>\n",
              "      <td>0</td>\n",
              "      <td>0</td>\n",
              "    </tr>\n",
              "    <tr>\n",
              "      <th>3</th>\n",
              "      <td>25</td>\n",
              "      <td>89</td>\n",
              "      <td>13</td>\n",
              "      <td>2.5</td>\n",
              "      <td>28.6</td>\n",
              "      <td>1.3</td>\n",
              "      <td>6.9</td>\n",
              "      <td>0.0</td>\n",
              "      <td>1.7</td>\n",
              "      <td>0</td>\n",
              "      <td>0</td>\n",
              "    </tr>\n",
              "    <tr>\n",
              "      <th>4</th>\n",
              "      <td>27</td>\n",
              "      <td>77</td>\n",
              "      <td>16</td>\n",
              "      <td>0.0</td>\n",
              "      <td>64.8</td>\n",
              "      <td>3.0</td>\n",
              "      <td>14.2</td>\n",
              "      <td>1.2</td>\n",
              "      <td>3.9</td>\n",
              "      <td>0</td>\n",
              "      <td>0</td>\n",
              "    </tr>\n",
              "    <tr>\n",
              "      <th>...</th>\n",
              "      <td>...</td>\n",
              "      <td>...</td>\n",
              "      <td>...</td>\n",
              "      <td>...</td>\n",
              "      <td>...</td>\n",
              "      <td>...</td>\n",
              "      <td>...</td>\n",
              "      <td>...</td>\n",
              "      <td>...</td>\n",
              "      <td>...</td>\n",
              "      <td>...</td>\n",
              "    </tr>\n",
              "    <tr>\n",
              "      <th>238</th>\n",
              "      <td>30</td>\n",
              "      <td>65</td>\n",
              "      <td>14</td>\n",
              "      <td>0.0</td>\n",
              "      <td>85.4</td>\n",
              "      <td>16.0</td>\n",
              "      <td>44.5</td>\n",
              "      <td>4.5</td>\n",
              "      <td>16.9</td>\n",
              "      <td>1</td>\n",
              "      <td>1</td>\n",
              "    </tr>\n",
              "    <tr>\n",
              "      <th>239</th>\n",
              "      <td>28</td>\n",
              "      <td>87</td>\n",
              "      <td>15</td>\n",
              "      <td>4.4</td>\n",
              "      <td>41.1</td>\n",
              "      <td>6.5</td>\n",
              "      <td>8.0</td>\n",
              "      <td>0.1</td>\n",
              "      <td>6.2</td>\n",
              "      <td>0</td>\n",
              "      <td>1</td>\n",
              "    </tr>\n",
              "    <tr>\n",
              "      <th>240</th>\n",
              "      <td>27</td>\n",
              "      <td>87</td>\n",
              "      <td>29</td>\n",
              "      <td>0.5</td>\n",
              "      <td>45.9</td>\n",
              "      <td>3.5</td>\n",
              "      <td>7.9</td>\n",
              "      <td>0.4</td>\n",
              "      <td>3.4</td>\n",
              "      <td>0</td>\n",
              "      <td>1</td>\n",
              "    </tr>\n",
              "    <tr>\n",
              "      <th>241</th>\n",
              "      <td>24</td>\n",
              "      <td>54</td>\n",
              "      <td>18</td>\n",
              "      <td>0.1</td>\n",
              "      <td>79.7</td>\n",
              "      <td>4.3</td>\n",
              "      <td>15.2</td>\n",
              "      <td>1.7</td>\n",
              "      <td>5.1</td>\n",
              "      <td>0</td>\n",
              "      <td>1</td>\n",
              "    </tr>\n",
              "    <tr>\n",
              "      <th>242</th>\n",
              "      <td>24</td>\n",
              "      <td>64</td>\n",
              "      <td>15</td>\n",
              "      <td>0.2</td>\n",
              "      <td>67.3</td>\n",
              "      <td>3.8</td>\n",
              "      <td>16.5</td>\n",
              "      <td>1.2</td>\n",
              "      <td>4.8</td>\n",
              "      <td>0</td>\n",
              "      <td>1</td>\n",
              "    </tr>\n",
              "  </tbody>\n",
              "</table>\n",
              "<p>243 rows × 11 columns</p>\n",
              "</div>\n",
              "    <div class=\"colab-df-buttons\">\n",
              "\n",
              "  <div class=\"colab-df-container\">\n",
              "    <button class=\"colab-df-convert\" onclick=\"convertToInteractive('df-608490d6-b050-4119-808e-90e425004d2a')\"\n",
              "            title=\"Convert this dataframe to an interactive table.\"\n",
              "            style=\"display:none;\">\n",
              "\n",
              "  <svg xmlns=\"http://www.w3.org/2000/svg\" height=\"24px\" viewBox=\"0 -960 960 960\">\n",
              "    <path d=\"M120-120v-720h720v720H120Zm60-500h600v-160H180v160Zm220 220h160v-160H400v160Zm0 220h160v-160H400v160ZM180-400h160v-160H180v160Zm440 0h160v-160H620v160ZM180-180h160v-160H180v160Zm440 0h160v-160H620v160Z\"/>\n",
              "  </svg>\n",
              "    </button>\n",
              "\n",
              "  <style>\n",
              "    .colab-df-container {\n",
              "      display:flex;\n",
              "      gap: 12px;\n",
              "    }\n",
              "\n",
              "    .colab-df-convert {\n",
              "      background-color: #E8F0FE;\n",
              "      border: none;\n",
              "      border-radius: 50%;\n",
              "      cursor: pointer;\n",
              "      display: none;\n",
              "      fill: #1967D2;\n",
              "      height: 32px;\n",
              "      padding: 0 0 0 0;\n",
              "      width: 32px;\n",
              "    }\n",
              "\n",
              "    .colab-df-convert:hover {\n",
              "      background-color: #E2EBFA;\n",
              "      box-shadow: 0px 1px 2px rgba(60, 64, 67, 0.3), 0px 1px 3px 1px rgba(60, 64, 67, 0.15);\n",
              "      fill: #174EA6;\n",
              "    }\n",
              "\n",
              "    .colab-df-buttons div {\n",
              "      margin-bottom: 4px;\n",
              "    }\n",
              "\n",
              "    [theme=dark] .colab-df-convert {\n",
              "      background-color: #3B4455;\n",
              "      fill: #D2E3FC;\n",
              "    }\n",
              "\n",
              "    [theme=dark] .colab-df-convert:hover {\n",
              "      background-color: #434B5C;\n",
              "      box-shadow: 0px 1px 3px 1px rgba(0, 0, 0, 0.15);\n",
              "      filter: drop-shadow(0px 1px 2px rgba(0, 0, 0, 0.3));\n",
              "      fill: #FFFFFF;\n",
              "    }\n",
              "  </style>\n",
              "\n",
              "    <script>\n",
              "      const buttonEl =\n",
              "        document.querySelector('#df-608490d6-b050-4119-808e-90e425004d2a button.colab-df-convert');\n",
              "      buttonEl.style.display =\n",
              "        google.colab.kernel.accessAllowed ? 'block' : 'none';\n",
              "\n",
              "      async function convertToInteractive(key) {\n",
              "        const element = document.querySelector('#df-608490d6-b050-4119-808e-90e425004d2a');\n",
              "        const dataTable =\n",
              "          await google.colab.kernel.invokeFunction('convertToInteractive',\n",
              "                                                    [key], {});\n",
              "        if (!dataTable) return;\n",
              "\n",
              "        const docLinkHtml = 'Like what you see? Visit the ' +\n",
              "          '<a target=\"_blank\" href=https://colab.research.google.com/notebooks/data_table.ipynb>data table notebook</a>'\n",
              "          + ' to learn more about interactive tables.';\n",
              "        element.innerHTML = '';\n",
              "        dataTable['output_type'] = 'display_data';\n",
              "        await google.colab.output.renderOutput(dataTable, element);\n",
              "        const docLink = document.createElement('div');\n",
              "        docLink.innerHTML = docLinkHtml;\n",
              "        element.appendChild(docLink);\n",
              "      }\n",
              "    </script>\n",
              "  </div>\n",
              "\n",
              "\n",
              "<div id=\"df-7036a9ee-3957-4c33-a385-8aa58a3e8aeb\">\n",
              "  <button class=\"colab-df-quickchart\" onclick=\"quickchart('df-7036a9ee-3957-4c33-a385-8aa58a3e8aeb')\"\n",
              "            title=\"Suggest charts\"\n",
              "            style=\"display:none;\">\n",
              "\n",
              "<svg xmlns=\"http://www.w3.org/2000/svg\" height=\"24px\"viewBox=\"0 0 24 24\"\n",
              "     width=\"24px\">\n",
              "    <g>\n",
              "        <path d=\"M19 3H5c-1.1 0-2 .9-2 2v14c0 1.1.9 2 2 2h14c1.1 0 2-.9 2-2V5c0-1.1-.9-2-2-2zM9 17H7v-7h2v7zm4 0h-2V7h2v10zm4 0h-2v-4h2v4z\"/>\n",
              "    </g>\n",
              "</svg>\n",
              "  </button>\n",
              "\n",
              "<style>\n",
              "  .colab-df-quickchart {\n",
              "      --bg-color: #E8F0FE;\n",
              "      --fill-color: #1967D2;\n",
              "      --hover-bg-color: #E2EBFA;\n",
              "      --hover-fill-color: #174EA6;\n",
              "      --disabled-fill-color: #AAA;\n",
              "      --disabled-bg-color: #DDD;\n",
              "  }\n",
              "\n",
              "  [theme=dark] .colab-df-quickchart {\n",
              "      --bg-color: #3B4455;\n",
              "      --fill-color: #D2E3FC;\n",
              "      --hover-bg-color: #434B5C;\n",
              "      --hover-fill-color: #FFFFFF;\n",
              "      --disabled-bg-color: #3B4455;\n",
              "      --disabled-fill-color: #666;\n",
              "  }\n",
              "\n",
              "  .colab-df-quickchart {\n",
              "    background-color: var(--bg-color);\n",
              "    border: none;\n",
              "    border-radius: 50%;\n",
              "    cursor: pointer;\n",
              "    display: none;\n",
              "    fill: var(--fill-color);\n",
              "    height: 32px;\n",
              "    padding: 0;\n",
              "    width: 32px;\n",
              "  }\n",
              "\n",
              "  .colab-df-quickchart:hover {\n",
              "    background-color: var(--hover-bg-color);\n",
              "    box-shadow: 0 1px 2px rgba(60, 64, 67, 0.3), 0 1px 3px 1px rgba(60, 64, 67, 0.15);\n",
              "    fill: var(--button-hover-fill-color);\n",
              "  }\n",
              "\n",
              "  .colab-df-quickchart-complete:disabled,\n",
              "  .colab-df-quickchart-complete:disabled:hover {\n",
              "    background-color: var(--disabled-bg-color);\n",
              "    fill: var(--disabled-fill-color);\n",
              "    box-shadow: none;\n",
              "  }\n",
              "\n",
              "  .colab-df-spinner {\n",
              "    border: 2px solid var(--fill-color);\n",
              "    border-color: transparent;\n",
              "    border-bottom-color: var(--fill-color);\n",
              "    animation:\n",
              "      spin 1s steps(1) infinite;\n",
              "  }\n",
              "\n",
              "  @keyframes spin {\n",
              "    0% {\n",
              "      border-color: transparent;\n",
              "      border-bottom-color: var(--fill-color);\n",
              "      border-left-color: var(--fill-color);\n",
              "    }\n",
              "    20% {\n",
              "      border-color: transparent;\n",
              "      border-left-color: var(--fill-color);\n",
              "      border-top-color: var(--fill-color);\n",
              "    }\n",
              "    30% {\n",
              "      border-color: transparent;\n",
              "      border-left-color: var(--fill-color);\n",
              "      border-top-color: var(--fill-color);\n",
              "      border-right-color: var(--fill-color);\n",
              "    }\n",
              "    40% {\n",
              "      border-color: transparent;\n",
              "      border-right-color: var(--fill-color);\n",
              "      border-top-color: var(--fill-color);\n",
              "    }\n",
              "    60% {\n",
              "      border-color: transparent;\n",
              "      border-right-color: var(--fill-color);\n",
              "    }\n",
              "    80% {\n",
              "      border-color: transparent;\n",
              "      border-right-color: var(--fill-color);\n",
              "      border-bottom-color: var(--fill-color);\n",
              "    }\n",
              "    90% {\n",
              "      border-color: transparent;\n",
              "      border-bottom-color: var(--fill-color);\n",
              "    }\n",
              "  }\n",
              "</style>\n",
              "\n",
              "  <script>\n",
              "    async function quickchart(key) {\n",
              "      const quickchartButtonEl =\n",
              "        document.querySelector('#' + key + ' button');\n",
              "      quickchartButtonEl.disabled = true;  // To prevent multiple clicks.\n",
              "      quickchartButtonEl.classList.add('colab-df-spinner');\n",
              "      try {\n",
              "        const charts = await google.colab.kernel.invokeFunction(\n",
              "            'suggestCharts', [key], {});\n",
              "      } catch (error) {\n",
              "        console.error('Error during call to suggestCharts:', error);\n",
              "      }\n",
              "      quickchartButtonEl.classList.remove('colab-df-spinner');\n",
              "      quickchartButtonEl.classList.add('colab-df-quickchart-complete');\n",
              "    }\n",
              "    (() => {\n",
              "      let quickchartButtonEl =\n",
              "        document.querySelector('#df-7036a9ee-3957-4c33-a385-8aa58a3e8aeb button');\n",
              "      quickchartButtonEl.style.display =\n",
              "        google.colab.kernel.accessAllowed ? 'block' : 'none';\n",
              "    })();\n",
              "  </script>\n",
              "</div>\n",
              "\n",
              "  <div id=\"id_5dc17e61-d4db-4b57-a133-64f0f4d10e15\">\n",
              "    <style>\n",
              "      .colab-df-generate {\n",
              "        background-color: #E8F0FE;\n",
              "        border: none;\n",
              "        border-radius: 50%;\n",
              "        cursor: pointer;\n",
              "        display: none;\n",
              "        fill: #1967D2;\n",
              "        height: 32px;\n",
              "        padding: 0 0 0 0;\n",
              "        width: 32px;\n",
              "      }\n",
              "\n",
              "      .colab-df-generate:hover {\n",
              "        background-color: #E2EBFA;\n",
              "        box-shadow: 0px 1px 2px rgba(60, 64, 67, 0.3), 0px 1px 3px 1px rgba(60, 64, 67, 0.15);\n",
              "        fill: #174EA6;\n",
              "      }\n",
              "\n",
              "      [theme=dark] .colab-df-generate {\n",
              "        background-color: #3B4455;\n",
              "        fill: #D2E3FC;\n",
              "      }\n",
              "\n",
              "      [theme=dark] .colab-df-generate:hover {\n",
              "        background-color: #434B5C;\n",
              "        box-shadow: 0px 1px 3px 1px rgba(0, 0, 0, 0.15);\n",
              "        filter: drop-shadow(0px 1px 2px rgba(0, 0, 0, 0.3));\n",
              "        fill: #FFFFFF;\n",
              "      }\n",
              "    </style>\n",
              "    <button class=\"colab-df-generate\" onclick=\"generateWithVariable('X')\"\n",
              "            title=\"Generate code using this dataframe.\"\n",
              "            style=\"display:none;\">\n",
              "\n",
              "  <svg xmlns=\"http://www.w3.org/2000/svg\" height=\"24px\"viewBox=\"0 0 24 24\"\n",
              "       width=\"24px\">\n",
              "    <path d=\"M7,19H8.4L18.45,9,17,7.55,7,17.6ZM5,21V16.75L18.45,3.32a2,2,0,0,1,2.83,0l1.4,1.43a1.91,1.91,0,0,1,.58,1.4,1.91,1.91,0,0,1-.58,1.4L9.25,21ZM18.45,9,17,7.55Zm-12,3A5.31,5.31,0,0,0,4.9,8.1,5.31,5.31,0,0,0,1,6.5,5.31,5.31,0,0,0,4.9,4.9,5.31,5.31,0,0,0,6.5,1,5.31,5.31,0,0,0,8.1,4.9,5.31,5.31,0,0,0,12,6.5,5.46,5.46,0,0,0,6.5,12Z\"/>\n",
              "  </svg>\n",
              "    </button>\n",
              "    <script>\n",
              "      (() => {\n",
              "      const buttonEl =\n",
              "        document.querySelector('#id_5dc17e61-d4db-4b57-a133-64f0f4d10e15 button.colab-df-generate');\n",
              "      buttonEl.style.display =\n",
              "        google.colab.kernel.accessAllowed ? 'block' : 'none';\n",
              "\n",
              "      buttonEl.onclick = () => {\n",
              "        google.colab.notebook.generateWithVariable('X');\n",
              "      }\n",
              "      })();\n",
              "    </script>\n",
              "  </div>\n",
              "\n",
              "    </div>\n",
              "  </div>\n"
            ],
            "text/plain": [
              "     Temperature  RH  Ws  Rain  FFMC   DMC    DC  ISI   BUI  Classes  Region\n",
              "0             29  57  18   0.0  65.7   3.4   7.6  1.3   3.4        0       0\n",
              "1             29  61  13   1.3  64.4   4.1   7.6  1.0   3.9        0       0\n",
              "2             26  82  22  13.1  47.1   2.5   7.1  0.3   2.7        0       0\n",
              "3             25  89  13   2.5  28.6   1.3   6.9  0.0   1.7        0       0\n",
              "4             27  77  16   0.0  64.8   3.0  14.2  1.2   3.9        0       0\n",
              "..           ...  ..  ..   ...   ...   ...   ...  ...   ...      ...     ...\n",
              "238           30  65  14   0.0  85.4  16.0  44.5  4.5  16.9        1       1\n",
              "239           28  87  15   4.4  41.1   6.5   8.0  0.1   6.2        0       1\n",
              "240           27  87  29   0.5  45.9   3.5   7.9  0.4   3.4        0       1\n",
              "241           24  54  18   0.1  79.7   4.3  15.2  1.7   5.1        0       1\n",
              "242           24  64  15   0.2  67.3   3.8  16.5  1.2   4.8        0       1\n",
              "\n",
              "[243 rows x 11 columns]"
            ]
          },
          "execution_count": 279,
          "metadata": {},
          "output_type": "execute_result"
        }
      ],
      "source": [
        "X"
      ]
    },
    {
      "cell_type": "code",
      "execution_count": 280,
      "metadata": {
        "colab": {
          "base_uri": "https://localhost:8080/"
        },
        "id": "tx46pZyKMEHu",
        "outputId": "bd37577c-aac1-4df2-fb28-36a889eac2e7"
      },
      "outputs": [
        {
          "data": {
            "text/plain": [
              "0      0.5\n",
              "1      0.4\n",
              "2      0.1\n",
              "3      0.0\n",
              "4      0.5\n",
              "      ... \n",
              "238    6.5\n",
              "239    0.0\n",
              "240    0.2\n",
              "241    0.7\n",
              "242    0.5\n",
              "Name: FWI, Length: 243, dtype: float64"
            ]
          },
          "execution_count": 280,
          "metadata": {},
          "output_type": "execute_result"
        }
      ],
      "source": [
        "Y"
      ]
    },
    {
      "cell_type": "code",
      "execution_count": 281,
      "metadata": {
        "id": "VRhc8yK7MYZ6"
      },
      "outputs": [],
      "source": [
        "from sklearn.model_selection import train_test_split\n",
        "\n",
        "X_train, X_test, Y_train, Y_test = train_test_split(X,Y,test_size = 0.25, random_state = 42)"
      ]
    },
    {
      "cell_type": "code",
      "execution_count": 282,
      "metadata": {
        "colab": {
          "base_uri": "https://localhost:8080/"
        },
        "id": "I5Vry54bM7Ix",
        "outputId": "b9f2f967-e4f5-4902-ec21-ea9294fd93f7"
      },
      "outputs": [
        {
          "name": "stdout",
          "output_type": "stream",
          "text": [
            "Input Features are: (182, 11) (61, 11)\n"
          ]
        }
      ],
      "source": [
        "print(\"Input Features are:\",X_train.shape, X_test.shape)"
      ]
    },
    {
      "cell_type": "code",
      "execution_count": 283,
      "metadata": {
        "colab": {
          "base_uri": "https://localhost:8080/"
        },
        "id": "i8xm1_4aNPyp",
        "outputId": "ac8d3160-1e37-430d-9a4d-676c70c6a723"
      },
      "outputs": [
        {
          "name": "stdout",
          "output_type": "stream",
          "text": [
            "Output Features are: (182,) (61,)\n"
          ]
        }
      ],
      "source": [
        "print(\"Output Features are:\", Y_train.shape, Y_test.shape)"
      ]
    },
    {
      "cell_type": "code",
      "execution_count": 284,
      "metadata": {
        "colab": {
          "base_uri": "https://localhost:8080/",
          "height": 394
        },
        "id": "ZAw9WvPtNcFl",
        "outputId": "6cdc7af4-5b27-4f56-c67f-dc0e3992bc64"
      },
      "outputs": [
        {
          "data": {
            "application/vnd.google.colaboratory.intrinsic+json": {
              "summary": "{\n  \"name\": \"X_train\",\n  \"rows\": 11,\n  \"fields\": [\n    {\n      \"column\": \"Temperature\",\n      \"properties\": {\n        \"dtype\": \"number\",\n        \"std\": 0.5054492071742672,\n        \"min\": -0.6560952065209624,\n        \"max\": 1.0,\n        \"num_unique_values\": 11,\n        \"samples\": [\n          0.4981726049874546,\n          1.0,\n          0.5421411928126987\n        ],\n        \"semantic_type\": \"\",\n        \"description\": \"\"\n      }\n    },\n    {\n      \"column\": \"RH\",\n      \"properties\": {\n        \"dtype\": \"number\",\n        \"std\": 0.516788407137605,\n        \"min\": -0.7178043847756409,\n        \"max\": 1.0,\n        \"num_unique_values\": 11,\n        \"samples\": [\n          -0.4146010743265655,\n          -0.6560952065209624,\n          -0.45687568533535206\n        ],\n        \"semantic_type\": \"\",\n        \"description\": \"\"\n      }\n    },\n    {\n      \"column\": \"Ws\",\n      \"properties\": {\n        \"dtype\": \"number\",\n        \"std\": 0.3525290299693883,\n        \"min\": -0.30597667466611456,\n        \"max\": 1.0,\n        \"num_unique_values\": 11,\n        \"samples\": [\n          0.0003790727648654189,\n          -0.30597667466611456,\n          -0.0825701205045081\n        ],\n        \"semantic_type\": \"\",\n        \"description\": \"\"\n      }\n    },\n    {\n      \"column\": \"Rain\",\n      \"properties\": {\n        \"dtype\": \"number\",\n        \"std\": 0.4413537758431418,\n        \"min\": -0.5454912337411976,\n        \"max\": 1.0,\n        \"num_unique_values\": 11,\n        \"samples\": [\n          -0.2897539206397506,\n          -0.31751247421836215,\n          -0.36935650448596774\n        ],\n        \"semantic_type\": \"\",\n        \"description\": \"\"\n      }\n    },\n    {\n      \"column\": \"FFMC\",\n      \"properties\": {\n        \"dtype\": \"number\",\n        \"std\": 0.5628075645258439,\n        \"min\": -0.6530230237613415,\n        \"max\": 1.0,\n        \"num_unique_values\": 11,\n        \"samples\": [\n          0.6208074719864948,\n          0.6947684187383468,\n          0.7812587886131723\n        ],\n        \"semantic_type\": \"\",\n        \"description\": \"\"\n      }\n    },\n    {\n      \"column\": \"DMC\",\n      \"properties\": {\n        \"dtype\": \"number\",\n        \"std\": 0.49272632055538945,\n        \"min\": -0.4146010743265655,\n        \"max\": 1.0,\n        \"num_unique_values\": 11,\n        \"samples\": [\n          1.0,\n          0.4981726049874546,\n          0.6172725474030532\n        ],\n        \"semantic_type\": \"\",\n        \"description\": \"\"\n      }\n    },\n    {\n      \"column\": \"DC\",\n      \"properties\": {\n        \"dtype\": \"number\",\n        \"std\": 0.4608569303762345,\n        \"min\": -0.302340561892003,\n        \"max\": 1.0,\n        \"num_unique_values\": 11,\n        \"samples\": [\n          0.8686472047539086,\n          0.3906835282526794,\n          0.5435814807073281\n        ],\n        \"semantic_type\": \"\",\n        \"description\": \"\"\n      }\n    },\n    {\n      \"column\": \"ISI\",\n      \"properties\": {\n        \"dtype\": \"number\",\n        \"std\": 0.529021122871235,\n        \"min\": -0.7178043847756409,\n        \"max\": 1.0,\n        \"num_unique_values\": 11,\n        \"samples\": [\n          0.6856555396443426,\n          0.6298481159429918,\n          0.7429770123068437\n        ],\n        \"semantic_type\": \"\",\n        \"description\": \"\"\n      }\n    },\n    {\n      \"column\": \"BUI\",\n      \"properties\": {\n        \"dtype\": \"number\",\n        \"std\": 0.49219515333659875,\n        \"min\": -0.3623172908447022,\n        \"max\": 1.0,\n        \"num_unique_values\": 11,\n        \"samples\": [\n          0.9831752542959249,\n          0.4736093438255906,\n          0.612238913016882\n        ],\n        \"semantic_type\": \"\",\n        \"description\": \"\"\n      }\n    },\n    {\n      \"column\": \"Classes\",\n      \"properties\": {\n        \"dtype\": \"number\",\n        \"std\": 0.4850278854289609,\n        \"min\": -0.45687568533535206,\n        \"max\": 1.0,\n        \"num_unique_values\": 11,\n        \"samples\": [\n          0.6172725474030532,\n          0.5421411928126987,\n          1.0\n        ],\n        \"semantic_type\": \"\",\n        \"description\": \"\"\n      }\n    },\n    {\n      \"column\": \"Region\",\n      \"properties\": {\n        \"dtype\": \"number\",\n        \"std\": 0.3575625220939869,\n        \"min\": -0.3946646265942969,\n        \"max\": 1.0,\n        \"num_unique_values\": 11,\n        \"samples\": [\n          0.2125822631974853,\n          0.25454899588242585,\n          0.18883717643379352\n        ],\n        \"semantic_type\": \"\",\n        \"description\": \"\"\n      }\n    }\n  ]\n}",
              "type": "dataframe"
            },
            "text/html": [
              "\n",
              "  <div id=\"df-c079ad11-f10b-411b-a299-71babf30ac28\" class=\"colab-df-container\">\n",
              "    <div>\n",
              "<style scoped>\n",
              "    .dataframe tbody tr th:only-of-type {\n",
              "        vertical-align: middle;\n",
              "    }\n",
              "\n",
              "    .dataframe tbody tr th {\n",
              "        vertical-align: top;\n",
              "    }\n",
              "\n",
              "    .dataframe thead th {\n",
              "        text-align: right;\n",
              "    }\n",
              "</style>\n",
              "<table border=\"1\" class=\"dataframe\">\n",
              "  <thead>\n",
              "    <tr style=\"text-align: right;\">\n",
              "      <th></th>\n",
              "      <th>Temperature</th>\n",
              "      <th>RH</th>\n",
              "      <th>Ws</th>\n",
              "      <th>Rain</th>\n",
              "      <th>FFMC</th>\n",
              "      <th>DMC</th>\n",
              "      <th>DC</th>\n",
              "      <th>ISI</th>\n",
              "      <th>BUI</th>\n",
              "      <th>Classes</th>\n",
              "      <th>Region</th>\n",
              "    </tr>\n",
              "  </thead>\n",
              "  <tbody>\n",
              "    <tr>\n",
              "      <th>Temperature</th>\n",
              "      <td>1.000000</td>\n",
              "      <td>-0.656095</td>\n",
              "      <td>-0.305977</td>\n",
              "      <td>-0.317512</td>\n",
              "      <td>0.694768</td>\n",
              "      <td>0.498173</td>\n",
              "      <td>0.390684</td>\n",
              "      <td>0.629848</td>\n",
              "      <td>0.473609</td>\n",
              "      <td>0.542141</td>\n",
              "      <td>0.254549</td>\n",
              "    </tr>\n",
              "    <tr>\n",
              "      <th>RH</th>\n",
              "      <td>-0.656095</td>\n",
              "      <td>1.000000</td>\n",
              "      <td>0.225736</td>\n",
              "      <td>0.241656</td>\n",
              "      <td>-0.653023</td>\n",
              "      <td>-0.414601</td>\n",
              "      <td>-0.236078</td>\n",
              "      <td>-0.717804</td>\n",
              "      <td>-0.362317</td>\n",
              "      <td>-0.456876</td>\n",
              "      <td>-0.394665</td>\n",
              "    </tr>\n",
              "    <tr>\n",
              "      <th>Ws</th>\n",
              "      <td>-0.305977</td>\n",
              "      <td>0.225736</td>\n",
              "      <td>1.000000</td>\n",
              "      <td>0.251932</td>\n",
              "      <td>-0.190076</td>\n",
              "      <td>0.000379</td>\n",
              "      <td>0.096576</td>\n",
              "      <td>-0.023558</td>\n",
              "      <td>0.035633</td>\n",
              "      <td>-0.082570</td>\n",
              "      <td>-0.199969</td>\n",
              "    </tr>\n",
              "    <tr>\n",
              "      <th>Rain</th>\n",
              "      <td>-0.317512</td>\n",
              "      <td>0.241656</td>\n",
              "      <td>0.251932</td>\n",
              "      <td>1.000000</td>\n",
              "      <td>-0.545491</td>\n",
              "      <td>-0.289754</td>\n",
              "      <td>-0.302341</td>\n",
              "      <td>-0.345707</td>\n",
              "      <td>-0.300964</td>\n",
              "      <td>-0.369357</td>\n",
              "      <td>-0.059022</td>\n",
              "    </tr>\n",
              "    <tr>\n",
              "      <th>FFMC</th>\n",
              "      <td>0.694768</td>\n",
              "      <td>-0.653023</td>\n",
              "      <td>-0.190076</td>\n",
              "      <td>-0.545491</td>\n",
              "      <td>1.000000</td>\n",
              "      <td>0.620807</td>\n",
              "      <td>0.524101</td>\n",
              "      <td>0.750799</td>\n",
              "      <td>0.607210</td>\n",
              "      <td>0.781259</td>\n",
              "      <td>0.249514</td>\n",
              "    </tr>\n",
              "    <tr>\n",
              "      <th>DMC</th>\n",
              "      <td>0.498173</td>\n",
              "      <td>-0.414601</td>\n",
              "      <td>0.000379</td>\n",
              "      <td>-0.289754</td>\n",
              "      <td>0.620807</td>\n",
              "      <td>1.000000</td>\n",
              "      <td>0.868647</td>\n",
              "      <td>0.685656</td>\n",
              "      <td>0.983175</td>\n",
              "      <td>0.617273</td>\n",
              "      <td>0.212582</td>\n",
              "    </tr>\n",
              "    <tr>\n",
              "      <th>DC</th>\n",
              "      <td>0.390684</td>\n",
              "      <td>-0.236078</td>\n",
              "      <td>0.096576</td>\n",
              "      <td>-0.302341</td>\n",
              "      <td>0.524101</td>\n",
              "      <td>0.868647</td>\n",
              "      <td>1.000000</td>\n",
              "      <td>0.513701</td>\n",
              "      <td>0.942414</td>\n",
              "      <td>0.543581</td>\n",
              "      <td>-0.060838</td>\n",
              "    </tr>\n",
              "    <tr>\n",
              "      <th>ISI</th>\n",
              "      <td>0.629848</td>\n",
              "      <td>-0.717804</td>\n",
              "      <td>-0.023558</td>\n",
              "      <td>-0.345707</td>\n",
              "      <td>0.750799</td>\n",
              "      <td>0.685656</td>\n",
              "      <td>0.513701</td>\n",
              "      <td>1.000000</td>\n",
              "      <td>0.643818</td>\n",
              "      <td>0.742977</td>\n",
              "      <td>0.296441</td>\n",
              "    </tr>\n",
              "    <tr>\n",
              "      <th>BUI</th>\n",
              "      <td>0.473609</td>\n",
              "      <td>-0.362317</td>\n",
              "      <td>0.035633</td>\n",
              "      <td>-0.300964</td>\n",
              "      <td>0.607210</td>\n",
              "      <td>0.983175</td>\n",
              "      <td>0.942414</td>\n",
              "      <td>0.643818</td>\n",
              "      <td>1.000000</td>\n",
              "      <td>0.612239</td>\n",
              "      <td>0.114897</td>\n",
              "    </tr>\n",
              "    <tr>\n",
              "      <th>Classes</th>\n",
              "      <td>0.542141</td>\n",
              "      <td>-0.456876</td>\n",
              "      <td>-0.082570</td>\n",
              "      <td>-0.369357</td>\n",
              "      <td>0.781259</td>\n",
              "      <td>0.617273</td>\n",
              "      <td>0.543581</td>\n",
              "      <td>0.742977</td>\n",
              "      <td>0.612239</td>\n",
              "      <td>1.000000</td>\n",
              "      <td>0.188837</td>\n",
              "    </tr>\n",
              "    <tr>\n",
              "      <th>Region</th>\n",
              "      <td>0.254549</td>\n",
              "      <td>-0.394665</td>\n",
              "      <td>-0.199969</td>\n",
              "      <td>-0.059022</td>\n",
              "      <td>0.249514</td>\n",
              "      <td>0.212582</td>\n",
              "      <td>-0.060838</td>\n",
              "      <td>0.296441</td>\n",
              "      <td>0.114897</td>\n",
              "      <td>0.188837</td>\n",
              "      <td>1.000000</td>\n",
              "    </tr>\n",
              "  </tbody>\n",
              "</table>\n",
              "</div>\n",
              "    <div class=\"colab-df-buttons\">\n",
              "\n",
              "  <div class=\"colab-df-container\">\n",
              "    <button class=\"colab-df-convert\" onclick=\"convertToInteractive('df-c079ad11-f10b-411b-a299-71babf30ac28')\"\n",
              "            title=\"Convert this dataframe to an interactive table.\"\n",
              "            style=\"display:none;\">\n",
              "\n",
              "  <svg xmlns=\"http://www.w3.org/2000/svg\" height=\"24px\" viewBox=\"0 -960 960 960\">\n",
              "    <path d=\"M120-120v-720h720v720H120Zm60-500h600v-160H180v160Zm220 220h160v-160H400v160Zm0 220h160v-160H400v160ZM180-400h160v-160H180v160Zm440 0h160v-160H620v160ZM180-180h160v-160H180v160Zm440 0h160v-160H620v160Z\"/>\n",
              "  </svg>\n",
              "    </button>\n",
              "\n",
              "  <style>\n",
              "    .colab-df-container {\n",
              "      display:flex;\n",
              "      gap: 12px;\n",
              "    }\n",
              "\n",
              "    .colab-df-convert {\n",
              "      background-color: #E8F0FE;\n",
              "      border: none;\n",
              "      border-radius: 50%;\n",
              "      cursor: pointer;\n",
              "      display: none;\n",
              "      fill: #1967D2;\n",
              "      height: 32px;\n",
              "      padding: 0 0 0 0;\n",
              "      width: 32px;\n",
              "    }\n",
              "\n",
              "    .colab-df-convert:hover {\n",
              "      background-color: #E2EBFA;\n",
              "      box-shadow: 0px 1px 2px rgba(60, 64, 67, 0.3), 0px 1px 3px 1px rgba(60, 64, 67, 0.15);\n",
              "      fill: #174EA6;\n",
              "    }\n",
              "\n",
              "    .colab-df-buttons div {\n",
              "      margin-bottom: 4px;\n",
              "    }\n",
              "\n",
              "    [theme=dark] .colab-df-convert {\n",
              "      background-color: #3B4455;\n",
              "      fill: #D2E3FC;\n",
              "    }\n",
              "\n",
              "    [theme=dark] .colab-df-convert:hover {\n",
              "      background-color: #434B5C;\n",
              "      box-shadow: 0px 1px 3px 1px rgba(0, 0, 0, 0.15);\n",
              "      filter: drop-shadow(0px 1px 2px rgba(0, 0, 0, 0.3));\n",
              "      fill: #FFFFFF;\n",
              "    }\n",
              "  </style>\n",
              "\n",
              "    <script>\n",
              "      const buttonEl =\n",
              "        document.querySelector('#df-c079ad11-f10b-411b-a299-71babf30ac28 button.colab-df-convert');\n",
              "      buttonEl.style.display =\n",
              "        google.colab.kernel.accessAllowed ? 'block' : 'none';\n",
              "\n",
              "      async function convertToInteractive(key) {\n",
              "        const element = document.querySelector('#df-c079ad11-f10b-411b-a299-71babf30ac28');\n",
              "        const dataTable =\n",
              "          await google.colab.kernel.invokeFunction('convertToInteractive',\n",
              "                                                    [key], {});\n",
              "        if (!dataTable) return;\n",
              "\n",
              "        const docLinkHtml = 'Like what you see? Visit the ' +\n",
              "          '<a target=\"_blank\" href=https://colab.research.google.com/notebooks/data_table.ipynb>data table notebook</a>'\n",
              "          + ' to learn more about interactive tables.';\n",
              "        element.innerHTML = '';\n",
              "        dataTable['output_type'] = 'display_data';\n",
              "        await google.colab.output.renderOutput(dataTable, element);\n",
              "        const docLink = document.createElement('div');\n",
              "        docLink.innerHTML = docLinkHtml;\n",
              "        element.appendChild(docLink);\n",
              "      }\n",
              "    </script>\n",
              "  </div>\n",
              "\n",
              "\n",
              "<div id=\"df-71a36f5f-65ce-4393-9345-4614f45b4387\">\n",
              "  <button class=\"colab-df-quickchart\" onclick=\"quickchart('df-71a36f5f-65ce-4393-9345-4614f45b4387')\"\n",
              "            title=\"Suggest charts\"\n",
              "            style=\"display:none;\">\n",
              "\n",
              "<svg xmlns=\"http://www.w3.org/2000/svg\" height=\"24px\"viewBox=\"0 0 24 24\"\n",
              "     width=\"24px\">\n",
              "    <g>\n",
              "        <path d=\"M19 3H5c-1.1 0-2 .9-2 2v14c0 1.1.9 2 2 2h14c1.1 0 2-.9 2-2V5c0-1.1-.9-2-2-2zM9 17H7v-7h2v7zm4 0h-2V7h2v10zm4 0h-2v-4h2v4z\"/>\n",
              "    </g>\n",
              "</svg>\n",
              "  </button>\n",
              "\n",
              "<style>\n",
              "  .colab-df-quickchart {\n",
              "      --bg-color: #E8F0FE;\n",
              "      --fill-color: #1967D2;\n",
              "      --hover-bg-color: #E2EBFA;\n",
              "      --hover-fill-color: #174EA6;\n",
              "      --disabled-fill-color: #AAA;\n",
              "      --disabled-bg-color: #DDD;\n",
              "  }\n",
              "\n",
              "  [theme=dark] .colab-df-quickchart {\n",
              "      --bg-color: #3B4455;\n",
              "      --fill-color: #D2E3FC;\n",
              "      --hover-bg-color: #434B5C;\n",
              "      --hover-fill-color: #FFFFFF;\n",
              "      --disabled-bg-color: #3B4455;\n",
              "      --disabled-fill-color: #666;\n",
              "  }\n",
              "\n",
              "  .colab-df-quickchart {\n",
              "    background-color: var(--bg-color);\n",
              "    border: none;\n",
              "    border-radius: 50%;\n",
              "    cursor: pointer;\n",
              "    display: none;\n",
              "    fill: var(--fill-color);\n",
              "    height: 32px;\n",
              "    padding: 0;\n",
              "    width: 32px;\n",
              "  }\n",
              "\n",
              "  .colab-df-quickchart:hover {\n",
              "    background-color: var(--hover-bg-color);\n",
              "    box-shadow: 0 1px 2px rgba(60, 64, 67, 0.3), 0 1px 3px 1px rgba(60, 64, 67, 0.15);\n",
              "    fill: var(--button-hover-fill-color);\n",
              "  }\n",
              "\n",
              "  .colab-df-quickchart-complete:disabled,\n",
              "  .colab-df-quickchart-complete:disabled:hover {\n",
              "    background-color: var(--disabled-bg-color);\n",
              "    fill: var(--disabled-fill-color);\n",
              "    box-shadow: none;\n",
              "  }\n",
              "\n",
              "  .colab-df-spinner {\n",
              "    border: 2px solid var(--fill-color);\n",
              "    border-color: transparent;\n",
              "    border-bottom-color: var(--fill-color);\n",
              "    animation:\n",
              "      spin 1s steps(1) infinite;\n",
              "  }\n",
              "\n",
              "  @keyframes spin {\n",
              "    0% {\n",
              "      border-color: transparent;\n",
              "      border-bottom-color: var(--fill-color);\n",
              "      border-left-color: var(--fill-color);\n",
              "    }\n",
              "    20% {\n",
              "      border-color: transparent;\n",
              "      border-left-color: var(--fill-color);\n",
              "      border-top-color: var(--fill-color);\n",
              "    }\n",
              "    30% {\n",
              "      border-color: transparent;\n",
              "      border-left-color: var(--fill-color);\n",
              "      border-top-color: var(--fill-color);\n",
              "      border-right-color: var(--fill-color);\n",
              "    }\n",
              "    40% {\n",
              "      border-color: transparent;\n",
              "      border-right-color: var(--fill-color);\n",
              "      border-top-color: var(--fill-color);\n",
              "    }\n",
              "    60% {\n",
              "      border-color: transparent;\n",
              "      border-right-color: var(--fill-color);\n",
              "    }\n",
              "    80% {\n",
              "      border-color: transparent;\n",
              "      border-right-color: var(--fill-color);\n",
              "      border-bottom-color: var(--fill-color);\n",
              "    }\n",
              "    90% {\n",
              "      border-color: transparent;\n",
              "      border-bottom-color: var(--fill-color);\n",
              "    }\n",
              "  }\n",
              "</style>\n",
              "\n",
              "  <script>\n",
              "    async function quickchart(key) {\n",
              "      const quickchartButtonEl =\n",
              "        document.querySelector('#' + key + ' button');\n",
              "      quickchartButtonEl.disabled = true;  // To prevent multiple clicks.\n",
              "      quickchartButtonEl.classList.add('colab-df-spinner');\n",
              "      try {\n",
              "        const charts = await google.colab.kernel.invokeFunction(\n",
              "            'suggestCharts', [key], {});\n",
              "      } catch (error) {\n",
              "        console.error('Error during call to suggestCharts:', error);\n",
              "      }\n",
              "      quickchartButtonEl.classList.remove('colab-df-spinner');\n",
              "      quickchartButtonEl.classList.add('colab-df-quickchart-complete');\n",
              "    }\n",
              "    (() => {\n",
              "      let quickchartButtonEl =\n",
              "        document.querySelector('#df-71a36f5f-65ce-4393-9345-4614f45b4387 button');\n",
              "      quickchartButtonEl.style.display =\n",
              "        google.colab.kernel.accessAllowed ? 'block' : 'none';\n",
              "    })();\n",
              "  </script>\n",
              "</div>\n",
              "\n",
              "    </div>\n",
              "  </div>\n"
            ],
            "text/plain": [
              "             Temperature        RH        Ws      Rain      FFMC       DMC  \\\n",
              "Temperature     1.000000 -0.656095 -0.305977 -0.317512  0.694768  0.498173   \n",
              "RH             -0.656095  1.000000  0.225736  0.241656 -0.653023 -0.414601   \n",
              "Ws             -0.305977  0.225736  1.000000  0.251932 -0.190076  0.000379   \n",
              "Rain           -0.317512  0.241656  0.251932  1.000000 -0.545491 -0.289754   \n",
              "FFMC            0.694768 -0.653023 -0.190076 -0.545491  1.000000  0.620807   \n",
              "DMC             0.498173 -0.414601  0.000379 -0.289754  0.620807  1.000000   \n",
              "DC              0.390684 -0.236078  0.096576 -0.302341  0.524101  0.868647   \n",
              "ISI             0.629848 -0.717804 -0.023558 -0.345707  0.750799  0.685656   \n",
              "BUI             0.473609 -0.362317  0.035633 -0.300964  0.607210  0.983175   \n",
              "Classes         0.542141 -0.456876 -0.082570 -0.369357  0.781259  0.617273   \n",
              "Region          0.254549 -0.394665 -0.199969 -0.059022  0.249514  0.212582   \n",
              "\n",
              "                   DC       ISI       BUI   Classes    Region  \n",
              "Temperature  0.390684  0.629848  0.473609  0.542141  0.254549  \n",
              "RH          -0.236078 -0.717804 -0.362317 -0.456876 -0.394665  \n",
              "Ws           0.096576 -0.023558  0.035633 -0.082570 -0.199969  \n",
              "Rain        -0.302341 -0.345707 -0.300964 -0.369357 -0.059022  \n",
              "FFMC         0.524101  0.750799  0.607210  0.781259  0.249514  \n",
              "DMC          0.868647  0.685656  0.983175  0.617273  0.212582  \n",
              "DC           1.000000  0.513701  0.942414  0.543581 -0.060838  \n",
              "ISI          0.513701  1.000000  0.643818  0.742977  0.296441  \n",
              "BUI          0.942414  0.643818  1.000000  0.612239  0.114897  \n",
              "Classes      0.543581  0.742977  0.612239  1.000000  0.188837  \n",
              "Region      -0.060838  0.296441  0.114897  0.188837  1.000000  "
            ]
          },
          "execution_count": 284,
          "metadata": {},
          "output_type": "execute_result"
        }
      ],
      "source": [
        "# Feature Selection based on Correlation\n",
        "X_train.corr()"
      ]
    },
    {
      "cell_type": "code",
      "execution_count": 285,
      "metadata": {
        "colab": {
          "base_uri": "https://localhost:8080/",
          "height": 580
        },
        "id": "4P93-9YqQfJu",
        "outputId": "04e90e7c-0a02-4676-82c9-9fd9fa6b9fa9"
      },
      "outputs": [
        {
          "data": {
            "text/plain": [
              "<Axes: >"
            ]
          },
          "execution_count": 285,
          "metadata": {},
          "output_type": "execute_result"
        },
        {
          "data": {
            "image/png": "[encoded data removed]",
            "text/plain": [
              "<Figure size 800x550 with 2 Axes>"
            ]
          },
          "metadata": {},
          "output_type": "display_data"
        }
      ],
      "source": [
        "# Perform the heatmap for the above correlation data\n",
        "import seaborn as sns\n",
        "sns.heatmap(X_train.corr(), annot = True)"
      ]
    },
    {
      "cell_type": "code",
      "execution_count": 286,
      "metadata": {
        "id": "SPERMRyiSAgF"
      },
      "outputs": [],
      "source": [
        "# fetch all the columns whose correlation value is greater than 0.85\n",
        "def correlation(dataset, threshold):\n",
        "    col_corr = set()\n",
        "    corr_matrix = dataset.corr()\n",
        "    for i in range(len(corr_matrix.columns)):\n",
        "        for j in range(i):\n",
        "            if abs(corr_matrix.iloc[i, j]) > threshold:\n",
        "                colname = corr_matrix.columns[i]\n",
        "                col_corr.add(colname)\n",
        "    return col_corr"
      ]
    },
    {
      "cell_type": "code",
      "execution_count": 287,
      "metadata": {
        "id": "a3hCS9AAR7Hk"
      },
      "outputs": [],
      "source": [
        "corr_features = correlation(X_train, 0.85)"
      ]
    },
    {
      "cell_type": "code",
      "execution_count": 288,
      "metadata": {
        "colab": {
          "base_uri": "https://localhost:8080/"
        },
        "id": "flizl0qpS1D2",
        "outputId": "e16a3911-e3ba-4b23-af30-20280d5e24cc"
      },
      "outputs": [
        {
          "name": "stdout",
          "output_type": "stream",
          "text": [
            "{'BUI', 'DC'}\n"
          ]
        }
      ],
      "source": [
        "print(corr_features)"
      ]
    },
    {
      "cell_type": "code",
      "execution_count": 289,
      "metadata": {
        "id": "S1sYMrfCTIgO"
      },
      "outputs": [],
      "source": [
        "## drop features when correlation is more than 0.85\n",
        "X_train.drop(corr_features, axis = 1, inplace = True)"
      ]
    },
    {
      "cell_type": "code",
      "execution_count": 290,
      "metadata": {
        "id": "5o-fat3sTIp8"
      },
      "outputs": [],
      "source": [
        "X_test.drop(corr_features, axis = 1, inplace = True)"
      ]
    },
    {
      "cell_type": "code",
      "execution_count": 291,
      "metadata": {
        "colab": {
          "base_uri": "https://localhost:8080/"
        },
        "id": "tCBtvGogTtDD",
        "outputId": "d1ac1d40-a5da-40a6-f873-38cd44e79eff"
      },
      "outputs": [
        {
          "data": {
            "text/plain": [
              "((182, 9), (61, 9))"
            ]
          },
          "execution_count": 291,
          "metadata": {},
          "output_type": "execute_result"
        }
      ],
      "source": [
        "X_train.shape, X_test.shape"
      ]
    },
    {
      "cell_type": "markdown",
      "metadata": {
        "id": "3J9KLgCVUWv8"
      },
      "source": [
        "**FEATURE SCALING OR STANDARDIZATION:**"
      ]
    },
    {
      "cell_type": "code",
      "execution_count": 292,
      "metadata": {
        "id": "p7pTqUTuUbT9"
      },
      "outputs": [],
      "source": [
        "# Perform the standardization on the input data\n",
        "\n",
        "from sklearn.preprocessing import StandardScaler\n",
        "\n",
        "sc = StandardScaler()\n",
        "\n",
        "X_train_scaled = sc.fit_transform(X_train)"
      ]
    },
    {
      "cell_type": "code",
      "execution_count": 293,
      "metadata": {
        "id": "cD-d-iHIUqRZ"
      },
      "outputs": [],
      "source": [
        "X_test_scaled = sc.transform(X_test)"
      ]
    },
    {
      "cell_type": "code",
      "execution_count": 294,
      "metadata": {
        "colab": {
          "base_uri": "https://localhost:8080/"
        },
        "id": "86nEkUVkU6dM",
        "outputId": "9e700873-7e01-449c-9f4d-e4cf334a3b70"
      },
      "outputs": [
        {
          "name": "stdout",
          "output_type": "stream",
          "text": [
            "[[-0.84284248  0.78307967  1.29972026 ... -0.62963326 -1.10431526\n",
            "  -0.98907071]\n",
            " [-0.30175842  0.64950844 -0.59874754 ... -0.93058524 -1.10431526\n",
            "   1.01105006]\n",
            " [ 2.13311985 -2.08870172 -0.21905398 ...  2.7271388   0.90553851\n",
            "   1.01105006]\n",
            " ...\n",
            " [-1.9250106   0.9166509   0.54033314 ... -1.06948615 -1.10431526\n",
            "  -0.98907071]\n",
            " [ 0.50986767 -0.21870454  0.16063958 ...  0.5973248   0.90553851\n",
            "   1.01105006]\n",
            " [-0.57230045  0.98343651  2.05910739 ... -0.86113478 -1.10431526\n",
            "  -0.98907071]]\n"
          ]
        }
      ],
      "source": [
        "print(X_train_scaled)"
      ]
    },
    {
      "cell_type": "code",
      "execution_count": 295,
      "metadata": {
        "colab": {
          "base_uri": "https://localhost:8080/"
        },
        "id": "POgbkR6CU-mo",
        "outputId": "04ebae75-6bbf-4ffc-c7bf-3f9ee5c97a71"
      },
      "outputs": [
        {
          "name": "stdout",
          "output_type": "stream",
          "text": [
            "[[-3.01758418e-01  1.15223531e-01 -2.19053977e-01 -3.84060174e-01\n",
            "   6.33218240e-01 -4.25075679e-02  2.03772218e-01  9.05538514e-01\n",
            "  -9.89070710e-01]\n",
            " [ 2.39325642e-01 -5.52632606e-01 -9.78441098e-01 -3.84060174e-01\n",
            "   7.37980727e-01 -3.83352062e-01  3.65823283e-01  9.05538514e-01\n",
            "  -9.89070710e-01]\n",
            " [-1.11338451e+00 -2.85490151e-01  9.20026704e-01  6.45241658e-01\n",
            "  -9.73139891e-01 -9.14435344e-01 -8.37984627e-01 -1.10431526e+00\n",
            "   1.01105006e+00]\n",
            " [ 5.09867672e-01 -2.85490151e-01 -9.78441098e-01 -2.90487280e-01\n",
            "   1.30358303e-01  3.14190159e-01 -6.29633258e-01 -1.10431526e+00\n",
            "   1.01105006e+00]\n",
            " [-5.72300448e-01  1.82009145e-01 -5.98747538e-01 -3.84060174e-01\n",
            "   5.42424085e-01  1.00171523e-01 -7.40296073e-02  9.05538514e-01\n",
            "   1.01105006e+00]\n",
            " [ 1.86257782e+00  1.15223531e-01 -2.49721534e+00  1.77377189e-01\n",
            "  -2.67739147e-01 -2.40672972e-01 -8.61134779e-01 -1.10431526e+00\n",
            "   1.01105006e+00]\n",
            " [-1.11338451e+00  8.49865282e-01  1.60639583e-01 -3.84060174e-01\n",
            "   3.18930780e-01 -8.19315950e-01 -3.51831432e-01  9.05538514e-01\n",
            "   1.01105006e+00]\n",
            " [ 1.32149376e+00 -1.75477365e+00 -9.78441098e-01 -1.03341493e-01\n",
            "   5.98297411e-01  2.50777229e-01 -4.57915097e-03  9.05538514e-01\n",
            "   1.01105006e+00]\n",
            " [-1.11338451e+00  1.11700774e+00 -1.35813466e+00 -3.84060174e-01\n",
            "  -3.09644141e-01 -4.15058527e-01 -8.14834475e-01 -1.10431526e+00\n",
            "  -9.89070710e-01]\n",
            " [-3.01758418e-01 -8.19775060e-01  1.29972026e+00 -1.03341493e-01\n",
            "   1.16274848e-02 -3.27865749e-01 -5.60182801e-01 -1.10431526e+00\n",
            "  -9.89070710e-01]\n",
            " [-1.11338451e+00  9.16650896e-01  2.05910739e+00 -3.84060174e-01\n",
            "  -3.51549136e-01 -6.13223930e-01 -9.53735387e-01 -1.10431526e+00\n",
            "  -9.89070710e-01]\n",
            " [ 7.80409702e-01 -4.19061378e-01 -5.98747538e-01 -1.96914386e-01\n",
            "   1.09405806e-01  1.76476091e+00 -6.29633258e-01 -1.10431526e+00\n",
            "   1.01105006e+00]\n",
            " [-3.12163881e-02 -7.52989447e-01 -9.78441098e-01 -3.84060174e-01\n",
            "   7.72901556e-01  1.00171523e-01  4.81574043e-01  9.05538514e-01\n",
            "   1.01105006e+00]\n",
            " [ 1.05095173e+00 -8.19775060e-01  1.60639583e-01 -3.84060174e-01\n",
            "   8.56711545e-01  1.42391642e+00  1.08347800e+00  9.05538514e-01\n",
            "   1.01105006e+00]\n",
            " [ 1.05095173e+00 -4.85846992e-01  9.20026704e-01 -3.84060174e-01\n",
            "   8.00838219e-01  1.48732935e+00  1.17607861e+00  9.05538514e-01\n",
            "  -9.89070710e-01]\n",
            " [ 5.09867672e-01 -7.52989447e-01  1.60639583e-01  1.39382481e+00\n",
            "  -9.32501256e-03 -5.33957769e-01 -6.52783410e-01 -1.10431526e+00\n",
            "   1.01105006e+00]\n",
            " [-1.65446857e+00 -8.86560674e-01 -3.63629602e+00  5.51668764e-01\n",
            "  -1.14075987e+00 -2.24819739e-01 -9.76885539e-01 -1.10431526e+00\n",
            "   1.01105006e+00]\n",
            " [-8.42842478e-01  1.78486387e+00 -9.78441098e-01 -5.65550457e-02\n",
            "  -2.90076965e+00 -1.03333459e+00 -1.11578645e+00 -1.10431526e+00\n",
            "  -9.89070710e-01]\n",
            " [-3.12163881e-02  8.49865282e-01 -5.98747538e-01 -3.84060174e-01\n",
            "   6.12265743e-01 -1.37626962e-01  8.80214574e-02  9.05538514e-01\n",
            "  -9.89070710e-01]\n",
            " [ 7.80409702e-01 -5.52632606e-01 -1.73782822e+00 -3.37273727e-01\n",
            "   4.23693266e-01 -5.02251304e-01 -3.98131737e-01  9.05538514e-01\n",
            "   1.01105006e+00]\n",
            " [ 2.39325642e-01  1.05022212e+00  5.40333144e-01 -3.84060174e-01\n",
            "   1.72263298e-01 -8.03462718e-01 -4.90732345e-01 -1.10431526e+00\n",
            "  -9.89070710e-01]\n",
            " [-5.72300448e-01  1.18379335e+00  1.60639583e-01 -1.96914386e-01\n",
            "  -1.24552236e+00 -8.98582112e-01 -9.07435083e-01 -1.10431526e+00\n",
            "  -9.89070710e-01]\n",
            " [-3.01758418e-01 -6.86203833e-01 -5.98747538e-01 -3.84060174e-01\n",
            "   7.03059898e-01 -6.60783627e-01  3.19522978e-01  9.05538514e-01\n",
            "  -9.89070710e-01]\n",
            " [-8.42842478e-01  3.82365986e-01  1.29972026e+00  8.38042950e-02\n",
            "  -1.23853819e+00 -9.69921657e-01 -8.61134779e-01 -1.10431526e+00\n",
            "  -9.89070710e-01]\n",
            " [ 1.59203579e+00 -1.82155927e+00 -2.19053977e-01 -3.84060174e-01\n",
            "   1.12909401e+00  6.55034653e-01  2.51878743e+00  9.05538514e-01\n",
            "   1.01105006e+00]\n",
            " [ 1.86257782e+00 -1.15370313e+00 -9.78441098e-01 -1.03341493e-01\n",
            "   5.28455753e-01 -2.72379436e-01 -1.43480064e-01  9.05538514e-01\n",
            "   1.01105006e+00]\n",
            " [-3.01758418e-01  1.82009145e-01 -5.98747538e-01 -3.84060174e-01\n",
            "   4.79566593e-01 -1.77260042e-01 -1.89780368e-01  9.05538514e-01\n",
            "  -9.89070710e-01]\n",
            " [ 7.80409702e-01  4.84379176e-02 -2.19053977e-01 -3.84060174e-01\n",
            "   6.54170737e-01  3.37970007e-01  2.50072522e-01  9.05538514e-01\n",
            "  -9.89070710e-01]\n",
            " [-2.73663669e+00  1.58450703e+00 -2.19053977e-01  4.34137096e+00\n",
            "  -3.29188293e+00 -1.11260075e+00 -1.11578645e+00 -1.10431526e+00\n",
            "  -9.89070710e-01]\n",
            " [ 5.09867672e-01 -2.85490151e-01  9.20026704e-01 -3.84060174e-01\n",
            "   7.24012395e-01 -9.00672648e-02  7.36225716e-01  9.05538514e-01\n",
            "   1.01105006e+00]\n",
            " [-1.11338451e+00  1.45093581e+00  9.20026704e-01 -3.84060174e-01\n",
            "   4.30677432e-01 -9.79938809e-02 -7.40296073e-02  9.05538514e-01\n",
            "  -9.89070710e-01]\n",
            " [-5.72300448e-01 -2.85490151e-01 -1.35813466e+00  1.53418415e+00\n",
            "  -8.05519912e-01 -8.51022415e-01 -8.84284931e-01 -1.10431526e+00\n",
            "   1.01105006e+00]\n",
            " [-3.01758418e-01  1.15223531e-01  9.20026704e-01 -3.84060174e-01\n",
            "   6.40202406e-01  2.42850613e-01  4.35273739e-01  9.05538514e-01\n",
            "  -9.89070710e-01]\n",
            " [ 7.80409702e-01  1.15223531e-01  5.40333144e-01 -3.84060174e-01\n",
            "   6.68139069e-01  1.36050349e+00  4.58423891e-01  9.05538514e-01\n",
            "  -9.89070710e-01]\n",
            " [-3.01758418e-01 -4.85846992e-01  1.60639583e-01 -3.37273727e-01\n",
            "   1.58294966e-01 -8.11389334e-01 -5.37032649e-01 -1.10431526e+00\n",
            "  -9.89070710e-01]\n",
            " [-3.12163881e-02 -1.51918923e-01 -5.98747538e-01 -2.90487280e-01\n",
            "  -3.72616757e-02 -6.92490092e-01 -6.99083714e-01 -1.10431526e+00\n",
            "   1.01105006e+00]\n",
            " [-8.42842478e-01  8.49865282e-01  1.60639583e-01 -3.84060174e-01\n",
            "   2.21152458e-01 -8.98582112e-01 -4.67582193e-01  9.05538514e-01\n",
            "  -9.89070710e-01]\n",
            " [ 7.80409702e-01 -1.08691752e+00 -9.78441098e-01 -2.43700833e-01\n",
            "   4.37661598e-01  1.71511068e-01 -3.05531128e-01  9.05538514e-01\n",
            "   1.01105006e+00]\n",
            " [-8.42842478e-01  1.65129265e+00 -2.19053977e-01 -1.96914386e-01\n",
            "  -2.11155892e+00 -8.35169182e-01 -1.06948615e+00 -1.10431526e+00\n",
            "   1.01105006e+00]\n",
            " [-1.38392654e+00  1.65129265e+00  5.09665587e+00 -1.50127939e-01\n",
            "  -2.21632140e+00 -8.90655495e-01 -1.02318584e+00 -1.10431526e+00\n",
            "   1.01105006e+00]\n",
            " [ 1.05095173e+00 -4.85846992e-01 -9.78441098e-01 -2.43700833e-01\n",
            "   3.32899111e-01  6.84650581e-02 -2.59230824e-01  9.05538514e-01\n",
            "  -9.89070710e-01]\n",
            " [-3.01758418e-01 -5.52632606e-01 -1.73782822e+00 -3.84060174e-01\n",
            "   3.04962448e-01 -6.92490092e-01 -5.37032649e-01 -1.10431526e+00\n",
            "  -9.89070710e-01]\n",
            " [-3.01758418e-01 -4.85846992e-01 -1.73782822e+00 -3.84060174e-01\n",
            "   7.10044064e-01  1.39804603e-01  1.34321762e-01  9.05538514e-01\n",
            "  -9.89070710e-01]\n",
            " [-5.72300448e-01  1.78486387e+00  1.60639583e-01 -1.03341493e-01\n",
            "  -2.81695966e+00 -1.08089428e+00 -1.11578645e+00 -1.10431526e+00\n",
            "  -9.89070710e-01]\n",
            " [ 1.32149376e+00 -1.48763120e+00 -9.78441098e-01 -3.84060174e-01\n",
            "   9.96394861e-01  5.99548340e-01  1.38442998e+00  9.05538514e-01\n",
            "   1.01105006e+00]\n",
            " [-3.12163881e-02  4.49151600e-01  1.60639583e-01 -3.84060174e-01\n",
            "   6.19249908e-01  6.05384420e-02  1.57471914e-01  9.05538514e-01\n",
            "  -9.89070710e-01]\n",
            " [-3.12163881e-02  1.25057896e+00  5.40333144e-01 -3.84060174e-01\n",
            "   4.86550758e-01  5.04428946e-01 -2.77293031e-02  9.05538514e-01\n",
            "   1.01105006e+00]\n",
            " [-3.12163881e-02  3.82365986e-01 -5.98747538e-01  2.70950082e-01\n",
            "  -7.70599084e-01 -5.57737617e-01 -8.61134779e-01 -1.10431526e+00\n",
            "  -9.89070710e-01]\n",
            " [ 1.05095173e+00 -4.19061378e-01  1.60639583e-01 -3.84060174e-01\n",
            "   7.86869887e-01  7.18447582e-01  7.82526020e-01  9.05538514e-01\n",
            "   1.01105006e+00]\n",
            " [-8.42842478e-01  1.82009145e-01  1.29972026e+00 -1.03341493e-01\n",
            "  -6.51868265e-01 -7.32123173e-01 -7.68534170e-01 -1.10431526e+00\n",
            "  -9.89070710e-01]\n",
            " [ 2.39325642e-01 -1.68798804e+00  1.60639583e-01 -3.84060174e-01\n",
            "   1.01734736e+00  3.69092864e+00  1.91688347e+00  9.05538514e-01\n",
            "   1.01105006e+00]\n",
            " [ 1.59203579e+00 -1.28727436e+00 -9.78441098e-01 -1.50127939e-01\n",
            "   5.14487422e-01 -1.37626962e-01 -1.66630216e-01  9.05538514e-01\n",
            "   1.01105006e+00]\n",
            " [-3.01758418e-01 -1.35405997e+00  2.05910739e+00 -3.84060174e-01\n",
            "   9.05600706e-01  2.74557078e-01  1.98633393e+00  9.05538514e-01\n",
            "   1.01105006e+00]\n",
            " [ 5.09867672e-01  1.15223531e-01 -5.98747538e-01 -3.84060174e-01\n",
            "   7.86869887e-01  2.04219248e+00  9.67727237e-01  9.05538514e-01\n",
            "  -9.89070710e-01]\n",
            " [ 1.05095173e+00 -6.19418219e-01  1.29972026e+00 -3.84060174e-01\n",
            "   8.07822385e-01  1.87364300e-01  1.19922876e+00  9.05538514e-01\n",
            "  -9.89070710e-01]\n",
            " [-3.01758418e-01  1.05022212e+00  9.20026704e-01 -3.84060174e-01\n",
            "   5.70360748e-01  2.44644990e+00 -2.77293031e-02  9.05538514e-01\n",
            "  -9.89070710e-01]\n",
            " [ 5.09867672e-01 -4.19061378e-01 -2.19053977e-01  9.72746786e-01\n",
            "  -1.97897489e-01 -6.05297314e-01 -7.45384018e-01 -1.10431526e+00\n",
            "   1.01105006e+00]\n",
            " [ 2.39325642e-01 -3.52275765e-01  1.60639583e-01 -3.84060174e-01\n",
            "   6.89091566e-01  7.63916743e-02  4.35273739e-01  9.05538514e-01\n",
            "   1.01105006e+00]\n",
            " [-3.01758418e-01  6.49508441e-01 -5.98747538e-01 -3.84060174e-01\n",
            "   4.58614095e-01 -5.10177920e-01 -2.36080672e-01  9.05538514e-01\n",
            "   1.01105006e+00]\n",
            " [ 1.05095173e+00 -1.95513049e+00 -9.78441098e-01 -3.37273727e-01\n",
            "   9.05600706e-01  8.76979905e-01  9.67727237e-01  9.05538514e-01\n",
            "   1.01105006e+00]\n",
            " [ 5.09867672e-01 -4.19061378e-01  5.40333144e-01 -3.37273727e-01\n",
            "   4.93534924e-01 -3.99205294e-01 -2.77293031e-02  9.05538514e-01\n",
            "   1.01105006e+00]]\n"
          ]
        }
      ],
      "source": [
        "print(X_test_scaled)"
      ]
    },
    {
      "cell_type": "markdown",
      "metadata": {
        "id": "_Emkwly0VLkA"
      },
      "source": [
        "**BOX PLOTS TO UNDERSTAND THE EFFECTS OF STANDARD SCALER:**"
      ]
    },
    {
      "cell_type": "code",
      "execution_count": 296,
      "metadata": {
        "colab": {
          "base_uri": "https://localhost:8080/",
          "height": 540
        },
        "id": "VBbnIP0KVJlc",
        "outputId": "19363ee2-a848-452a-f2f5-82ff24c04d13"
      },
      "outputs": [
        {
          "name": "stderr",
          "output_type": "stream",
          "text": [
            "<ipython-input-296-cf2a66116463>:3: MatplotlibDeprecationWarning: Auto-removal of overlapping axes is deprecated since 3.6 and will be removed two minor releases later; explicitly call ax.remove() as needed.\n",
            "  plt.subplot(1,2,1)\n"
          ]
        },
        {
          "data": {
            "text/plain": [
              "Text(0.5, 1.0, 'X_train after scaling')"
            ]
          },
          "execution_count": 296,
          "metadata": {},
          "output_type": "execute_result"
        },
        {
          "data": {
            "image/png": "[encoded data removed]",
            "text/plain": [
              "<Figure size 1500x500 with 2 Axes>"
            ]
          },
          "metadata": {},
          "output_type": "display_data"
        }
      ],
      "source": [
        "plt.subplots(figsize = (15,5))\n",
        "\n",
        "plt.subplot(1,2,1)\n",
        "sns.boxplot(data = X_train)\n",
        "plt.title('X_train before scaling')\n",
        "\n",
        "\n",
        "plt.subplot(1,2,2)\n",
        "sns.boxplot(data = X_train_scaled)\n",
        "plt.title('X_train after scaling')"
      ]
    },
    {
      "cell_type": "markdown",
      "metadata": {
        "id": "umEZdhM8HPL4"
      },
      "source": [
        "**4. APPLYING ALGORITHMS TO TEST THE ACCURACY OF THE MODEL:**"
      ]
    },
    {
      "cell_type": "markdown",
      "metadata": {
        "id": "rR0rthe5HaaM"
      },
      "source": [
        "**(i) Linear Regression Model:**"
      ]
    },
    {
      "cell_type": "code",
      "execution_count": 297,
      "metadata": {
        "colab": {
          "base_uri": "https://localhost:8080/",
          "height": 536
        },
        "id": "WO6alYh5HYgX",
        "outputId": "e1b9b7f7-ced4-4fb5-8c5f-2aa105d5a849"
      },
      "outputs": [
        {
          "name": "stdout",
          "output_type": "stream",
          "text": [
            "Mean Absolute Error is: 0.5468236465249986\n",
            "R2 Score is: 98.47657384266951\n"
          ]
        },
        {
          "data": {
            "text/plain": [
              "<matplotlib.collections.PathCollection at 0x7e524364a230>"
            ]
          },
          "execution_count": 297,
          "metadata": {},
          "output_type": "execute_result"
        },
        {
          "data": {
            "image/png": "[encoded data removed]",
            "text/plain": [
              "<Figure size 800x550 with 1 Axes>"
            ]
          },
          "metadata": {},
          "output_type": "display_data"
        }
      ],
      "source": [
        "from sklearn.linear_model import LinearRegression\n",
        "\n",
        "lin = LinearRegression()\n",
        "\n",
        "lin.fit(X_train_scaled, Y_train)\n",
        "\n",
        "pred_y = lin.predict(X_test_scaled)\n",
        "\n",
        "\n",
        "from sklearn.metrics import mean_absolute_error\n",
        "\n",
        "mae = mean_absolute_error(Y_test, pred_y)\n",
        "\n",
        "from sklearn.metrics import r2_score\n",
        "\n",
        "score = (r2_score(Y_test, pred_y))*100.0\n",
        "\n",
        "\n",
        "print(\"Mean Absolute Error is:\", mae)\n",
        "\n",
        "print(\"R2 Score is:\", score)\n",
        "\n",
        "plt.scatter(Y_test, pred_y)"
      ]
    },
    {
      "cell_type": "markdown",
      "metadata": {
        "id": "CO_MJyH0JTvX"
      },
      "source": [
        "**(ii) Lasso Regression**"
      ]
    },
    {
      "cell_type": "code",
      "execution_count": 298,
      "metadata": {
        "colab": {
          "base_uri": "https://localhost:8080/",
          "height": 536
        },
        "id": "_-O5aAMBJa62",
        "outputId": "8c2abeaa-8b7f-47c2-c4f0-22383a7f3c27"
      },
      "outputs": [
        {
          "name": "stdout",
          "output_type": "stream",
          "text": [
            "Mean Absolute Error is: 1.133175994914409\n",
            "R2 Score is: 94.92020263112389\n"
          ]
        },
        {
          "data": {
            "text/plain": [
              "<matplotlib.collections.PathCollection at 0x7e52436f7e50>"
            ]
          },
          "execution_count": 298,
          "metadata": {},
          "output_type": "execute_result"
        },
        {
          "data": {
            "image/png": "[encoded data removed]",
            "text/plain": [
              "<Figure size 800x550 with 1 Axes>"
            ]
          },
          "metadata": {},
          "output_type": "display_data"
        }
      ],
      "source": [
        "from sklearn.linear_model import Lasso\n",
        "\n",
        "lasso = Lasso()\n",
        "\n",
        "lasso.fit(X_train_scaled, Y_train)\n",
        "\n",
        "pred_y = lasso.predict(X_test_scaled)\n",
        "\n",
        "\n",
        "from sklearn.metrics import mean_absolute_error\n",
        "\n",
        "mae = mean_absolute_error(Y_test, pred_y)\n",
        "\n",
        "from sklearn.metrics import r2_score\n",
        "\n",
        "score = (r2_score(Y_test, pred_y))*100.0\n",
        "\n",
        "\n",
        "print(\"Mean Absolute Error is:\", mae)\n",
        "\n",
        "print(\"R2 Score is:\", score)\n",
        "\n",
        "plt.scatter(Y_test, pred_y)"
      ]
    },
    {
      "cell_type": "markdown",
      "metadata": {
        "id": "kjHicfDaKIWJ"
      },
      "source": [
        "**(iii) Cross Validation Lasso**"
      ]
    },
    {
      "cell_type": "code",
      "execution_count": 299,
      "metadata": {
        "colab": {
          "base_uri": "https://localhost:8080/",
          "height": 536
        },
        "id": "wTU5KbGsKQRz",
        "outputId": "639530a2-7677-4297-e64d-742ba6798f81"
      },
      "outputs": [
        {
          "name": "stdout",
          "output_type": "stream",
          "text": [
            "Mean Absolute Error is: 0.6199701158263433\n",
            "R2 Score is: 98.20946715928275\n"
          ]
        },
        {
          "data": {
            "text/plain": [
              "<matplotlib.collections.PathCollection at 0x7e52416a7d60>"
            ]
          },
          "execution_count": 299,
          "metadata": {},
          "output_type": "execute_result"
        },
        {
          "data": {
            "image/png": "[encoded data removed]",
            "text/plain": [
              "<Figure size 800x550 with 1 Axes>"
            ]
          },
          "metadata": {},
          "output_type": "display_data"
        }
      ],
      "source": [
        "from sklearn.linear_model import LassoCV\n",
        "\n",
        "lassocv = LassoCV(cv = 5)\n",
        "\n",
        "lassocv.fit(X_train_scaled, Y_train)\n",
        "\n",
        "\n",
        "pred_y = lassocv.predict(X_test_scaled)\n",
        "\n",
        "from sklearn.metrics import mean_absolute_error\n",
        "\n",
        "mae = mean_absolute_error(Y_test, pred_y)\n",
        "\n",
        "from sklearn.metrics import r2_score\n",
        "\n",
        "score = (r2_score(Y_test, pred_y))*100.0\n",
        "\n",
        "\n",
        "print(\"Mean Absolute Error is:\", mae)\n",
        "\n",
        "print(\"R2 Score is:\", score)\n",
        "\n",
        "plt.scatter(Y_test, pred_y)\n"
      ]
    },
    {
      "cell_type": "markdown",
      "metadata": {
        "id": "u3EWaCO_LXY5"
      },
      "source": [
        "**(iv) Ridge Regression model**"
      ]
    },
    {
      "cell_type": "code",
      "execution_count": 300,
      "metadata": {
        "colab": {
          "base_uri": "https://localhost:8080/",
          "height": 536
        },
        "id": "WuukDdftLe4W",
        "outputId": "5a611a14-3259-4454-925c-63bce8751008"
      },
      "outputs": [
        {
          "name": "stdout",
          "output_type": "stream",
          "text": [
            "Mean Absolute Error is: 0.5642305340105692\n",
            "R2 Score is: 98.42993364555514\n"
          ]
        },
        {
          "data": {
            "text/plain": [
              "<matplotlib.collections.PathCollection at 0x7e524265ba90>"
            ]
          },
          "execution_count": 300,
          "metadata": {},
          "output_type": "execute_result"
        },
        {
          "data": {
            "image/png": "[encoded data removed]",
            "text/plain": [
              "<Figure size 800x550 with 1 Axes>"
            ]
          },
          "metadata": {},
          "output_type": "display_data"
        }
      ],
      "source": [
        "from sklearn.linear_model import Ridge\n",
        "\n",
        "ridge = Ridge()\n",
        "\n",
        "ridge.fit(X_train_scaled, Y_train)\n",
        "\n",
        "pred_y = ridge.predict(X_test_scaled)\n",
        "\n",
        "\n",
        "from sklearn.metrics import mean_absolute_error\n",
        "\n",
        "mae = mean_absolute_error(Y_test, pred_y)\n",
        "\n",
        "from sklearn.metrics import r2_score\n",
        "\n",
        "score = (r2_score(Y_test, pred_y))*100.0\n",
        "\n",
        "\n",
        "print(\"Mean Absolute Error is:\", mae)\n",
        "\n",
        "print(\"R2 Score is:\", score)\n",
        "\n",
        "plt.scatter(Y_test, pred_y)"
      ]
    },
    {
      "cell_type": "markdown",
      "metadata": {
        "id": "NBuWNEfML5MR"
      },
      "source": [
        "**RidgeCV**"
      ]
    },
    {
      "cell_type": "code",
      "execution_count": 301,
      "metadata": {
        "colab": {
          "base_uri": "https://localhost:8080/",
          "height": 536
        },
        "id": "C2UTbVbaMB-h",
        "outputId": "7625bca5-70c5-441e-dd41-f2d992dea572"
      },
      "outputs": [
        {
          "name": "stdout",
          "output_type": "stream",
          "text": [
            "Mean Absolute Error is: 0.5642305340105692\n",
            "R2 Score is: 98.42993364555514\n"
          ]
        },
        {
          "data": {
            "text/plain": [
              "<matplotlib.collections.PathCollection at 0x7e524373e380>"
            ]
          },
          "execution_count": 301,
          "metadata": {},
          "output_type": "execute_result"
        },
        {
          "data": {
            "image/png": "[encoded data removed]",
            "text/plain": [
              "<Figure size 800x550 with 1 Axes>"
            ]
          },
          "metadata": {},
          "output_type": "display_data"
        }
      ],
      "source": [
        "from sklearn.linear_model import RidgeCV\n",
        "\n",
        "ridgecv = RidgeCV(cv = 5)\n",
        "\n",
        "ridgecv.fit(X_train_scaled, Y_train)\n",
        "\n",
        "pred_y = ridgecv.predict(X_test_scaled)\n",
        "\n",
        "\n",
        "from sklearn.metrics import mean_absolute_error\n",
        "\n",
        "mae = mean_absolute_error(Y_test, pred_y)\n",
        "\n",
        "from sklearn.metrics import r2_score\n",
        "\n",
        "score = (r2_score(Y_test, pred_y))*100.0\n",
        "\n",
        "\n",
        "print(\"Mean Absolute Error is:\", mae)\n",
        "\n",
        "print(\"R2 Score is:\", score)\n",
        "\n",
        "plt.scatter(Y_test, pred_y)"
      ]
    },
    {
      "cell_type": "code",
      "execution_count": 302,
      "metadata": {
        "colab": {
          "base_uri": "https://localhost:8080/"
        },
        "id": "ADoiXqTOMWr1",
        "outputId": "34e258ae-7701-4c12-f35a-f65c7235360e"
      },
      "outputs": [
        {
          "data": {
            "text/plain": [
              "{'alpha_per_target': False,\n",
              " 'alphas': (0.1, 1.0, 10.0),\n",
              " 'cv': 5,\n",
              " 'fit_intercept': True,\n",
              " 'gcv_mode': None,\n",
              " 'scoring': None,\n",
              " 'store_cv_values': False}"
            ]
          },
          "execution_count": 302,
          "metadata": {},
          "output_type": "execute_result"
        }
      ],
      "source": [
        "ridgecv.get_params()"
      ]
    },
    {
      "cell_type": "markdown",
      "metadata": {
        "id": "WwzERFI6M1lM"
      },
      "source": [
        "**(v) ElasticNet Regression:**"
      ]
    },
    {
      "cell_type": "code",
      "execution_count": 303,
      "metadata": {
        "colab": {
          "base_uri": "https://localhost:8080/",
          "height": 536
        },
        "id": "uI85-Q5IM80V",
        "outputId": "57339c77-7f4d-4f35-a141-ae74d1d05a9f"
      },
      "outputs": [
        {
          "name": "stdout",
          "output_type": "stream",
          "text": [
            "Mean Absolute Error is: 1.8822353634896005\n",
            "R2 Score is: 87.53460589519703\n"
          ]
        },
        {
          "data": {
            "text/plain": [
              "<matplotlib.collections.PathCollection at 0x7e52426c3640>"
            ]
          },
          "execution_count": 303,
          "metadata": {},
          "output_type": "execute_result"
        },
        {
          "data": {
            "image/png": "[encoded data removed]",
            "text/plain": [
              "<Figure size 800x550 with 1 Axes>"
            ]
          },
          "metadata": {},
          "output_type": "display_data"
        }
      ],
      "source": [
        "from sklearn.linear_model import ElasticNet\n",
        "\n",
        "elastic = ElasticNet()\n",
        "\n",
        "elastic.fit(X_train_scaled, Y_train)\n",
        "\n",
        "pred_y = elastic.predict(X_test_scaled)\n",
        "\n",
        "\n",
        "from sklearn.metrics import mean_absolute_error\n",
        "\n",
        "mae = mean_absolute_error(Y_test, pred_y)\n",
        "\n",
        "from sklearn.metrics import r2_score\n",
        "\n",
        "score = (r2_score(Y_test, pred_y))*100.0\n",
        "\n",
        "\n",
        "print(\"Mean Absolute Error is:\", mae)\n",
        "\n",
        "print(\"R2 Score is:\", score)\n",
        "\n",
        "plt.scatter(Y_test, pred_y)"
      ]
    },
    {
      "cell_type": "markdown",
      "metadata": {
        "id": "5nevqKoGNSEQ"
      },
      "source": [
        "**ElasticNet CV**"
      ]
    },
    {
      "cell_type": "code",
      "execution_count": 304,
      "metadata": {
        "colab": {
          "base_uri": "https://localhost:8080/",
          "height": 536
        },
        "id": "EI8S4KKmNZs2",
        "outputId": "da55f31b-691c-4f6d-d336-a7d4ceada5e4"
      },
      "outputs": [
        {
          "name": "stdout",
          "output_type": "stream",
          "text": [
            "Mean Absolute Error is: 0.6575946731430898\n",
            "R2 Score is: 98.14217587854941\n"
          ]
        },
        {
          "data": {
            "text/plain": [
              "<matplotlib.collections.PathCollection at 0x7e52428ba6e0>"
            ]
          },
          "execution_count": 304,
          "metadata": {},
          "output_type": "execute_result"
        },
        {
          "data": {
            "image/png": "[encoded data removed]",
            "text/plain": [
              "<Figure size 800x550 with 1 Axes>"
            ]
          },
          "metadata": {},
          "output_type": "display_data"
        }
      ],
      "source": [
        "from sklearn.linear_model import ElasticNetCV\n",
        "\n",
        "elasticcv = ElasticNetCV()\n",
        "\n",
        "elasticcv.fit(X_train_scaled, Y_train)\n",
        "\n",
        "pred_y = elasticcv.predict(X_test_scaled)\n",
        "\n",
        "\n",
        "from sklearn.metrics import mean_absolute_error\n",
        "\n",
        "mae = mean_absolute_error(Y_test, pred_y)\n",
        "\n",
        "from sklearn.metrics import r2_score\n",
        "\n",
        "score = (r2_score(Y_test, pred_y))*100.0\n",
        "\n",
        "\n",
        "print(\"Mean Absolute Error is:\", mae)\n",
        "\n",
        "print(\"R2 Score is:\", score)\n",
        "\n",
        "plt.scatter(Y_test, pred_y)"
      ]
    },
    {
      "cell_type": "code",
      "execution_count": 305,
      "metadata": {
        "colab": {
          "base_uri": "https://localhost:8080/"
        },
        "id": "mNvJgu4RNlfS",
        "outputId": "616802fa-d5d0-4460-a2bc-956aa4e22b30"
      },
      "outputs": [
        {
          "name": "stdout",
          "output_type": "stream",
          "text": [
            "[1.41170600e+01 1.31656174e+01 1.22782989e+01 1.14507826e+01\n",
            " 1.06790382e+01 9.95930678e+00 9.28808283e+00 8.66209714e+00\n",
            " 8.07830078e+00 7.53385034e+00 7.02609405e+00 6.55255882e+00\n",
            " 6.11093829e+00 5.69908150e+00 5.31498248e+00 4.95677045e+00\n",
            " 4.62270071e+00 4.31114616e+00 4.02058933e+00 3.74961507e+00\n",
            " 3.49690356e+00 3.26122397e+00 3.04142839e+00 2.83644629e+00\n",
            " 2.64527931e+00 2.46699633e+00 2.30072904e+00 2.14566760e+00\n",
            " 2.00105679e+00 1.86619226e+00 1.74041714e+00 1.62311885e+00\n",
            " 1.51372607e+00 1.41170600e+00 1.31656174e+00 1.22782989e+00\n",
            " 1.14507826e+00 1.06790382e+00 9.95930678e-01 9.28808283e-01\n",
            " 8.66209714e-01 8.07830078e-01 7.53385034e-01 7.02609405e-01\n",
            " 6.55255882e-01 6.11093829e-01 5.69908150e-01 5.31498248e-01\n",
            " 4.95677045e-01 4.62270071e-01 4.31114616e-01 4.02058933e-01\n",
            " 3.74961507e-01 3.49690356e-01 3.26122397e-01 3.04142839e-01\n",
            " 2.83644629e-01 2.64527931e-01 2.46699633e-01 2.30072904e-01\n",
            " 2.14566760e-01 2.00105679e-01 1.86619226e-01 1.74041714e-01\n",
            " 1.62311885e-01 1.51372607e-01 1.41170600e-01 1.31656174e-01\n",
            " 1.22782989e-01 1.14507826e-01 1.06790382e-01 9.95930678e-02\n",
            " 9.28808283e-02 8.66209714e-02 8.07830078e-02 7.53385034e-02\n",
            " 7.02609405e-02 6.55255882e-02 6.11093829e-02 5.69908150e-02\n",
            " 5.31498248e-02 4.95677045e-02 4.62270071e-02 4.31114616e-02\n",
            " 4.02058933e-02 3.74961507e-02 3.49690356e-02 3.26122397e-02\n",
            " 3.04142839e-02 2.83644629e-02 2.64527931e-02 2.46699633e-02\n",
            " 2.30072904e-02 2.14566760e-02 2.00105679e-02 1.86619226e-02\n",
            " 1.74041714e-02 1.62311885e-02 1.51372607e-02 1.41170600e-02]\n"
          ]
        }
      ],
      "source": [
        "print(elasticcv.alphas_)"
      ]
    },
    {
      "cell_type": "code",
      "execution_count": 306,
      "metadata": {
        "colab": {
          "base_uri": "https://localhost:8080/"
        },
        "id": "hFeoj8lwN6ji",
        "outputId": "3a63f9fb-6392-4239-9722-22f3839a5ab4"
      },
      "outputs": [
        {
          "name": "stdout",
          "output_type": "stream",
          "text": [
            "[ 8.26896303  7.80499035 -0.10373519  4.5910001   6.88725274  1.59410811\n",
            "  2.35512483  8.0623476   1.72415002  3.53713054  0.6324586   9.86752845\n",
            "  9.43037004 16.93741658 18.24537235  1.65750426  1.70187606 -0.64660717\n",
            "  7.25494999  3.39769372  1.6585457   0.11316128  6.66222016  0.2768868\n",
            " 20.66780763  5.47501303  6.05587139  9.84868106 -0.65326652  9.93266416\n",
            "  6.72851251 -0.29425171 10.39747097 14.48835483  1.70083377  0.73634118\n",
            "  2.25453683  6.37570352 -0.71507088 -0.36129277  6.8083341   1.96274355\n",
            "  8.60448104 -0.79781122 15.32067065  8.39541208  8.43742252  1.41818555\n",
            " 13.00237268  1.28988758 28.93275959  5.88819725 17.04972357 19.1125176\n",
            " 13.71477759 16.09820311  0.99493652  9.16486312  3.91448039 14.57731138\n",
            "  5.50092909]\n"
          ]
        }
      ],
      "source": [
        "print(pred_y) # predicted output for the Fire Weather Index"
      ]
    },
    {
      "cell_type": "code",
      "execution_count": 307,
      "metadata": {
        "colab": {
          "base_uri": "https://localhost:8080/"
        },
        "id": "LQqXkmP9ODju",
        "outputId": "4140bab0-bc2b-4e3b-ef2b-65e262c68a8c"
      },
      "outputs": [
        {
          "name": "stdout",
          "output_type": "stream",
          "text": [
            "24      8.4\n",
            "6       7.2\n",
            "152     0.5\n",
            "232     3.8\n",
            "238     6.5\n",
            "       ... \n",
            "162     0.8\n",
            "178     9.0\n",
            "224     3.9\n",
            "230    15.4\n",
            "154     5.2\n",
            "Name: FWI, Length: 61, dtype: float64\n"
          ]
        }
      ],
      "source": [
        "print(Y_test) # Actual output for Fire Weather Index"
      ]
    },
    {
      "cell_type": "markdown",
      "metadata": {
        "id": "RftdRQJvPozl"
      },
      "source": [
        "**OBSERVATIONS:**\n",
        "\n",
        "\n",
        "From all the above Algorithms, Linear Regression, RidgeRegression and RidgeCV Algorithms are the best suited for the model . This is because:\n",
        "\n",
        "(i) it's R2 Score value is very high.\n",
        "\n",
        "(ii) it's mean absolute error value is very low."
      ]
    },
    {
      "cell_type": "markdown",
      "metadata": {
        "id": "NmOHMB3ESDxs"
      },
      "source": [
        "**Pickle the Machine Learning Model, preprocessing Standard Scaler Model:**"
      ]
    },
    {
      "cell_type": "code",
      "execution_count": 308,
      "metadata": {
        "id": "w9yin3loSSRV"
      },
      "outputs": [],
      "source": [
        "import pickle\n",
        "\n",
        "pickle.dump(sc, open('sc.pkl','wb'))\n",
        "\n",
        "pickle.dump(lin, open('ridge.pkl','wb'))"
      ]
    },
    {
      "cell_type": "code",
      "execution_count": 309,
      "metadata": {
        "id": "Ard-1VXqSljX"
      },
      "outputs": [],
      "source": [
        "# load the model from the file\n",
        "\n",
        "load_pickle_scalar = pickle.load(open('sc.pkl','rb'))"
      ]
    },
    {
      "cell_type": "code",
      "execution_count": 310,
      "metadata": {
        "colab": {
          "base_uri": "https://localhost:8080/"
        },
        "id": "8C2BKJ4kUQGU",
        "outputId": "f989c967-6bcc-4b90-d930-b40b7d6e3cb8"
      },
      "outputs": [
        {
          "name": "stdout",
          "output_type": "stream",
          "text": [
            "StandardScaler()\n"
          ]
        }
      ],
      "source": [
        "print(load_pickle_scalar)"
      ]
    },
    {
      "cell_type": "code",
      "execution_count": 311,
      "metadata": {
        "id": "klC_qjPcUUNT"
      },
      "outputs": [],
      "source": [
        "load_pickle_ridge = pickle.load(open('ridge.pkl','rb'))"
      ]
    },
    {
      "cell_type": "code",
      "execution_count": 312,
      "metadata": {
        "colab": {
          "base_uri": "https://localhost:8080/"
        },
        "id": "Hl3RobOCUhvZ",
        "outputId": "b675bbcc-b58d-4cfe-96e5-f7d120934d03"
      },
      "outputs": [
        {
          "name": "stdout",
          "output_type": "stream",
          "text": [
            "LinearRegression()\n"
          ]
        }
      ],
      "source": [
        "print(load_pickle_ridge)"
      ]
    }
  ],
  "metadata": {
    "colab": {
      "provenance": []
    },
    "kernelspec": {
      "display_name": "Python 3.8.10 64-bit",
      "language": "python",
      "name": "python3"
    },
    "language_info": {
      "codemirror_mode": {
        "name": "ipython",
        "version": 3
      },
      "file_extension": ".py",
      "mimetype": "text/x-python",
      "name": "python",
      "nbconvert_exporter": "python",
      "pygments_lexer": "ipython3",
      "version": "3.8.10"
    },
    "vscode": {
      "interpreter": {
        "hash": "e7370f93d1d0cde622a1f8e1c04877d8463912d04d973331ad4851f04de6915a"
      }
    }
  },
  "nbformat": 4,
  "nbformat_minor": 0
}
